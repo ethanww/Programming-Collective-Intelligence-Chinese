{
 "cells": [
  {
   "cell_type": "markdown",
   "metadata": {},
   "source": [
    "## 协作型过滤\n",
    "通常的做法是对一大群人进行搜索，找出与我们品味相近的一群人"
   ]
  },
  {
   "cell_type": "markdown",
   "metadata": {},
   "source": [
    "## 搜集偏好\n",
    "我们用**嵌套的字典**表示不同人及其偏好的方法"
   ]
  },
  {
   "cell_type": "code",
   "execution_count": 2,
   "metadata": {
    "collapsed": false
   },
   "outputs": [],
   "source": [
    "critics={'Lisa Rose': {'Lady in the Water': 2.5, 'Snakes on a Plane': 3.5,\n",
    " 'Just My Luck': 3.0, 'Superman Returns': 3.5, 'You, Me and Dupree': 2.5, \n",
    " 'The Night Listener': 3.0},\n",
    "'Gene Seymour': {'Lady in the Water': 3.0, 'Snakes on a Plane': 3.5, \n",
    " 'Just My Luck': 1.5, 'Superman Returns': 5.0, 'The Night Listener': 3.0, \n",
    " 'You, Me and Dupree': 3.5}, \n",
    "'Michael Phillips': {'Lady in the Water': 2.5, 'Snakes on a Plane': 3.0,\n",
    " 'Superman Returns': 3.5, 'The Night Listener': 4.0},\n",
    "'Claudia Puig': {'Snakes on a Plane': 3.5, 'Just My Luck': 3.0,\n",
    " 'The Night Listener': 4.5, 'Superman Returns': 4.0, \n",
    " 'You, Me and Dupree': 2.5},\n",
    "'Mick LaSalle': {'Lady in the Water': 3.0, 'Snakes on a Plane': 4.0, \n",
    " 'Just My Luck': 2.0, 'Superman Returns': 3.0, 'The Night Listener': 3.0,\n",
    " 'You, Me and Dupree': 2.0}, \n",
    "'Jack Matthews': {'Lady in the Water': 3.0, 'Snakes on a Plane': 4.0,\n",
    " 'The Night Listener': 3.0, 'Superman Returns': 5.0, 'You, Me and Dupree': 3.5},\n",
    "'Toby': {'Snakes on a Plane':4.5,'You, Me and Dupree':1.0,'Superman Returns':4.0}}"
   ]
  },
  {
   "cell_type": "markdown",
   "metadata": {},
   "source": [
    "可以很容易的对字典进行查询和修改"
   ]
  },
  {
   "cell_type": "code",
   "execution_count": 3,
   "metadata": {
    "collapsed": false
   },
   "outputs": [
    {
     "data": {
      "text/plain": [
       "2.5"
      ]
     },
     "execution_count": 3,
     "metadata": {},
     "output_type": "execute_result"
    }
   ],
   "source": [
    "critics['Lisa Rose']['Lady in the Water']"
   ]
  },
  {
   "cell_type": "code",
   "execution_count": 4,
   "metadata": {
    "collapsed": false
   },
   "outputs": [
    {
     "data": {
      "text/plain": [
       "{'Snakes on a Plane': 4.5, 'Superman Returns': 4.0, 'You, Me and Dupree': 1.0}"
      ]
     },
     "execution_count": 4,
     "metadata": {},
     "output_type": "execute_result"
    }
   ],
   "source": [
    "critics['Toby']"
   ]
  },
  {
   "cell_type": "markdown",
   "metadata": {},
   "source": [
    "## 寻找相近的用户\n",
    "我们需要一种方法来确定人们在品味方面的相似度。\n",
    "\n",
    "我们可以将每个人与其它人进行对比，计算他们的相似度评价值。\n",
    "\n",
    "这可以通过很多种方式，这里介绍两种：\n",
    "- 欧几里得距离\n",
    "- 皮尔逊相关度"
   ]
  },
  {
   "cell_type": "markdown",
   "metadata": {},
   "source": [
    "### 欧几里得距离\n",
    "具体的解释可以参见[维基百科](https://www.wikiwand.com/zh-hans/%E6%AC%A7%E5%87%A0%E9%87%8C%E5%BE%97%E8%B7%9D%E7%A6%BB)"
   ]
  },
  {
   "cell_type": "code",
   "execution_count": 5,
   "metadata": {
    "collapsed": true
   },
   "outputs": [],
   "source": [
    "from math import sqrt\n",
    "\n",
    "# 返回一个有关person1和person2的基于距离的相似度评价\n",
    "def sim_distance(prefs,person1,person2):\n",
    "    si={}\n",
    "    for item in prefs[person1]: \n",
    "        if item in prefs[person2]: si[item]=1\n",
    "\n",
    "    # 如果两者没有共同之处，返回0\n",
    "    if len(si)==0: \n",
    "        return 0\n",
    "\n",
    "    # 计算所有差值的平方和\n",
    "    sum_of_squares=sum([pow(prefs[person1][item]-prefs[person2][item],2) for item in prefs[person1] if item in prefs[person2]])\n",
    "\n",
    "    return 1/(1+sum_of_squares)"
   ]
  },
  {
   "cell_type": "code",
   "execution_count": 6,
   "metadata": {
    "collapsed": false
   },
   "outputs": [
    {
     "data": {
      "text/plain": [
       "0.14814814814814814"
      ]
     },
     "execution_count": 6,
     "metadata": {},
     "output_type": "execute_result"
    }
   ],
   "source": [
    "sim_distance(critics,'Lisa Rose','Gene Seymour')"
   ]
  },
  {
   "cell_type": "markdown",
   "metadata": {},
   "source": [
    "### 皮尔逊相关度\n",
    "是判断数据与某一直线拟合程度的度量。在数据不是很规范（例如，影评者对影片的评价总是相对平均水平偏差很大），会倾向于给出更号的结果\n",
    "\n",
    "![](https://sfault-image.b0.upaiyun.com/91/40/91408e2911e430ab46edbc49b343d7b9_articlex)\n",
    "\n",
    "具体可以参加[维基百科](https://www.wikiwand.com/zh-hans/%E7%9A%AE%E5%B0%94%E9%80%8A%E7%A7%AF%E7%9F%A9%E7%9B%B8%E5%85%B3%E7%B3%BB%E6%95%B0)"
   ]
  },
  {
   "cell_type": "code",
   "execution_count": 7,
   "metadata": {
    "collapsed": true
   },
   "outputs": [],
   "source": [
    "def sim_pearson(prefs,p1,p2):\n",
    "    # 得到双方都评价过的列表\n",
    "    si={}\n",
    "    for item in prefs[p1]: \n",
    "        if item in prefs[p2]: si[item]=1\n",
    "\n",
    "    #  如果两者列表的没有共同之处，返回1\n",
    "    if len(si)==0: \n",
    "        return 1\n",
    "\n",
    "    # 得到列表相同之处\n",
    "    n=len(si)\n",
    "  \n",
    "    # 对所有偏好求和\n",
    "    sum1=sum([prefs[p1][it] for it in si])\n",
    "    sum2=sum([prefs[p2][it] for it in si])\n",
    "  \n",
    "    # 求平方和\n",
    "    sum1Sq=sum([pow(prefs[p1][it],2) for it in si])\n",
    "    sum2Sq=sum([pow(prefs[p2][it],2) for it in si])\t\n",
    "  \n",
    "    # 乘积之和\n",
    "    pSum=sum([prefs[p1][it]*prefs[p2][it] for it in si])\n",
    "  \n",
    "    # 计算皮尔逊值\n",
    "    num=pSum-(sum1*sum2/n)\n",
    "    den=sqrt((sum1Sq-pow(sum1,2)/n)*(sum2Sq-pow(sum2,2)/n))\n",
    "    if den==0: \n",
    "        return 0\n",
    "\n",
    "    r=num/den\n",
    "\n",
    "    return r"
   ]
  },
  {
   "cell_type": "code",
   "execution_count": 8,
   "metadata": {
    "collapsed": false
   },
   "outputs": [
    {
     "data": {
      "text/plain": [
       "0.39605901719066977"
      ]
     },
     "execution_count": 8,
     "metadata": {},
     "output_type": "execute_result"
    }
   ],
   "source": [
    "sim_pearson(critics,'Lisa Rose','Gene Seymour')"
   ]
  },
  {
   "cell_type": "markdown",
   "metadata": {},
   "source": [
    "## 为评论者打分\n",
    "找出与指定人员最相近的n个人"
   ]
  },
  {
   "cell_type": "code",
   "execution_count": 9,
   "metadata": {
    "collapsed": true
   },
   "outputs": [],
   "source": [
    "def topMatches(prefs,person,n=5,similarity=sim_pearson):\n",
    "  scores=[(similarity(prefs,person,other),other) \n",
    "                  for other in prefs if other!=person]\n",
    "  scores.sort()\n",
    "  scores.reverse()\n",
    "  return scores[0:n]"
   ]
  },
  {
   "cell_type": "code",
   "execution_count": 10,
   "metadata": {
    "collapsed": false
   },
   "outputs": [
    {
     "data": {
      "text/plain": [
       "[(0.9912407071619299, 'Toby'),\n",
       " (0.7470178808339965, 'Jack Matthews'),\n",
       " (0.5940885257860044, 'Mick LaSalle')]"
      ]
     },
     "execution_count": 10,
     "metadata": {},
     "output_type": "execute_result"
    }
   ],
   "source": [
    "topMatches(critics,'Lisa Rose',n=3)"
   ]
  },
  {
   "cell_type": "markdown",
   "metadata": {},
   "source": [
    "## 推荐物品\n",
    "一般情况下，我们不是要得到趣味相投的影评者，而是要得到一份影片的推荐。\n",
    "\n",
    "我们通过一个经过加权的评价值来对影片打分。"
   ]
  },
  {
   "cell_type": "code",
   "execution_count": 15,
   "metadata": {
    "collapsed": false
   },
   "outputs": [],
   "source": [
    "def getRecommendations(prefs,person,similarity=sim_pearson):\n",
    "    totals={}\n",
    "    simSums={}\n",
    "    for other in prefs:\n",
    "    # 不和自己做比较\n",
    "        if other==person: \n",
    "            continue\n",
    "        sim=similarity(prefs,person,other)\n",
    "\n",
    "    # 忽略评价值为零或者小与零的情况\n",
    "        if sim<=0: \n",
    "            continue\n",
    "        for item in prefs[other]:\n",
    "            if item not in prefs[person] or prefs[person][item]==0:\n",
    "                # 相似度乘以评分\n",
    "                totals.setdefault(item , 0)\n",
    "                totals[item]+=prefs[other][item]*sim\n",
    "                # 相似度之和\n",
    "                simSums.setdefault(item,0)\n",
    "                simSums[item]+=sim\n",
    "\n",
    "    rankings=[(total/simSums[item],item) for item,total in totals.items()]\n",
    "\n",
    "    rankings.sort()\n",
    "    rankings.reverse()\n",
    "    return rankings"
   ]
  },
  {
   "cell_type": "code",
   "execution_count": 16,
   "metadata": {
    "collapsed": false
   },
   "outputs": [
    {
     "data": {
      "text/plain": [
       "[(3.3477895267131013, 'The Night Listener'),\n",
       " (2.8325499182641614, 'Lady in the Water'),\n",
       " (2.5309807037655645, 'Just My Luck')]"
      ]
     },
     "execution_count": 16,
     "metadata": {},
     "output_type": "execute_result"
    }
   ],
   "source": [
    "getRecommendations(critics,'Toby')"
   ]
  },
  {
   "cell_type": "markdown",
   "metadata": {},
   "source": [
    "## 匹配商品\n",
    "我们能不能知道哪些商品是彼此接近的？\n",
    "\n",
    "和之前人与人的相似度度量方法类似，只要将人员和物品相互调换就行了"
   ]
  },
  {
   "cell_type": "code",
   "execution_count": 17,
   "metadata": {
    "collapsed": true
   },
   "outputs": [],
   "source": [
    "def transformPrefs(prefs):\n",
    "    result={}\n",
    "    for person in prefs:\n",
    "        for item in prefs[person]:\n",
    "            result.setdefault(item,{})\n",
    "      \n",
    "             # 调换物品和人\n",
    "            result[item][person]=prefs[person][item]\n",
    "    return result\n"
   ]
  },
  {
   "cell_type": "code",
   "execution_count": 18,
   "metadata": {
    "collapsed": true
   },
   "outputs": [],
   "source": [
    "movies=transformPrefs(critics)"
   ]
  },
  {
   "cell_type": "code",
   "execution_count": 19,
   "metadata": {
    "collapsed": false
   },
   "outputs": [
    {
     "data": {
      "text/plain": [
       "[(0.6579516949597695, 'You, Me and Dupree'),\n",
       " (0.4879500364742689, 'Lady in the Water'),\n",
       " (0.11180339887498941, 'Snakes on a Plane'),\n",
       " (-0.1798471947990544, 'The Night Listener'),\n",
       " (-0.42289003161103106, 'Just My Luck')]"
      ]
     },
     "execution_count": 19,
     "metadata": {},
     "output_type": "execute_result"
    }
   ],
   "source": [
    "topMatches(movies,'Superman Returns')"
   ]
  },
  {
   "cell_type": "markdown",
   "metadata": {},
   "source": [
    "我们还可以通过影片推荐评论者"
   ]
  },
  {
   "cell_type": "code",
   "execution_count": 20,
   "metadata": {
    "collapsed": false
   },
   "outputs": [
    {
     "data": {
      "text/plain": [
       "[(4.0, 'Michael Phillips'), (3.0, 'Jack Matthews')]"
      ]
     },
     "execution_count": 20,
     "metadata": {},
     "output_type": "execute_result"
    }
   ],
   "source": [
    "getRecommendations(movies,'Just My Luck')"
   ]
  },
  {
   "cell_type": "markdown",
   "metadata": {},
   "source": [
    "## 基于物品的过滤\n",
    "对于大型的网站，将一个用户和其它所有用户进行比较，速度太慢了。这是无法忍受的。\n",
    "\n",
    "我们可以采用**基于物品的过滤**方式。\n",
    "\n",
    "其具体的思想是：\n",
    "- 为每件物品预先计算好最近的其它物品\n",
    "- 如果想为用户A推荐时，找出其好评的电影，比如说10部。\n",
    "- 找出这10部电影的相似电影，通过评分和相似度相乘的和，再处于相似度的和，这样来找出\"最可能喜欢\"的电影\n",
    "\n",
    "它的不同之处在于：**物品间的比较不会像用户比较那么频繁**"
   ]
  },
  {
   "cell_type": "markdown",
   "metadata": {},
   "source": [
    "## 构造物品比较数据集\n",
    "首先编写一个函数，包含相似物品的完整数据集"
   ]
  },
  {
   "cell_type": "code",
   "execution_count": 22,
   "metadata": {
    "collapsed": false
   },
   "outputs": [],
   "source": [
    "def calculateSimilarItems(prefs,n=10):\n",
    "    # 建立字典，给出这些物品所有相近的其他物品\n",
    "    result={}\n",
    "\n",
    "    itemPrefs=transformPrefs(prefs)\n",
    "    c=0\n",
    "    for item in itemPrefs:\n",
    "    # 针对大数据量更新状态\n",
    "        c+=1\n",
    "        if c%100==0: \n",
    "            print(\"%d / %d\" % (c,len(itemPrefs)))\n",
    "        # 寻找最为相近的物品\n",
    "        scores=topMatches(itemPrefs,item,n=n,similarity=sim_distance)\n",
    "        result[item]=scores\n",
    "    return result"
   ]
  },
  {
   "cell_type": "code",
   "execution_count": 25,
   "metadata": {
    "collapsed": true
   },
   "outputs": [],
   "source": [
    "itemsim=calculateSimilarItems(critics)"
   ]
  },
  {
   "cell_type": "markdown",
   "metadata": {},
   "source": [
    "## 获得推荐\n"
   ]
  },
  {
   "cell_type": "code",
   "execution_count": 26,
   "metadata": {
    "collapsed": true
   },
   "outputs": [],
   "source": [
    "def getRecommendedItems(prefs,itemMatch,user):\n",
    "    userRatings=prefs[user]\n",
    "    scores={}\n",
    "    totalSim={}\n",
    "    # 循环遍历由当前用户评分的物品\n",
    "    for (item,rating) in userRatings.items( ):\n",
    "\n",
    "        # 循环遍历与当前物品相近的物品\n",
    "        for (similarity,item2) in itemMatch[item]:\n",
    "\n",
    "            if item2 in userRatings: continue\n",
    "            # 评价值和相似度加权\n",
    "            scores.setdefault(item2,0)\n",
    "            scores[item2]+=similarity*rating\n",
    "            # 全部相似度之和\n",
    "            totalSim.setdefault(item2,0)\n",
    "            totalSim[item2]+=similarity\n",
    "\n",
    "    # 将每个合计值除以加权值，求出平均值\n",
    "    rankings=[(score/totalSim[item],item) for item,score in scores.items( )]\n",
    "\n",
    "    # 排序\n",
    "    rankings.sort( )\n",
    "    rankings.reverse( )\n",
    "    return rankings"
   ]
  },
  {
   "cell_type": "code",
   "execution_count": 27,
   "metadata": {
    "collapsed": false
   },
   "outputs": [
    {
     "data": {
      "text/plain": [
       "[(3.1826347305389224, 'The Night Listener'),\n",
       " (2.5983318700614575, 'Just My Luck'),\n",
       " (2.4730878186968837, 'Lady in the Water')]"
      ]
     },
     "execution_count": 27,
     "metadata": {},
     "output_type": "execute_result"
    }
   ],
   "source": [
    "getRecommendedItems(critics,itemsim,'Toby')"
   ]
  },
  {
   "cell_type": "markdown",
   "metadata": {},
   "source": [
    "## 使用MovieLens数据集\n",
    "这里使用明尼苏达大学的涉及电影评价的真实数据集\n",
    "\n",
    "下载地址：[ml-100k.zip](http://files.grouplens.org/datasets/movielens/ml-100k.zip)\n",
    "\n",
    "100,000 ratings from 1000 users on 1700 movies"
   ]
  },
  {
   "cell_type": "code",
   "execution_count": 29,
   "metadata": {
    "collapsed": true
   },
   "outputs": [],
   "source": [
    "def loadMovieLens(path='data'):\n",
    "    # 获取影片标题\n",
    "    movies={}\n",
    "    for line in open(path+'/u.item'):\n",
    "        (id,title)=line.split('|')[0:2]\n",
    "        movies[id]=title\n",
    "  \n",
    "    # 加载数据\n",
    "    prefs={}\n",
    "    for line in open(path+'/u.data'):\n",
    "        (user,movieid,rating,ts)=line.split('\\t')\n",
    "        prefs.setdefault(user,{})\n",
    "        prefs[user][movies[movieid]]=float(rating)\n",
    "    return prefs"
   ]
  },
  {
   "cell_type": "code",
   "execution_count": 31,
   "metadata": {
    "collapsed": false
   },
   "outputs": [],
   "source": [
    "prefs=loadMovieLens()"
   ]
  },
  {
   "cell_type": "code",
   "execution_count": 32,
   "metadata": {
    "collapsed": false
   },
   "outputs": [
    {
     "data": {
      "text/plain": [
       "{'2001: A Space Odyssey (1968)': 5.0,\n",
       " 'Ace Ventura: Pet Detective (1994)': 4.0,\n",
       " 'Addams Family Values (1993)': 2.0,\n",
       " 'Addicted to Love (1997)': 4.0,\n",
       " 'Adventures of Priscilla, Queen of the Desert, The (1994)': 3.0,\n",
       " 'Adventures of Robin Hood, The (1938)': 5.0,\n",
       " 'Air Force One (1997)': 3.0,\n",
       " 'Air Up There, The (1994)': 3.0,\n",
       " 'Alien (1979)': 4.0,\n",
       " 'American President, The (1995)': 5.0,\n",
       " 'Annie Hall (1977)': 4.0,\n",
       " 'Apocalypse Now (1979)': 4.0,\n",
       " 'Babe (1995)': 5.0,\n",
       " 'Baby-Sitters Club, The (1995)': 2.0,\n",
       " 'Back to the Future (1985)': 5.0,\n",
       " 'Bad Boys (1995)': 4.0,\n",
       " 'Bananas (1971)': 5.0,\n",
       " 'Barcelona (1994)': 3.0,\n",
       " 'Batman & Robin (1997)': 4.0,\n",
       " 'Batman (1989)': 3.0,\n",
       " 'Batman Returns (1992)': 3.0,\n",
       " 'Big Green, The (1995)': 3.0,\n",
       " 'Big Squeeze, The (1996)': 2.0,\n",
       " 'Birdcage, The (1996)': 4.0,\n",
       " 'Blade Runner (1982)': 4.0,\n",
       " 'Blues Brothers, The (1980)': 5.0,\n",
       " 'Boomerang (1992)': 3.0,\n",
       " 'Boot, Das (1981)': 4.0,\n",
       " 'Brady Bunch Movie, The (1995)': 2.0,\n",
       " 'Braveheart (1995)': 4.0,\n",
       " 'Bridge on the River Kwai, The (1957)': 5.0,\n",
       " 'Broken Arrow (1996)': 3.0,\n",
       " 'Butch Cassidy and the Sundance Kid (1969)': 5.0,\n",
       " 'Citizen Kane (1941)': 4.0,\n",
       " \"City Slickers II: The Legend of Curly's Gold (1994)\": 3.0,\n",
       " 'Clear and Present Danger (1994)': 5.0,\n",
       " 'Cliffhanger (1993)': 3.0,\n",
       " 'Clockwork Orange, A (1971)': 4.0,\n",
       " 'Clueless (1995)': 4.0,\n",
       " 'Con Air (1997)': 4.0,\n",
       " 'Conan the Barbarian (1981)': 3.0,\n",
       " 'Coneheads (1993)': 4.0,\n",
       " 'Cool Hand Luke (1967)': 5.0,\n",
       " 'Cops and Robbersons (1994)': 3.0,\n",
       " 'Cowboy Way, The (1994)': 3.0,\n",
       " 'Crow, The (1994)': 3.0,\n",
       " 'Dances with Wolves (1990)': 5.0,\n",
       " \"Dante's Peak (1997)\": 3.0,\n",
       " 'Dave (1993)': 4.0,\n",
       " 'Days of Thunder (1990)': 5.0,\n",
       " 'Dead Man Walking (1995)': 4.0,\n",
       " 'Dead Poets Society (1989)': 5.0,\n",
       " 'Deer Hunter, The (1978)': 3.0,\n",
       " 'Demolition Man (1993)': 3.0,\n",
       " 'Desperado (1995)': 3.0,\n",
       " 'Die Hard (1988)': 4.0,\n",
       " 'Die Hard: With a Vengeance (1995)': 4.0,\n",
       " 'Down Periscope (1996)': 4.0,\n",
       " 'Dragonheart (1996)': 4.0,\n",
       " 'Dumb & Dumber (1994)': 4.0,\n",
       " 'Dunston Checks In (1996)': 1.0,\n",
       " 'E.T. the Extra-Terrestrial (1982)': 3.0,\n",
       " 'Ed Wood (1994)': 3.0,\n",
       " 'Empire Strikes Back, The (1980)': 5.0,\n",
       " 'Endless Summer 2, The (1994)': 3.0,\n",
       " 'Evil Dead II (1987)': 2.0,\n",
       " 'Executive Decision (1996)': 3.0,\n",
       " 'Fargo (1996)': 5.0,\n",
       " 'First Wives Club, The (1996)': 2.0,\n",
       " 'Fish Called Wanda, A (1988)': 5.0,\n",
       " 'Forget Paris (1995)': 4.0,\n",
       " 'Four Weddings and a Funeral (1994)': 5.0,\n",
       " 'French Kiss (1995)': 5.0,\n",
       " 'Fugitive, The (1993)': 5.0,\n",
       " 'Full Metal Jacket (1987)': 4.0,\n",
       " 'Get Shorty (1995)': 5.0,\n",
       " 'Glory (1989)': 4.0,\n",
       " 'Godfather, The (1972)': 4.0,\n",
       " 'GoldenEye (1995)': 4.0,\n",
       " 'Good, The Bad and The Ugly, The (1966)': 5.0,\n",
       " 'GoodFellas (1990)': 4.0,\n",
       " 'Grease (1978)': 4.0,\n",
       " 'Great White Hype, The (1996)': 3.0,\n",
       " 'Groundhog Day (1993)': 5.0,\n",
       " 'Grumpier Old Men (1995)': 4.0,\n",
       " 'Hard Target (1993)': 4.0,\n",
       " 'Heat (1995)': 3.0,\n",
       " 'Heathers (1989)': 3.0,\n",
       " 'Home Alone (1990)': 4.0,\n",
       " 'Hoop Dreams (1994)': 4.0,\n",
       " 'Hot Shots! Part Deux (1993)': 4.0,\n",
       " 'House Arrest (1996)': 3.0,\n",
       " 'I Love Trouble (1994)': 3.0,\n",
       " 'I.Q. (1994)': 5.0,\n",
       " 'In the Army Now (1994)': 4.0,\n",
       " 'In the Line of Fire (1993)': 5.0,\n",
       " 'Independence Day (ID4) (1996)': 5.0,\n",
       " 'Indiana Jones and the Last Crusade (1989)': 5.0,\n",
       " 'Inkwell, The (1994)': 3.0,\n",
       " \"It's a Wonderful Life (1946)\": 5.0,\n",
       " 'Jack (1996)': 3.0,\n",
       " 'Jeffrey (1995)': 3.0,\n",
       " 'Jimmy Hollywood (1994)': 3.0,\n",
       " \"Joe's Apartment (1996)\": 2.0,\n",
       " 'Junior (1994)': 4.0,\n",
       " 'Jurassic Park (1993)': 5.0,\n",
       " 'Kingpin (1996)': 4.0,\n",
       " 'Lightning Jack (1994)': 3.0,\n",
       " 'Lost World: Jurassic Park, The (1997)': 3.0,\n",
       " 'Low Down Dirty Shame, A (1994)': 3.0,\n",
       " 'M*A*S*H (1970)': 5.0,\n",
       " 'Magnificent Seven, The (1954)': 5.0,\n",
       " 'Major Payne (1994)': 3.0,\n",
       " 'Man of the House (1995)': 3.0,\n",
       " 'Manchurian Candidate, The (1962)': 4.0,\n",
       " 'Mars Attacks! (1996)': 3.0,\n",
       " 'Mask, The (1994)': 3.0,\n",
       " 'Matilda (1996)': 3.0,\n",
       " 'Maverick (1994)': 3.0,\n",
       " 'Michael (1996)': 4.0,\n",
       " 'Mighty Aphrodite (1995)': 3.0,\n",
       " 'Milk Money (1994)': 4.0,\n",
       " 'Mission: Impossible (1996)': 4.0,\n",
       " \"Monty Python's Life of Brian (1979)\": 4.0,\n",
       " 'Mother (1996)': 2.0,\n",
       " 'Mrs. Doubtfire (1993)': 4.0,\n",
       " 'Multiplicity (1996)': 3.0,\n",
       " 'Muppet Treasure Island (1996)': 3.0,\n",
       " 'My Favorite Year (1982)': 3.0,\n",
       " 'Naked Gun 33 1/3: The Final Insult (1994)': 4.0,\n",
       " 'Net, The (1995)': 5.0,\n",
       " 'Nine Months (1995)': 4.0,\n",
       " 'Nutty Professor, The (1996)': 4.0,\n",
       " 'Platoon (1986)': 3.0,\n",
       " 'Prefontaine (1997)': 5.0,\n",
       " 'Private Benjamin (1980)': 4.0,\n",
       " 'Professional, The (1994)': 4.0,\n",
       " 'Program, The (1993)': 3.0,\n",
       " 'Pulp Fiction (1994)': 4.0,\n",
       " \"Pyromaniac's Love Story, A (1995)\": 3.0,\n",
       " 'Quiet Man, The (1952)': 5.0,\n",
       " 'Raging Bull (1980)': 3.0,\n",
       " 'Raiders of the Lost Ark (1981)': 5.0,\n",
       " 'Raising Arizona (1987)': 3.0,\n",
       " 'Reality Bites (1994)': 3.0,\n",
       " 'Renaissance Man (1994)': 5.0,\n",
       " 'Return of the Jedi (1983)': 5.0,\n",
       " 'Return of the Pink Panther, The (1974)': 4.0,\n",
       " 'River Wild, The (1994)': 4.0,\n",
       " 'Sabrina (1995)': 4.0,\n",
       " 'Santa Clause, The (1994)': 4.0,\n",
       " \"Schindler's List (1993)\": 4.0,\n",
       " 'Searching for Bobby Fischer (1993)': 4.0,\n",
       " 'Serial Mom (1994)': 1.0,\n",
       " 'Shadow, The (1994)': 3.0,\n",
       " 'Shawshank Redemption, The (1994)': 5.0,\n",
       " \"Singin' in the Rain (1952)\": 4.0,\n",
       " 'Sleeper (1973)': 4.0,\n",
       " 'Sleepers (1996)': 4.0,\n",
       " 'Sleepless in Seattle (1993)': 5.0,\n",
       " 'Sneakers (1992)': 4.0,\n",
       " 'So I Married an Axe Murderer (1993)': 2.0,\n",
       " 'Something to Talk About (1995)': 2.0,\n",
       " 'Son in Law (1993)': 4.0,\n",
       " 'Speechless (1994)': 4.0,\n",
       " 'Speed (1994)': 5.0,\n",
       " 'Speed 2: Cruise Control (1997)': 3.0,\n",
       " 'Star Trek III: The Search for Spock (1984)': 4.0,\n",
       " 'Star Trek IV: The Voyage Home (1986)': 5.0,\n",
       " 'Star Trek: First Contact (1996)': 4.0,\n",
       " 'Star Trek: The Motion Picture (1979)': 3.0,\n",
       " 'Star Trek: The Wrath of Khan (1982)': 5.0,\n",
       " 'Star Wars (1977)': 5.0,\n",
       " 'Stargate (1994)': 5.0,\n",
       " 'Sting, The (1973)': 5.0,\n",
       " 'Strange Days (1995)': 3.0,\n",
       " 'Strictly Ballroom (1992)': 3.0,\n",
       " 'Striptease (1996)': 2.0,\n",
       " 'Supercop (1992)': 3.0,\n",
       " 'Swimming with Sharks (1995)': 3.0,\n",
       " 'Switchblade Sisters (1975)': 2.0,\n",
       " 'Terminator 2: Judgment Day (1991)': 5.0,\n",
       " 'Terminator, The (1984)': 5.0,\n",
       " 'That Old Feeling (1997)': 4.0,\n",
       " 'That Thing You Do! (1996)': 4.0,\n",
       " 'This Is Spinal Tap (1984)': 5.0,\n",
       " 'To Die For (1995)': 3.0,\n",
       " 'To Kill a Mockingbird (1962)': 4.0,\n",
       " 'To Wong Foo, Thanks for Everything! Julie Newmar (1995)': 3.0,\n",
       " 'Tommy Boy (1995)': 4.0,\n",
       " 'Top Gun (1986)': 5.0,\n",
       " 'Treasure of the Sierra Madre, The (1948)': 4.0,\n",
       " 'True Lies (1994)': 5.0,\n",
       " 'Truth About Cats & Dogs, The (1996)': 4.0,\n",
       " 'Twelve Monkeys (1995)': 4.0,\n",
       " 'Twister (1996)': 4.0,\n",
       " \"Ulee's Gold (1997)\": 3.0,\n",
       " 'Under Siege (1992)': 4.0,\n",
       " 'Up in Smoke (1978)': 3.0,\n",
       " 'Vegas Vacation (1997)': 4.0,\n",
       " 'Victor/Victoria (1982)': 4.0,\n",
       " 'Waterworld (1995)': 4.0,\n",
       " \"Weekend at Bernie's (1989)\": 3.0,\n",
       " 'When Harry Met Sally... (1989)': 5.0,\n",
       " 'While You Were Sleeping (1995)': 5.0,\n",
       " 'Wizard of Oz, The (1939)': 5.0,\n",
       " 'Wyatt Earp (1994)': 3.0,\n",
       " 'Young Frankenstein (1974)': 5.0,\n",
       " 'Young Guns (1988)': 3.0,\n",
       " 'Young Guns II (1990)': 2.0}"
      ]
     },
     "execution_count": 32,
     "metadata": {},
     "output_type": "execute_result"
    }
   ],
   "source": [
    "prefs['87']"
   ]
  },
  {
   "cell_type": "markdown",
   "metadata": {},
   "source": [
    "我们可以基于用户推荐"
   ]
  },
  {
   "cell_type": "code",
   "execution_count": 35,
   "metadata": {
    "collapsed": false
   },
   "outputs": [
    {
     "data": {
      "text/plain": [
       "[(5.0, 'They Made Me a Criminal (1939)'),\n",
       " (5.0, 'Star Kid (1997)'),\n",
       " (5.0, 'Santa with Muscles (1996)'),\n",
       " (5.0, 'Saint of Fort Washington, The (1993)'),\n",
       " (5.0, 'Marlene Dietrich: Shadow and Light (1996) '),\n",
       " (5.0, 'Great Day in Harlem, A (1994)'),\n",
       " (5.0, 'Entertaining Angels: The Dorothy Day Story (1996)'),\n",
       " (5.0, 'Boys, Les (1997)'),\n",
       " (4.89884443128923, 'Legal Deceit (1997)'),\n",
       " (4.815019082242709, 'Letter From Death Row, A (1998)'),\n",
       " (4.800260666069043, 'Mrs. Dalloway (1997)'),\n",
       " (4.771240079753504, 'Leading Man, The (1996)'),\n",
       " (4.7321082983941425, 'Hearts and Minds (1996)'),\n",
       " (4.707354190896574, 'Dangerous Beauty (1998)'),\n",
       " (4.696244466490867, 'Pather Panchali (1955)'),\n",
       " (4.652397061026759, 'Lamerica (1994)'),\n",
       " (4.532337612572981, 'Innocents, The (1961)'),\n",
       " (4.5279985747470795, 'Casablanca (1942)'),\n",
       " (4.512903125553783, 'Four Days in September (1997)'),\n",
       " (4.510270149719864, 'Everest (1998)'),\n",
       " (4.485151301801342, 'Wallace & Gromit: The Best of Aardman Animation (1996)'),\n",
       " (4.463287461290223, 'Wrong Trousers, The (1993)'),\n",
       " (4.450979436941035, 'Kaspar Hauser (1993)'),\n",
       " (4.431079071179518, 'Usual Suspects, The (1995)'),\n",
       " (4.427520682864959, 'Maya Lin: A Strong Clear Vision (1994)'),\n",
       " (4.414870784592075, 'Wedding Gift, The (1994)'),\n",
       " (4.407740300866055, 'Duoluo tianshi (1995)'),\n",
       " (4.393353032192905, 'Close Shave, A (1995)'),\n",
       " (4.377445252656463, 'Affair to Remember, An (1957)'),\n",
       " (4.374146179500976, 'Anna (1996)')]"
      ]
     },
     "execution_count": 35,
     "metadata": {},
     "output_type": "execute_result"
    }
   ],
   "source": [
    "getRecommendations(prefs,'87')[0:30]"
   ]
  },
  {
   "cell_type": "markdown",
   "metadata": {},
   "source": [
    "改为基于物品的推荐"
   ]
  },
  {
   "cell_type": "code",
   "execution_count": 36,
   "metadata": {
    "collapsed": false
   },
   "outputs": [
    {
     "name": "stdout",
     "output_type": "stream",
     "text": [
      "100 / 1664\n",
      "200 / 1664\n",
      "300 / 1664\n",
      "400 / 1664\n",
      "500 / 1664\n",
      "600 / 1664\n",
      "700 / 1664\n",
      "800 / 1664\n",
      "900 / 1664\n",
      "1000 / 1664\n",
      "1100 / 1664\n",
      "1200 / 1664\n",
      "1300 / 1664\n",
      "1400 / 1664\n",
      "1500 / 1664\n",
      "1600 / 1664\n"
     ]
    }
   ],
   "source": [
    "itemsim=calculateSimilarItems(prefs,n=50)"
   ]
  },
  {
   "cell_type": "code",
   "execution_count": 37,
   "metadata": {
    "collapsed": false
   },
   "outputs": [
    {
     "data": {
      "text/plain": [
       "[(5.0, \"What's Eating Gilbert Grape (1993)\"),\n",
       " (5.0, 'Vertigo (1958)'),\n",
       " (5.0, 'Usual Suspects, The (1995)'),\n",
       " (5.0, 'Toy Story (1995)'),\n",
       " (5.0, 'Titanic (1997)'),\n",
       " (5.0, 'Sword in the Stone, The (1963)'),\n",
       " (5.0, 'Stand by Me (1986)'),\n",
       " (5.0, 'Sling Blade (1996)'),\n",
       " (5.0, 'Silence of the Lambs, The (1991)'),\n",
       " (5.0, 'Shining, The (1980)'),\n",
       " (5.0, 'Shine (1996)'),\n",
       " (5.0, 'Sense and Sensibility (1995)'),\n",
       " (5.0, 'Scream (1996)'),\n",
       " (5.0, 'Rumble in the Bronx (1995)'),\n",
       " (5.0, 'Rock, The (1996)'),\n",
       " (5.0, 'Robin Hood: Prince of Thieves (1991)'),\n",
       " (5.0, 'Reservoir Dogs (1992)'),\n",
       " (5.0, 'Police Story 4: Project S (Chao ji ji hua) (1993)'),\n",
       " (5.0, 'House of the Spirits, The (1993)'),\n",
       " (5.0, 'Fresh (1994)'),\n",
       " (5.0, 'Denise Calls Up (1995)'),\n",
       " (5.0, 'Day the Sun Turned Cold, The (Tianguo niezi) (1994)'),\n",
       " (5.0, 'Before the Rain (Pred dozhdot) (1994)'),\n",
       " (5.0, 'Assignment, The (1997)'),\n",
       " (5.0, '1-900 (1994)'),\n",
       " (4.875, \"Ed's Next Move (1996)\"),\n",
       " (4.833333333333333, 'Anna (1996)'),\n",
       " (4.8, 'Dark City (1998)'),\n",
       " (4.75, 'Flower of My Secret, The (Flor de mi secreto, La) (1995)'),\n",
       " (4.75, 'Broken English (1996)')]"
      ]
     },
     "execution_count": 37,
     "metadata": {},
     "output_type": "execute_result"
    }
   ],
   "source": [
    "getRecommendedItems(prefs,itemsim,'87')[0:30]"
   ]
  },
  {
   "cell_type": "markdown",
   "metadata": {},
   "source": [
    "运行过程中可以发现，时间主要耗费在构造物品的相似度字典上，推荐过程几乎是瞬间完成的"
   ]
  },
  {
   "cell_type": "code",
   "execution_count": null,
   "metadata": {
    "collapsed": true
   },
   "outputs": [],
   "source": []
  }
 ],
 "metadata": {
  "anaconda-cloud": {},
  "kernelspec": {
   "display_name": "Python [default]",
   "language": "python",
   "name": "python3"
  },
  "language_info": {
   "codemirror_mode": {
    "name": "ipython",
    "version": 3
   },
   "file_extension": ".py",
   "mimetype": "text/x-python",
   "name": "python",
   "nbconvert_exporter": "python",
   "pygments_lexer": "ipython3",
   "version": "3.5.2"
  }
 },
 "nbformat": 4,
 "nbformat_minor": 1
}

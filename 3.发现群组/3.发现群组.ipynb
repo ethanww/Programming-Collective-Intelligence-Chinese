{
 "cells": [
  {
   "cell_type": "markdown",
   "metadata": {},
   "source": [
    "## 监督学习和无监督学习\n",
    "本书中涉及的监督学习算法如下：\n",
    "- 神经网络\n",
    "- 决策树\n",
    "- 支持向量机\n",
    "- 贝叶斯过滤\n",
    "\n",
    "涉及到的非监督学习算法如下：\n",
    "- 聚类\n",
    "- 非负矩阵因式分解\n",
    "- 自组织映射\n",
    "\n",
    "本节主要内容即为聚类"
   ]
  },
  {
   "cell_type": "markdown",
   "metadata": {},
   "source": [
    "## 单词向量\n",
    "我们需要一组指定的词汇在每个博客订阅源中出现的次数\n",
    "\n",
    "为此，我们需要下载一系列博客订阅源，从中提取文本，建立一个单词频度表\n",
    "\n",
    "通过`pip install feedparser`下载Universal Feed Parser这个RSS文档解析器。"
   ]
  },
  {
   "cell_type": "code",
   "execution_count": 1,
   "metadata": {
    "collapsed": false
   },
   "outputs": [],
   "source": [
    "import feedparser\n",
    "import re\n",
    "\n",
    "# 返回一个RSS订阅源的标题和包含单词计数情况的字典\n",
    "def getwordcounts(url):\n",
    "    # 解析订阅源\n",
    "    d=feedparser.parse(url)\n",
    "    wc={}\n",
    "    \n",
    "    # 循环遍历所有的文章条目\n",
    "    for e in d.entries:\n",
    "        if 'summary' in e:\n",
    "            summary=e.summary\n",
    "        else:\n",
    "            summary=e.description\n",
    "            \n",
    "        # 提取一个单词列表\n",
    "        words=getwords(e.title+' '+summary)\n",
    "        for word in words:\n",
    "            wc.setdefault(word,0)\n",
    "            wc[word]+=1\n",
    "    return d.feed.title,wc\n",
    "\n",
    "# 将摘要传给函数getwords,把其中所有的HTML标记剥离掉，并以非字母字符作为分隔符拆分出单词，再将结果以列表的形式加以返回\n",
    "def getwords(html):\n",
    "    # 去除所有的HTML标记\n",
    "    txt=re.compile(r'<[^>]+>').sub('',html)\n",
    "    \n",
    "    #利用所有非字母字符拆分出单词\n",
    "    words=re.compile(r'[^A-Z^a-z]+').split(txt)\n",
    "    \n",
    "    #转化成小写形式\n",
    "    return [word.lower() for word in words if words!='']"
   ]
  },
  {
   "cell_type": "markdown",
   "metadata": {
    "collapsed": true
   },
   "source": [
    "循环遍历订阅源（在本地文件夹下）并生成数据集。"
   ]
  },
  {
   "cell_type": "code",
   "execution_count": 2,
   "metadata": {
    "collapsed": false
   },
   "outputs": [
    {
     "name": "stdout",
     "output_type": "stream",
     "text": [
      "Failed to parse feed http://battellemedia.com/index.xml\n",
      "\n",
      "Failed to parse feed http://blog.guykawasaki.com/index.rdf\n",
      "\n",
      "Failed to parse feed http://feeds.searchenginewatch.com/sewblog\n",
      "\n",
      "Failed to parse feed http://blog.topix.net/index.rdf\n",
      "\n",
      "Failed to parse feed http://blogs.abcnews.com/theblotter/index.rdf\n",
      "\n",
      "Failed to parse feed http://feeds.feedburner.com/ConsumingExperienceFull\n",
      "\n",
      "Failed to parse feed http://flagrantdisregard.com/index.php/feed/\n",
      "\n",
      "Failed to parse feed http://featured.gigaom.com/feed/\n",
      "\n",
      "Failed to parse feed http://googleblog.blogspot.com/rss.xml\n",
      "\n",
      "Failed to parse feed http://headrush.typepad.com/creating_passionate_users/index.rdf\n",
      "\n",
      "Failed to parse feed http://feeds.feedburner.com/instapundit/main\n",
      "\n",
      "Failed to parse feed http://jeremy.zawodny.com/blog/rss2.xml\n",
      "\n",
      "Failed to parse feed http://michellemalkin.com/index.rdf\n",
      "\n",
      "Failed to parse feed http://moblogsmoproblems.blogspot.com/rss.xml\n",
      "\n",
      "Failed to parse feed http://beta.blogger.com/feeds/27154654/posts/full?alt=rss\n",
      "\n",
      "Failed to parse feed http://powerlineblog.com/index.rdf\n",
      "\n",
      "Failed to parse feed http://feeds.feedburner.com/Publishing20\n",
      "\n",
      "Failed to parse feed http://scienceblogs.com/pharyngula/index.xml\n",
      "\n",
      "Failed to parse feed http://scobleizer.wordpress.com/feed/\n",
      "\n",
      "Failed to parse feed http://www.bloglines.com/rss/about/news\n",
      "\n",
      "Failed to parse feed http://www.coolhunting.com/index.rdf\n",
      "\n",
      "Failed to parse feed http://feeds.copyblogger.com/Copyblogger\n",
      "\n",
      "Failed to parse feed http://www.downloadsquad.com/rss.xml\n",
      "\n",
      "Failed to parse feed http://www.gapingvoid.com/index.rdf\n",
      "\n",
      "Failed to parse feed http://www.gawker.com/index.xml\n",
      "\n",
      "Failed to parse feed http://www.joystiq.com/rss.xml\n",
      "\n",
      "Failed to parse feed http://littlegreenfootballs.com/weblog/lgf-rss.php\n",
      "\n",
      "Failed to parse feed http://www.makezine.com/blog/index.xml\n",
      "\n",
      "Failed to parse feed http://www.micropersuasion.com/index.rdf\n",
      "\n",
      "Failed to parse feed http://www.readwriteweb.com/rss.xml\n",
      "\n",
      "Failed to parse feed http://scienceblogs.com/sample/combined.xml\n",
      "\n",
      "Failed to parse feed http://www.sifry.com/alerts/index.rdf\n",
      "\n",
      "Failed to parse feed http://www.simplebits.com/xml/rss.xml\n",
      "\n",
      "Failed to parse feed http://www.talkingpointsmemo.com/index.xml\n",
      "\n",
      "Failed to parse feed http://www.techeblog.com/index.php/feed/\n",
      "\n",
      "Failed to parse feed http://www.thesuperficial.com/index.xml\n",
      "\n",
      "Failed to parse feed http://www.treehugger.com/index.rdf\n",
      "\n",
      "Failed to parse feed http://www.valleywag.com/index.xml\n",
      "\n",
      "Failed to parse feed http://www.we-make-money-not-art.com/index.rdf\n",
      "\n",
      "Failed to parse feed http://www.wonkette.com/index.xml\n",
      "\n"
     ]
    }
   ],
   "source": [
    "apcount={}\n",
    "wordcounts={}\n",
    "with open('feedlist.txt','r') as f:\n",
    "    feedlist=[line for line in f.readlines()]\n",
    "#  feedlist=[line for line in file('feedlist.txt')]   \n",
    "# 生成每个博客的单词统计\n",
    "for feedurl in feedlist:\n",
    "    try:\n",
    "        title,wc=getwordcounts(feedurl)\n",
    "        wordcounts[title]=wc\n",
    "        for word,count in wc.items():\n",
    "            apcount.setdefault(word,0)\n",
    "            if count>1:\n",
    "                apcount[word]+=1\n",
    "    except:\n",
    "        print('Failed to parse feed %s' % feedurl)"
   ]
  },
  {
   "cell_type": "markdown",
   "metadata": {},
   "source": [
    "建立一个单词列表。去掉类似“the”这样的单词和“film-flam”这样的生僻单词。\n",
    "\n",
    "我们可以选择10%-50%出现的单词。"
   ]
  },
  {
   "cell_type": "code",
   "execution_count": 3,
   "metadata": {
    "collapsed": true
   },
   "outputs": [],
   "source": [
    "wordlist=[]\n",
    "for w,bc in apcount.items():\n",
    "    frac=float(bc)/len(feedlist)\n",
    "    if frac>0.1 and frac<0.5:\n",
    "        wordlist.append(w)"
   ]
  },
  {
   "cell_type": "markdown",
   "metadata": {},
   "source": [
    "利用上述单词列表和博客列表来建立一个文本文件，其中包含一个大矩阵，记录着针对每个博客的所有单词的统计情况"
   ]
  },
  {
   "cell_type": "code",
   "execution_count": 4,
   "metadata": {
    "collapsed": false
   },
   "outputs": [],
   "source": [
    "with open('blogdata.txt','w') as f:\n",
    "    f.write('Blog')\n",
    "    for word in wordlist:\n",
    "        f.write('\\t%s' %word)\n",
    "    f.write('\\n')\n",
    "    for blog,wc in wordcounts.items():\n",
    "        f.write(blog)\n",
    "        for word in wordlist:\n",
    "            if word in wc:\n",
    "                f.write('\\t%d' %wc[word])\n",
    "            else:\n",
    "                f.write('\\t0')\n",
    "        f.write('\\n')"
   ]
  },
  {
   "cell_type": "markdown",
   "metadata": {},
   "source": [
    "这个时候目录下应该会有一个blogdata.txt文件，我们来看一下（格式比较乱）"
   ]
  },
  {
   "cell_type": "code",
   "execution_count": 5,
   "metadata": {
    "collapsed": false
   },
   "outputs": [
    {
     "name": "stdout",
     "output_type": "stream",
     "text": [
      "Blog\tclose\tever\tblog\twithout\tlist\tpart\tnbsp\twant\tthings\tgot\tjob\tor\tlot\twords\tbefore\tonly\thas\toriginal\tface\ti\tincluding\tcouple\twell\tasked\twas\tname\ttake\tbook\tweek\teach\ttop\taround\tbe\tu\tspecial\tany\toff\tstuff\tcontent\ttimes\telse\tdeal\tso\tjune\tproblem\tpoint\tways\tamazon\twould\texample\tnumber\tpage\tcan\tplace\tclear\tlooks\tend\tcar\tfriends\tstarted\tif\tcreate\tuse\tdoes\tgets\treal\thelp\tfree\tidea\tmay\tsocial\ther\ttold\tve\tgreat\tside\taction\tbad\twhile\tgoing\tavailable\tmuch\tthan\twere\tshow\tsure\tcould\tyear\tfour\tlive\tsaying\tprobably\tmost\twater\tlong\tanother\tmedia\tcheck\tmaybe\tback\tp\talmost\tkind\tduring\tsaid\tlatest\tpossible\tlook\tthey\twho\tyoutube\tsecurity\tturn\tover\tbuilding\tbig\twhen\tleast\tbut\tgoogle\ttook\tcase\tgo\tbehind\teven\tway\tthing\tused\tother\tbeen\tkeep\tsummer\tmonth\ttwo\tespecially\tdown\there\tmake\tthink\tgood\treally\tsupport\temail\tmusic\tpiece\tnight\tput\tsystem\tideas\tits\tgave\tceo\tprocess\tsomething\tchange\tthought\tanything\thours\tjust\tbuy\twhere\tsix\tnext\tsay\tmeans\tperson\tthen\tc\twent\tline\tservice\tseen\tshould\tmy\tlast\tlater\tacross\thim\tby\tdesign\tfind\tbusiness\tbeing\tonce\treason\tdirector\tread\tvideos\tthousands\thealth\tenough\tco\tplay\tview\tmoney\thad\tpretty\teveryone\tdays\talways\tfact\tsince\tinternet\tthem\tb\tre\toffice\tinteresting\ttoo\topen\tinto\tcompany\tabout\tevent\tmore\tless\twill\ttheir\tm\tleft\tweb\tfamily\tseems\tlight\tgovernment\tour\tthree\tthursday\tbest\tset\tsite\tstate\town\tmorning\tdon\tdoesn\tneeds\twebsite\tpresident\tisn\tme\twork\tbetter\tvoice\tpost\tmade\ttakes\ttoday\tunder\tmovie\tnew\tfeel\tfew\taccount\tcome\tbecause\tright\tmajor\tdifferent\tlooking\tcommunity\teverything\tsame\ttrump\tshe\thow\twe\tself\tsome\tone\tactually\tfar\ttell\tcomes\tlocal\tnot\tdriving\tman\tstories\tcare\tgame\tus\tstore\twhether\tknow\tissue\tproject\ttwitter\tboth\tamerican\tdoing\tall\tentire\tdata\trecently\tworld\tphoto\tgoes\tfirst\tdonald\ttalk\tmany\tmight\tpeople\tfeatures\tapp\tfacebook\teasy\tno\tout\tfull\tstory\tthere\talso\taccording\ttogether\tbetween\tthrough\ttry\twhich\tago\thalf\thaving\twhy\tvery\trecent\tbased\tsmall\tappeared\tcalled\tshows\tbit\tnothing\taway\trun\told\tfollowing\tmaking\tteam\tfound\tmakes\tevery\tsomeone\tpublic\tsuch\tare\tthough\tlove\tup\tgetting\tworking\tget\tstart\tpower\tlike\tyour\tmarket\tcom\tfuture\twrote\tll\td\tthose\this\ttrying\tvideo\twon\tnever\twriting\tversion\tfinally\tusing\the\treading\ttv\tdo\tyears\tmonths\tdid\tbelieve\tthese\task\tair\tsecond\thome\talready\tsays\tgroup\tsee\tpay\tafter\twhite\tgiving\tpast\thouse\thard\tagainst\tlet\tquestion\tmillion\tyet\twatch\tnews\toften\tcame\tdidn\trunning\tbecome\timportant\thave\ttech\tam\tsense\tan\tlife\tlittle\tagain\tnow\twhat\tday\te\tuntil\tstop\tcall\thigh\ttechnology\tneed\tgive\tstill\tjohn\ttime\n",
      "\t4\t11\t1\t12\t3\t25\t209\t34\t31\t24\t6\t99\t29\t6\t24\t42\t112\t3\t6\t248\t15\t4\t39\t11\t271\t59\t22\t7\t24\t7\t7\t27\t132\t13\t31\t34\t32\t0\t51\t24\t6\t10\t114\t43\t16\t22\t14\t0\t58\t11\t8\t6\t81\t10\t18\t5\t21\t2\t7\t6\t87\t3\t8\t36\t5\t19\t12\t14\t11\t27\t6\t82\t20\t48\t8\t3\t10\t10\t37\t84\t1\t34\t66\t73\t70\t14\t33\t27\t19\t14\t31\t2\t41\t3\t24\t18\t79\t0\t10\t24\t56\t10\t20\t19\t56\t6\t11\t44\t263\t112\t5\t3\t12\t59\t2\t19\t92\t10\t161\t3\t9\t9\t17\t9\t68\t54\t14\t6\t40\t58\t7\t1\t5\t39\t8\t38\t33\t33\t83\t29\t39\t47\t0\t8\t5\t23\t19\t3\t4\t32\t9\t1\t18\t32\t19\t10\t15\t6\t92\t7\t54\t1\t18\t62\t11\t11\t48\t6\t9\t7\t2\t23\t32\t57\t39\t13\t8\t39\t157\t0\t10\t7\t48\t3\t9\t9\t9\t2\t4\t56\t25\t18\t4\t7\t24\t97\t4\t6\t13\t12\t26\t26\t2\t64\t6\t90\t12\t2\t27\t6\t41\t6\t148\t5\t122\t8\t64\t126\t32\t40\t1\t20\t12\t6\t11\t37\t19\t17\t13\t11\t2\t32\t15\t43\t46\t23\t4\t6\t99\t14\t27\t14\t18\t4\t24\t32\t7\t54\t14\t3\t53\t9\t17\t2\t12\t67\t32\t5\t12\t10\t8\t8\t28\t173\t95\t73\t222\t8\t66\t82\t42\t25\t9\t11\t6\t176\t3\t30\t8\t53\t5\t27\t3\t22\t62\t13\t2\t11\t18\t38\t22\t102\t8\t6\t9\t23\t0\t4\t94\t37\t24\t37\t9\t151\t2\t0\t1\t1\t61\t124\t11\t24\t103\t54\t22\t11\t11\t14\t10\t59\t5\t6\t21\t32\t45\t6\t6\t12\t8\t20\t10\t14\t17\t15\t10\t12\t6\t13\t30\t10\t8\t13\t10\t34\t22\t209\t17\t6\t66\t15\t7\t61\t2\t9\t105\t31\t10\t8\t7\t13\t11\t15\t40\t152\t29\t19\t22\t17\t3\t5\t13\t5\t212\t5\t14\t80\t16\t6\t41\t15\t60\t10\t5\t12\t11\t12\t27\t15\t35\t2\t60\t50\t11\t6\t57\t11\t38\t21\t25\t36\t14\t5\t82\t6\t19\t14\t6\t9\t66\t156\t2\t14\t7\t111\t22\t21\t17\t63\t153\t29\t3\t7\t13\t8\t11\t2\t17\t19\t23\t12\t44\n",
      "PaulStamatiou.com - Technology, Design and Photography\t8\t4\t14\t25\t14\t40\t6\t54\t31\t26\t7\t173\t9\t3\t31\t117\t42\t5\t2\t834\t10\t0\t41\t8\t214\t14\t26\t36\t21\t18\t11\t52\t173\t0\t2\t56\t53\t9\t7\t24\t7\t4\t134\t1\t6\t21\t7\t28\t116\t14\t28\t42\t172\t17\t5\t2\t20\t4\t8\t25\t162\t20\t102\t24\t8\t29\t15\t7\t9\t19\t2\t3\t2\t44\t25\t9\t5\t4\t76\t39\t7\t96\t45\t45\t13\t20\t52\t22\t4\t9\t7\t18\t28\t0\t19\t32\t9\t8\t3\t27\t12\t8\t5\t14\t10\t4\t10\t51\t88\t8\t0\t1\t16\t46\t18\t11\t128\t9\t154\t76\t6\t15\t27\t10\t43\t48\t22\t41\t57\t30\t21\t3\t22\t35\t8\t33\t38\t42\t26\t31\t21\t22\t9\t10\t4\t5\t30\t22\t6\t13\t3\t1\t29\t52\t17\t19\t18\t9\t144\t7\t38\t2\t39\t11\t8\t2\t56\t10\t7\t27\t26\t5\t36\t267\t41\t18\t11\t3\t115\t83\t31\t3\t21\t5\t11\t0\t49\t14\t2\t0\t21\t2\t11\t7\t3\t91\t11\t9\t16\t24\t4\t37\t5\t47\t12\t68\t7\t9\t35\t16\t65\t3\t126\t4\t126\t14\t124\t38\t55\t8\t23\t3\t9\t7\t0\t56\t9\t0\t21\t20\t45\t8\t42\t3\t47\t16\t12\t69\t2\t3\t75\t63\t66\t28\t38\t20\t6\t1\t4\t6\t94\t21\t64\t18\t17\t9\t25\t0\t8\t11\t6\t19\t36\t0\t0\t94\t160\t2\t90\t110\t37\t5\t13\t11\t7\t150\t1\t1\t4\t4\t5\t13\t8\t2\t27\t16\t38\t58\t13\t0\t8\t62\t8\t40\t9\t17\t40\t7\t60\t0\t5\t23\t24\t42\t9\t50\t2\t16\t64\t88\t12\t8\t109\t82\t0\t4\t27\t33\t16\t38\t11\t4\t29\t25\t30\t5\t7\t16\t2\t14\t44\t47\t9\t13\t37\t21\t3\t14\t22\t21\t11\t26\t6\t3\t17\t114\t26\t9\t121\t32\t53\t127\t22\t38\t139\t245\t2\t24\t11\t12\t56\t34\t20\t18\t15\t65\t17\t16\t15\t15\t5\t57\t19\t44\t6\t79\t19\t13\t28\t3\t37\t11\t3\t16\t19\t21\t4\t9\t42\t4\t46\t3\t0\t6\t11\t18\t3\t26\t3\t4\t8\t3\t18\t17\t12\t24\t23\t5\t7\t173\t9\t10\t9\t132\t20\t6\t9\t90\t98\t26\t5\t15\t3\t20\t13\t0\t64\t13\t47\t0\t91\n",
      "Slashdot\t0\t0\t0\t1\t0\t3\t0\t1\t3\t0\t1\t10\t2\t0\t1\t0\t16\t0\t0\t2\t6\t0\t3\t0\t8\t0\t2\t0\t1\t2\t1\t0\t12\t10\t0\t3\t3\t0\t0\t0\t0\t2\t8\t3\t0\t5\t0\t0\t5\t0\t3\t0\t5\t0\t1\t0\t2\t3\t0\t2\t3\t1\t1\t1\t0\t0\t3\t1\t0\t2\t1\t0\t5\t0\t0\t0\t1\t1\t3\t0\t0\t1\t2\t9\t1\t1\t5\t3\t2\t0\t0\t0\t6\t0\t0\t0\t1\t5\t0\t1\t0\t1\t0\t3\t10\t0\t2\t0\t7\t5\t0\t2\t0\t6\t2\t0\t6\t1\t10\t1\t1\t0\t1\t0\t2\t1\t0\t3\t5\t9\t1\t0\t2\t5\t3\t3\t1\t5\t0\t0\t1\t2\t0\t6\t0\t2\t3\t1\t0\t16\t0\t4\t0\t1\t0\t0\t1\t0\t2\t3\t1\t0\t2\t1\t0\t0\t1\t0\t0\t1\t5\t0\t4\t0\t2\t1\t1\t2\t12\t0\t0\t4\t3\t0\t1\t0\t15\t0\t0\t1\t0\t0\t0\t0\t0\t12\t0\t0\t1\t0\t0\t1\t2\t5\t0\t0\t4\t0\t2\t1\t4\t5\t9\t0\t26\t1\t12\t6\t0\t2\t1\t0\t0\t1\t5\t5\t4\t7\t0\t3\t0\t1\t2\t0\t1\t1\t1\t0\t2\t1\t0\t1\t1\t1\t1\t3\t0\t0\t2\t4\t11\t0\t2\t0\t2\t1\t2\t1\t0\t0\t1\t1\t3\t5\t0\t3\t11\t2\t4\t4\t1\t1\t1\t1\t1\t6\t2\t1\t0\t1\t0\t1\t2\t0\t3\t0\t2\t0\t1\t1\t0\t6\t0\t2\t0\t4\t0\t0\t3\t2\t0\t2\t2\t4\t0\t0\t3\t0\t2\t6\t2\t16\t2\t6\t4\t3\t2\t6\t0\t6\t0\t0\t2\t3\t2\t2\t0\t1\t2\t2\t0\t0\t0\t0\t1\t0\t0\t0\t0\t0\t0\t2\t1\t1\t6\t7\t1\t0\t7\t0\t2\t1\t4\t2\t4\t0\t0\t0\t3\t1\t0\t0\t2\t9\t0\t0\t2\t1\t1\t0\t0\t0\t14\t1\t1\t6\t2\t0\t2\t2\t4\t0\t1\t0\t3\t3\t5\t1\t3\t1\t4\t0\t0\t2\t0\t1\t1\t1\t1\t9\t1\t1\t7\t2\t0\t0\t1\t0\t2\t14\t3\t0\t1\t14\t0\t0\t1\t3\t5\t2\t1\t2\t1\t3\t3\t2\t4\t3\t0\t1\t5\n",
      "O'Reilly Radar\t0\t0\t0\t0\t0\t0\t0\t0\t1\t0\t0\t1\t0\t0\t0\t1\t4\t0\t0\t0\t0\t0\t0\t0\t0\t0\t0\t0\t0\t0\t0\t1\t0\t0\t0\t0\t0\t0\t2\t0\t0\t0\t0\t0\t1\t0\t0\t1\t0\t0\t0\t0\t1\t0\t0\t0\t0\t0\t0\t0\t1\t0\t0\t0\t0\t1\t0\t1\t0\t7\t0\t0\t0\t0\t0\t0\t0\t0\t0\t0\t1\t0\t0\t1\t0\t0\t2\t0\t10\t0\t0\t0\t2\t0\t0\t0\t0\t0\t0\t0\t0\t0\t0\t0\t0\t0\t1\t0\t1\t1\t0\t0\t0\t0\t0\t0\t0\t0\t1\t0\t0\t0\t1\t0\t0\t1\t1\t2\t0\t0\t0\t0\t1\t0\t0\t0\t0\t0\t0\t0\t0\t0\t0\t2\t0\t0\t0\t1\t2\t0\t0\t0\t0\t0\t0\t0\t0\t0\t0\t0\t0\t0\t1\t0\t0\t0\t1\t0\t0\t0\t0\t0\t0\t1\t0\t0\t0\t0\t1\t0\t0\t0\t0\t0\t0\t0\t0\t0\t0\t0\t0\t0\t0\t0\t0\t1\t0\t0\t0\t0\t1\t0\t0\t0\t0\t3\t0\t1\t0\t1\t1\t0\t0\t0\t0\t0\t1\t2\t0\t0\t0\t0\t0\t1\t0\t0\t1\t0\t0\t1\t0\t0\t1\t0\t0\t0\t0\t0\t0\t0\t2\t0\t0\t0\t0\t0\t1\t0\t0\t0\t3\t0\t0\t0\t0\t1\t1\t0\t0\t0\t0\t1\t1\t0\t1\t0\t2\t0\t0\t0\t0\t0\t0\t0\t0\t0\t0\t0\t0\t0\t0\t0\t0\t1\t0\t0\t1\t0\t1\t0\t0\t6\t0\t2\t0\t0\t0\t0\t0\t0\t0\t2\t0\t1\t0\t0\t0\t0\t3\t0\t0\t2\t1\t0\t0\t0\t0\t2\t0\t0\t0\t0\t0\t0\t0\t0\t0\t0\t0\t0\t0\t0\t1\t0\t0\t0\t0\t1\t0\t1\t1\t1\t0\t0\t0\t2\t0\t0\t1\t0\t0\t0\t0\t0\t1\t0\t0\t3\t1\t0\t0\t1\t0\t0\t0\t0\t0\t0\t0\t0\t0\t0\t0\t0\t0\t1\t0\t0\t0\t0\t1\t0\t0\t0\t0\t1\t0\t0\t0\t0\t2\t0\t0\t0\t0\t0\t0\t0\t1\t0\t0\t0\t0\t0\t0\t0\t0\t2\t0\t0\t0\t0\t0\t3\t0\t0\t0\t2\t1\t0\t0\t1\t0\t0\t1\t0\t0\t0\t0\t0\t0\n",
      "blog maverick\t1\t0\t0\t0\t0\t0\t0\t0\t0\t0\t0\t4\t0\t0\t0\t0\t1\t0\t0\t11\t0\t0\t0\t0\t3\t0\t1\t0\t2\t0\t0\t0\t2\t0\t0\t1\t0\t0\t0\t0\t0\t0\t0\t0\t1\t0\t0\t0\t1\t0\t0\t0\t1\t0\t0\t0\t0\t0\t0\t1\t2\t0\t1\t0\t0\t2\t0\t1\t0\t2\t1\t0\t0\t0\t0\t0\t0\t0\t1\t0\t0\t0\t4\t2\t0\t0\t0\t2\t0\t2\t0\t0\t1\t0\t2\t0\t2\t0\t1\t2\t0\t1\t0\t0\t1\t0\t1\t0\t0\t1\t0\t0\t1\t0\t0\t0\t3\t0\t2\t0\t2\t0\t3\t0\t2\t0\t0\t0\t1\t2\t0\t0\t0\t0\t0\t0\t0\t0\t1\t0\t0\t0\t1\t0\t0\t0\t0\t0\t0\t0\t1\t0\t0\t0\t0\t0\t1\t1\t0\t0\t0\t0\t0\t0\t0\t0\t1\t0\t0\t0\t0\t0\t1\t4\t0\t0\t0\t1\t4\t0\t4\t0\t0\t0\t0\t0\t0\t0\t0\t0\t0\t0\t0\t0\t3\t1\t0\t1\t1\t0\t0\t0\t1\t1\t0\t0\t0\t0\t0\t1\t2\t1\t2\t0\t2\t0\t1\t1\t1\t0\t0\t0\t0\t0\t2\t3\t0\t0\t0\t1\t1\t1\t0\t0\t2\t0\t0\t0\t2\t2\t2\t0\t1\t0\t0\t0\t1\t0\t1\t0\t1\t2\t0\t0\t0\t0\t2\t0\t0\t0\t0\t2\t0\t2\t0\t1\t8\t0\t3\t3\t0\t0\t0\t1\t0\t5\t0\t0\t0\t0\t0\t3\t0\t0\t1\t0\t0\t0\t0\t0\t0\t2\t0\t0\t0\t0\t0\t0\t0\t0\t0\t0\t0\t1\t0\t0\t0\t0\t3\t2\t1\t0\t4\t0\t0\t0\t0\t1\t0\t1\t1\t0\t0\t1\t2\t0\t0\t0\t0\t1\t0\t0\t1\t0\t0\t0\t0\t0\t0\t0\t0\t1\t0\t4\t0\t6\t0\t1\t1\t1\t0\t1\t0\t0\t2\t1\t1\t3\t0\t0\t0\t0\t0\t0\t0\t0\t0\t0\t0\t2\t0\t0\t1\t0\t0\t3\t0\t0\t0\t1\t0\t0\t0\t0\t0\t0\t0\t0\t0\t0\t0\t0\t0\t0\t0\t0\t0\t1\t1\t0\t0\t0\t4\t0\t0\t0\t0\t0\t2\t6\t0\t0\t0\t1\t0\t0\t0\t1\t2\t2\t0\t1\t0\t0\t0\t0\t0\t0\t0\t0\t2\n",
      "ThinkProgress - Medium\t2\t1\t0\t7\t1\t6\t0\t2\t3\t2\t3\t11\t1\t0\t6\t9\t17\t1\t2\t26\t4\t0\t4\t4\t38\t0\t6\t0\t6\t0\t2\t3\t25\t11\t2\t10\t3\t0\t0\t3\t1\t0\t11\t2\t3\t1\t1\t0\t18\t2\t3\t0\t14\t2\t2\t2\t6\t0\t1\t1\t111\t0\t1\t3\t0\t2\t1\t1\t1\t5\t0\t2\t7\t0\t0\t0\t2\t0\t8\t5\t3\t6\t12\t15\t4\t1\t9\t7\t2\t3\t3\t0\t6\t0\t2\t2\t2\t0\t0\t9\t0\t2\t2\t6\t19\t1\t2\t2\t26\t14\t0\t0\t2\t5\t1\t0\t12\t4\t27\t0\t4\t2\t4\t5\t7\t1\t1\t0\t11\t11\t0\t4\t1\t2\t0\t4\t4\t5\t3\t2\t3\t8\t2\t0\t2\t0\t3\t5\t0\t12\t3\t1\t1\t5\t1\t0\t3\t0\t12\t5\t14\t1\t0\t3\t2\t1\t4\t4\t1\t0\t6\t3\t3\t5\t8\t2\t2\t5\t48\t0\t0\t0\t10\t2\t0\t2\t2\t0\t2\t31\t2\t13\t0\t0\t7\t10\t3\t2\t1\t0\t4\t4\t3\t8\t3\t4\t13\t1\t4\t1\t5\t2\t21\t40\t16\t2\t20\t20\t7\t2\t1\t0\t3\t2\t4\t12\t5\t9\t4\t4\t0\t14\t4\t0\t6\t7\t1\t3\t9\t2\t3\t4\t2\t2\t3\t3\t0\t3\t5\t0\t11\t0\t2\t1\t0\t11\t7\t4\t1\t1\t3\t0\t3\t13\t4\t7\t13\t1\t13\t14\t3\t2\t0\t2\t3\t36\t0\t2\t0\t24\t0\t2\t0\t1\t3\t4\t3\t20\t4\t5\t0\t12\t1\t21\t1\t4\t5\t0\t7\t4\t1\t11\t0\t39\t0\t0\t1\t0\t7\t16\t4\t12\t7\t19\t4\t1\t2\t4\t0\t14\t2\t1\t0\t1\t6\t4\t2\t0\t1\t7\t0\t0\t1\t4\t4\t0\t2\t1\t5\t0\t1\t3\t1\t19\t3\t51\t1\t0\t22\t0\t1\t8\t2\t1\t6\t0\t3\t1\t2\t4\t1\t7\t5\t27\t1\t1\t2\t1\t0\t3\t2\t1\t34\t0\t1\t7\t8\t0\t7\t2\t9\t0\t0\t2\t3\t6\t5\t1\t1\t2\t9\t0\t3\t0\t2\t0\t7\t2\t1\t7\t2\t0\t2\t1\t0\t1\t2\t2\t22\t21\t0\t3\t0\t33\t1\t1\t2\t8\t15\t5\t3\t6\t2\t3\t3\t1\t3\t1\t6\t3\t8\n",
      "Deadspin\t0\t2\t0\t1\t0\t2\t0\t1\t2\t0\t0\t3\t0\t2\t0\t1\t6\t0\t0\t0\t0\t0\t2\t0\t4\t0\t0\t0\t0\t0\t1\t2\t5\t0\t0\t1\t1\t0\t0\t0\t2\t1\t1\t0\t0\t3\t0\t0\t2\t0\t0\t0\t5\t0\t0\t0\t1\t5\t0\t0\t1\t0\t1\t0\t1\t2\t2\t0\t0\t0\t0\t2\t2\t3\t0\t0\t0\t2\t2\t3\t0\t2\t1\t0\t0\t0\t2\t2\t0\t0\t0\t0\t1\t0\t2\t1\t0\t0\t0\t2\t0\t0\t0\t2\t1\t1\t0\t1\t5\t0\t0\t0\t1\t1\t0\t1\t0\t0\t7\t0\t0\t1\t0\t0\t2\t2\t0\t0\t0\t4\t2\t1\t2\t1\t0\t0\t6\t1\t0\t2\t1\t0\t0\t0\t0\t4\t0\t0\t0\t1\t0\t0\t0\t0\t0\t0\t0\t2\t7\t1\t0\t0\t0\t4\t0\t2\t0\t1\t0\t0\t0\t2\t1\t0\t3\t0\t2\t1\t2\t0\t1\t1\t1\t0\t0\t0\t25\t0\t0\t0\t1\t0\t0\t0\t1\t5\t1\t0\t1\t2\t0\t1\t0\t2\t0\t2\t3\t0\t1\t2\t1\t1\t2\t0\t30\t0\t1\t10\t0\t0\t1\t1\t0\t3\t0\t0\t2\t1\t3\t0\t0\t0\t1\t1\t2\t0\t1\t0\t2\t2\t0\t2\t3\t0\t0\t1\t0\t4\t4\t0\t1\t0\t2\t0\t0\t0\t0\t0\t0\t0\t0\t0\t0\t1\t0\t1\t3\t0\t3\t4\t0\t0\t0\t0\t0\t5\t0\t0\t0\t0\t0\t0\t0\t0\t0\t1\t0\t0\t0\t0\t0\t3\t0\t0\t0\t2\t0\t1\t5\t1\t0\t0\t1\t0\t0\t0\t0\t0\t7\t6\t0\t3\t2\t0\t1\t0\t0\t1\t0\t0\t1\t0\t0\t0\t1\t0\t0\t1\t1\t0\t0\t0\t0\t0\t1\t1\t0\t1\t2\t0\t0\t0\t1\t0\t0\t3\t1\t0\t3\t0\t1\t3\t1\t0\t4\t8\t0\t0\t0\t0\t0\t0\t0\t12\t1\t0\t0\t1\t0\t0\t1\t0\t6\t0\t0\t0\t0\t1\t1\t0\t0\t0\t2\t2\t1\t1\t0\t0\t0\t0\t3\t3\t0\t0\t3\t0\t0\t4\t1\t0\t0\t1\t0\t1\t0\t0\t0\t0\t1\t3\t0\t0\t0\t7\t0\t2\t0\t1\t1\t1\t0\t0\t0\t0\t0\t0\t1\t1\t4\t0\t2\n",
      "ShoeMoney\t0\t2\t4\t1\t4\t0\t0\t0\t1\t1\t2\t3\t0\t0\t0\t1\t1\t0\t0\t16\t0\t0\t0\t0\t1\t0\t0\t3\t1\t1\t1\t1\t6\t0\t0\t0\t1\t1\t2\t1\t0\t0\t5\t0\t0\t0\t4\t0\t0\t0\t0\t3\t1\t0\t0\t0\t0\t0\t0\t2\t2\t3\t2\t0\t0\t3\t0\t0\t0\t1\t2\t0\t0\t1\t2\t0\t0\t0\t3\t2\t0\t0\t1\t2\t2\t0\t2\t1\t0\t0\t0\t0\t3\t0\t0\t0\t2\t3\t0\t1\t0\t1\t0\t0\t0\t0\t0\t1\t3\t1\t0\t0\t2\t0\t0\t0\t2\t0\t2\t5\t0\t0\t0\t0\t0\t0\t0\t2\t1\t1\t2\t0\t5\t0\t0\t0\t2\t3\t2\t0\t1\t0\t6\t0\t0\t0\t0\t0\t0\t1\t0\t0\t1\t1\t0\t1\t0\t0\t1\t0\t0\t0\t0\t0\t0\t0\t0\t0\t1\t0\t0\t1\t1\t7\t0\t0\t0\t0\t5\t0\t2\t6\t2\t0\t0\t0\t0\t0\t0\t0\t0\t0\t0\t0\t6\t1\t0\t0\t2\t0\t0\t1\t7\t0\t0\t3\t0\t0\t1\t0\t2\t0\t8\t0\t0\t0\t2\t1\t0\t1\t1\t0\t1\t0\t0\t1\t0\t0\t2\t0\t1\t0\t0\t0\t1\t1\t0\t0\t2\t1\t4\t1\t0\t0\t2\t2\t3\t1\t0\t0\t2\t0\t1\t0\t0\t0\t0\t1\t0\t0\t0\t0\t0\t2\t0\t8\t5\t0\t0\t6\t1\t1\t0\t0\t1\t3\t0\t0\t0\t0\t0\t1\t0\t1\t0\t0\t1\t0\t0\t0\t0\t3\t0\t0\t2\t0\t0\t0\t0\t1\t1\t2\t1\t2\t0\t0\t2\t1\t2\t0\t2\t0\t2\t3\t0\t0\t0\t0\t0\t2\t0\t0\t0\t3\t1\t0\t0\t0\t0\t0\t0\t0\t0\t0\t0\t1\t2\t3\t0\t1\t1\t1\t1\t0\t0\t6\t0\t0\t2\t0\t1\t0\t2\t0\t0\t12\t0\t0\t0\t0\t0\t0\t0\t0\t0\t0\t0\t1\t0\t0\t0\t0\t0\t1\t0\t3\t0\t1\t0\t0\t1\t0\t0\t0\t1\t0\t0\t0\t1\t0\t3\t1\t0\t0\t0\t0\t0\t1\t0\t0\t2\t0\t1\t0\t0\t0\t0\t0\t0\t5\t0\t1\t0\t2\t2\t0\t3\t1\t8\t4\t0\t2\t1\t1\t0\t0\t2\t1\t0\t0\t7\n",
      "The Dish\t1\t0\t6\t2\t0\t3\t0\t1\t3\t0\t1\t3\t0\t4\t1\t3\t8\t1\t3\t38\t1\t0\t1\t0\t10\t0\t1\t3\t1\t0\t0\t4\t11\t3\t0\t1\t0\t0\t2\t1\t1\t0\t6\t0\t1\t0\t0\t0\t1\t4\t1\t0\t4\t1\t0\t0\t3\t0\t1\t1\t2\t0\t1\t0\t0\t1\t0\t0\t3\t1\t0\t1\t1\t3\t0\t0\t0\t1\t0\t2\t0\t2\t4\t1\t0\t0\t1\t3\t0\t1\t1\t2\t5\t0\t6\t2\t0\t0\t1\t3\t0\t1\t0\t2\t4\t2\t1\t3\t8\t5\t0\t0\t0\t3\t0\t2\t5\t2\t10\t0\t1\t1\t3\t1\t4\t0\t1\t0\t2\t6\t1\t0\t0\t1\t0\t1\t2\t2\t1\t0\t0\t2\t3\t0\t2\t0\t0\t1\t1\t0\t1\t0\t0\t0\t0\t2\t0\t0\t4\t0\t0\t0\t1\t1\t0\t1\t7\t0\t1\t0\t0\t0\t3\t17\t3\t0\t0\t0\t12\t0\t2\t0\t0\t0\t0\t0\t9\t0\t2\t1\t1\t0\t0\t2\t1\t4\t0\t0\t0\t1\t1\t2\t2\t0\t0\t2\t0\t0\t1\t2\t1\t0\t9\t0\t7\t1\t5\t7\t1\t0\t0\t0\t0\t0\t0\t4\t1\t1\t0\t0\t2\t0\t1\t2\t4\t1\t0\t0\t1\t1\t11\t3\t2\t1\t4\t2\t1\t1\t2\t0\t2\t0\t0\t0\t0\t1\t0\t0\t1\t2\t0\t0\t2\t0\t1\t6\t18\t0\t1\t10\t0\t0\t0\t0\t0\t6\t0\t1\t0\t0\t1\t3\t0\t0\t6\t1\t0\t0\t0\t0\t1\t6\t1\t0\t4\t7\t2\t0\t4\t0\t2\t3\t1\t5\t0\t0\t0\t0\t6\t3\t0\t3\t3\t0\t2\t0\t1\t4\t0\t2\t2\t1\t0\t3\t1\t1\t0\t0\t0\t0\t1\t0\t2\t0\t0\t3\t2\t0\t0\t1\t0\t1\t0\t1\t0\t7\t1\t7\t7\t0\t0\t2\t0\t0\t0\t12\t0\t1\t0\t1\t3\t1\t2\t11\t0\t0\t1\t2\t2\t0\t0\t0\t3\t3\t1\t3\t11\t0\t2\t0\t5\t0\t0\t0\t1\t0\t0\t0\t0\t0\t2\t0\t0\t3\t2\t1\t1\t0\t2\t1\t1\t0\t2\t2\t0\t3\t0\t1\t0\t5\t0\t2\t0\t9\t1\t2\t0\t2\t9\t9\t0\t0\t0\t0\t1\t0\t0\t0\t2\t1\t6\n",
      "456 Berea Street\t0\t2\t0\t1\t1\t1\t0\t1\t1\t0\t0\t9\t1\t0\t2\t1\t3\t0\t0\t30\t0\t1\t4\t0\t6\t0\t1\t0\t0\t2\t2\t0\t6\t0\t0\t3\t0\t0\t1\t0\t0\t0\t6\t0\t3\t0\t2\t0\t0\t0\t1\t0\t6\t0\t0\t1\t0\t0\t0\t0\t4\t0\t9\t0\t1\t0\t2\t0\t0\t5\t0\t0\t0\t3\t1\t0\t0\t0\t2\t1\t0\t0\t6\t3\t0\t1\t1\t0\t0\t0\t0\t0\t3\t0\t1\t0\t0\t0\t0\t0\t0\t0\t0\t0\t0\t0\t1\t6\t1\t1\t0\t0\t0\t4\t0\t0\t7\t3\t9\t0\t0\t1\t1\t1\t3\t1\t0\t2\t0\t3\t1\t0\t0\t1\t0\t4\t2\t5\t3\t1\t3\t1\t0\t0\t0\t0\t0\t0\t0\t7\t1\t0\t0\t0\t1\t2\t0\t0\t1\t0\t1\t1\t0\t0\t1\t0\t1\t0\t0\t0\t0\t1\t0\t3\t0\t0\t0\t0\t3\t2\t1\t0\t2\t0\t0\t0\t10\t0\t0\t0\t1\t0\t0\t0\t0\t1\t0\t0\t0\t1\t0\t2\t0\t2\t0\t0\t0\t0\t2\t0\t1\t0\t2\t0\t2\t0\t5\t3\t0\t0\t4\t0\t0\t0\t0\t0\t1\t0\t1\t3\t2\t0\t1\t0\t4\t1\t2\t0\t0\t3\t2\t1\t0\t0\t4\t0\t0\t0\t0\t0\t0\t0\t0\t0\t1\t1\t0\t0\t5\t0\t0\t0\t1\t0\t0\t4\t2\t0\t5\t3\t1\t0\t0\t1\t0\t4\t0\t0\t0\t0\t0\t0\t0\t0\t0\t1\t0\t0\t1\t0\t1\t3\t2\t5\t0\t0\t0\t0\t0\t0\t0\t4\t0\t3\t1\t0\t0\t1\t2\t1\t12\t0\t6\t1\t1\t0\t0\t1\t0\t4\t2\t0\t1\t2\t1\t1\t0\t2\t0\t0\t0\t2\t0\t0\t0\t0\t0\t2\t0\t1\t0\t2\t0\t0\t0\t6\t0\t0\t2\t1\t1\t2\t0\t0\t3\t1\t0\t0\t0\t2\t0\t3\t1\t0\t1\t0\t1\t1\t1\t0\t1\t3\t0\t0\t0\t5\t1\t0\t0\t0\t1\t0\t0\t0\t0\t1\t0\t0\t4\t0\t3\t0\t0\t0\t0\t0\t0\t0\t0\t0\t0\t0\t1\t2\t0\t1\t0\t0\t1\t8\t0\t0\t0\t4\t0\t1\t1\t1\t2\t0\t0\t0\t1\t0\t0\t1\t3\t1\t0\t0\t0\n",
      "TechCrunch\t0\t0\t0\t0\t0\t0\t19\t3\t0\t0\t0\t3\t0\t0\t1\t0\t13\t0\t3\t1\t0\t2\t0\t0\t2\t1\t0\t0\t1\t0\t0\t1\t5\t1\t0\t0\t1\t0\t0\t1\t0\t0\t1\t0\t1\t0\t0\t0\t1\t0\t0\t0\t4\t0\t0\t1\t0\t2\t1\t0\t3\t1\t0\t0\t0\t3\t2\t2\t0\t1\t0\t0\t0\t0\t1\t0\t0\t0\t1\t2\t1\t2\t3\t1\t2\t0\t1\t7\t0\t2\t1\t0\t1\t0\t1\t0\t0\t1\t0\t1\t0\t0\t1\t0\t1\t1\t0\t1\t3\t2\t5\t2\t0\t1\t1\t2\t1\t1\t6\t0\t0\t0\t0\t0\t0\t0\t1\t0\t2\t9\t0\t0\t1\t1\t0\t1\t0\t4\t0\t0\t1\t1\t1\t3\t1\t0\t0\t2\t0\t12\t0\t0\t0\t0\t1\t0\t0\t1\t3\t0\t1\t0\t1\t0\t0\t0\t2\t0\t0\t0\t3\t0\t0\t0\t0\t0\t0\t1\t6\t0\t0\t0\t5\t0\t1\t0\t20\t0\t0\t0\t0\t0\t0\t0\t1\t0\t0\t0\t3\t1\t0\t1\t0\t1\t1\t0\t1\t0\t0\t1\t1\t8\t3\t2\t26\t0\t1\t5\t1\t1\t0\t2\t0\t0\t1\t1\t2\t1\t0\t0\t0\t0\t2\t0\t0\t2\t0\t1\t0\t1\t0\t0\t0\t0\t0\t0\t1\t2\t1\t0\t12\t0\t2\t0\t0\t1\t1\t0\t0\t2\t2\t0\t0\t1\t0\t3\t1\t0\t8\t5\t1\t0\t0\t0\t1\t3\t2\t0\t1\t0\t0\t0\t1\t1\t1\t1\t0\t0\t0\t1\t1\t3\t2\t2\t0\t1\t0\t0\t0\t0\t0\t0\t2\t0\t0\t3\t4\t1\t0\t4\t1\t0\t2\t0\t1\t0\t0\t1\t0\t3\t1\t2\t1\t0\t0\t0\t2\t0\t0\t2\t0\t0\t0\t0\t0\t0\t0\t1\t0\t0\t2\t3\t0\t0\t0\t6\t0\t0\t2\t1\t1\t1\t1\t0\t5\t1\t3\t0\t5\t0\t0\t0\t2\t0\t2\t4\t0\t0\t0\t3\t0\t0\t0\t0\t1\t1\t2\t1\t0\t1\t1\t0\t0\t1\t1\t0\t2\t2\t0\t0\t2\t3\t0\t0\t3\t1\t0\t1\t0\t2\t1\t1\t2\t0\t0\t0\t0\t0\t0\t3\t3\t0\t0\t4\t0\t0\t0\t4\t2\t1\t1\t0\t0\t0\t0\t3\t0\t3\t1\t0\t2\n",
      "plasticbag.org\t0\t1\t2\t1\t1\t0\t0\t0\t1\t0\t0\t1\t0\t0\t0\t0\t1\t0\t0\t16\t0\t1\t0\t0\t3\t0\t2\t0\t0\t0\t0\t0\t5\t0\t0\t1\t0\t1\t1\t0\t0\t0\t1\t0\t0\t0\t1\t0\t0\t0\t2\t0\t1\t0\t1\t1\t1\t0\t0\t0\t1\t0\t0\t0\t0\t0\t0\t0\t0\t0\t0\t0\t1\t3\t1\t1\t0\t0\t1\t5\t0\t1\t0\t0\t0\t0\t3\t1\t0\t0\t0\t0\t2\t0\t0\t1\t1\t0\t0\t0\t0\t0\t0\t0\t0\t0\t0\t1\t1\t1\t0\t0\t0\t2\t0\t0\t0\t0\t1\t0\t1\t0\t0\t0\t0\t1\t0\t0\t0\t2\t0\t0\t0\t0\t0\t0\t1\t0\t1\t0\t0\t1\t0\t1\t2\t0\t1\t0\t0\t1\t0\t0\t0\t1\t0\t0\t0\t0\t0\t0\t0\t1\t0\t0\t0\t0\t0\t0\t0\t0\t0\t1\t2\t3\t3\t0\t0\t0\t1\t3\t1\t0\t2\t0\t0\t0\t6\t0\t0\t0\t0\t0\t0\t0\t0\t1\t2\t0\t1\t0\t1\t0\t0\t3\t0\t2\t2\t0\t1\t0\t1\t2\t4\t0\t10\t0\t2\t0\t0\t1\t0\t0\t0\t0\t0\t0\t0\t0\t0\t0\t0\t0\t0\t0\t1\t1\t0\t0\t0\t0\t1\t0\t1\t0\t1\t1\t0\t0\t0\t0\t2\t0\t1\t0\t0\t0\t1\t0\t0\t0\t0\t0\t1\t0\t0\t1\t4\t1\t6\t2\t1\t1\t0\t0\t0\t0\t0\t1\t0\t0\t0\t2\t0\t0\t2\t0\t0\t1\t0\t0\t1\t6\t0\t0\t0\t0\t0\t0\t0\t0\t0\t2\t0\t4\t0\t0\t0\t0\t0\t1\t0\t1\t2\t0\t0\t0\t0\t2\t1\t3\t1\t0\t0\t0\t1\t0\t0\t0\t0\t1\t0\t1\t0\t0\t0\t0\t0\t0\t0\t0\t0\t0\t0\t0\t0\t4\t1\t0\t2\t1\t1\t5\t0\t0\t2\t1\t1\t0\t0\t1\t1\t1\t0\t1\t0\t0\t0\t0\t0\t0\t0\t0\t1\t1\t1\t1\t2\t1\t0\t0\t2\t0\t0\t0\t0\t0\t0\t0\t0\t0\t0\t0\t0\t0\t0\t0\t0\t0\t0\t0\t0\t1\t1\t0\t1\t1\t0\t0\t0\t3\t0\t0\t0\t0\t1\t0\t0\t1\t0\t1\t0\t0\t0\t0\t0\t0\t1\t0\t0\t0\t3\n",
      "Schneier on Security\t0\t0\t2\t0\t0\t1\t0\t0\t0\t0\t0\t1\t1\t0\t0\t1\t2\t0\t0\t4\t0\t0\t1\t0\t2\t0\t0\t0\t2\t0\t0\t0\t0\t0\t0\t0\t0\t0\t1\t0\t0\t0\t1\t0\t1\t0\t0\t0\t0\t1\t0\t0\t1\t0\t0\t1\t0\t0\t0\t0\t1\t0\t1\t0\t0\t0\t0\t0\t2\t0\t2\t0\t0\t0\t0\t0\t0\t0\t0\t1\t0\t0\t0\t0\t0\t0\t2\t1\t0\t0\t0\t1\t0\t0\t0\t0\t2\t0\t0\t0\t0\t0\t0\t0\t0\t0\t0\t0\t2\t1\t0\t3\t0\t0\t0\t0\t0\t0\t1\t3\t0\t0\t1\t1\t0\t0\t0\t6\t2\t0\t0\t0\t1\t0\t1\t0\t1\t1\t0\t1\t0\t0\t0\t0\t0\t0\t0\t1\t0\t1\t0\t0\t0\t0\t0\t0\t0\t0\t0\t0\t0\t0\t0\t0\t0\t0\t1\t0\t0\t0\t0\t0\t0\t2\t3\t0\t0\t0\t5\t0\t0\t0\t2\t0\t0\t0\t1\t0\t0\t0\t0\t0\t0\t0\t0\t1\t0\t0\t0\t0\t0\t0\t1\t0\t0\t0\t0\t0\t0\t0\t0\t0\t3\t0\t0\t0\t1\t2\t0\t0\t0\t0\t0\t0\t0\t0\t0\t0\t0\t0\t0\t0\t0\t0\t1\t0\t0\t0\t0\t1\t0\t0\t0\t0\t2\t0\t1\t0\t1\t0\t2\t0\t0\t1\t0\t1\t0\t0\t0\t0\t0\t1\t0\t0\t0\t0\t0\t0\t0\t2\t0\t0\t0\t0\t0\t3\t0\t0\t1\t0\t2\t0\t0\t0\t0\t0\t0\t1\t0\t0\t0\t0\t0\t4\t2\t0\t0\t0\t0\t0\t1\t0\t0\t1\t0\t1\t0\t1\t2\t1\t0\t0\t2\t3\t2\t0\t0\t2\t0\t0\t0\t0\t0\t1\t1\t0\t1\t0\t0\t1\t0\t0\t1\t0\t0\t1\t0\t0\t0\t0\t0\t2\t0\t0\t0\t5\t1\t0\t0\t0\t0\t0\t0\t0\t1\t0\t0\t0\t0\t0\t0\t0\t0\t0\t0\t1\t0\t0\t0\t0\t0\t0\t0\t0\t0\t1\t0\t0\t0\t0\t2\t0\t0\t0\t0\t0\t0\t2\t0\t0\t0\t0\t0\t0\t0\t0\t3\t0\t0\t0\t0\t0\t5\t0\t0\t0\t0\t0\t0\t3\t0\t0\t0\t6\t0\t0\t0\t1\t0\t1\t0\t0\t0\t0\t0\t0\t0\t0\t0\t0\t0\n",
      "Engadget RSS Feed\t0\t0\t0\t0\t1\t0\t0\t2\t1\t1\t0\t3\t1\t2\t1\t2\t8\t0\t0\t1\t1\t0\t1\t0\t1\t0\t0\t1\t1\t0\t1\t0\t5\t0\t0\t0\t2\t0\t0\t0\t1\t0\t2\t1\t0\t0\t0\t2\t2\t0\t0\t0\t4\t0\t0\t1\t0\t1\t1\t0\t7\t1\t1\t0\t0\t0\t2\t1\t0\t3\t0\t1\t0\t1\t0\t0\t0\t1\t0\t0\t4\t2\t0\t0\t3\t1\t2\t3\t0\t1\t0\t1\t0\t0\t0\t1\t1\t0\t0\t2\t0\t0\t0\t2\t1\t0\t0\t2\t6\t2\t4\t0\t1\t1\t0\t2\t6\t0\t6\t2\t0\t2\t1\t0\t0\t0\t0\t0\t0\t2\t0\t2\t2\t0\t1\t2\t0\t2\t1\t2\t2\t1\t0\t2\t0\t0\t0\t1\t0\t8\t0\t1\t1\t1\t1\t0\t1\t1\t3\t1\t0\t0\t3\t1\t0\t0\t2\t2\t0\t0\t4\t0\t0\t0\t2\t0\t0\t0\t2\t0\t3\t3\t1\t0\t0\t0\t1\t3\t0\t0\t1\t0\t0\t0\t0\t0\t1\t2\t1\t0\t0\t0\t3\t1\t0\t3\t0\t0\t1\t3\t1\t1\t1\t1\t3\t0\t7\t7\t0\t0\t0\t0\t0\t0\t3\t2\t0\t0\t2\t0\t0\t0\t1\t0\t2\t0\t0\t2\t2\t1\t0\t1\t0\t2\t1\t2\t0\t6\t0\t0\t9\t0\t1\t0\t1\t1\t0\t0\t0\t0\t1\t1\t0\t2\t0\t2\t3\t2\t0\t4\t0\t0\t0\t0\t2\t2\t1\t0\t0\t0\t0\t4\t0\t0\t2\t2\t1\t0\t0\t1\t0\t1\t0\t3\t0\t1\t0\t0\t4\t0\t0\t1\t1\t1\t2\t1\t0\t1\t0\t3\t0\t0\t0\t1\t1\t0\t1\t1\t0\t1\t0\t1\t0\t0\t0\t0\t1\t1\t0\t4\t0\t1\t0\t0\t0\t1\t0\t0\t0\t1\t1\t0\t0\t1\t0\t2\t1\t2\t2\t1\t1\t3\t0\t0\t1\t6\t2\t0\t0\t0\t0\t0\t1\t1\t2\t1\t0\t2\t0\t0\t0\t1\t1\t0\t4\t0\t0\t1\t0\t0\t0\t0\t0\t0\t1\t0\t0\t1\t0\t1\t0\t0\t0\t1\t0\t2\t1\t0\t0\t1\t0\t0\t1\t0\t0\t0\t0\t2\t0\t2\t3\t0\t0\t7\t0\t0\t0\t5\t2\t1\t0\t0\t0\t0\t0\t2\t3\t0\t0\t0\t0\n",
      "MetaFilter\t0\t0\t1\t0\t1\t0\t0\t0\t0\t0\t0\t0\t1\t0\t1\t1\t4\t0\t0\t10\t0\t0\t0\t1\t3\t0\t0\t1\t0\t0\t2\t0\t1\t0\t0\t3\t2\t0\t0\t0\t0\t0\t2\t0\t2\t0\t0\t0\t0\t0\t0\t1\t1\t0\t0\t0\t0\t0\t1\t0\t1\t0\t0\t0\t0\t0\t0\t0\t0\t0\t1\t0\t1\t0\t1\t0\t0\t0\t2\t2\t0\t1\t0\t2\t0\t0\t0\t2\t0\t0\t0\t0\t1\t0\t0\t0\t1\t0\t0\t2\t0\t0\t0\t1\t0\t1\t0\t1\t6\t1\t0\t0\t0\t1\t0\t1\t5\t0\t4\t2\t0\t0\t1\t1\t0\t2\t0\t0\t2\t1\t0\t2\t0\t0\t0\t0\t1\t0\t2\t0\t0\t0\t0\t2\t0\t0\t1\t0\t0\t1\t0\t0\t0\t0\t0\t0\t0\t2\t0\t0\t0\t0\t2\t0\t0\t0\t0\t0\t0\t0\t0\t0\t1\t2\t1\t1\t1\t2\t2\t0\t1\t0\t3\t1\t1\t1\t1\t0\t0\t0\t1\t0\t2\t0\t0\t0\t0\t0\t1\t1\t0\t0\t0\t0\t0\t3\t0\t2\t0\t0\t1\t0\t2\t0\t0\t0\t2\t1\t3\t2\t1\t0\t0\t0\t0\t1\t1\t0\t2\t0\t0\t0\t0\t0\t1\t0\t0\t0\t0\t0\t3\t0\t1\t1\t0\t1\t1\t2\t0\t4\t2\t0\t0\t2\t0\t0\t0\t0\t0\t0\t0\t0\t0\t5\t0\t3\t2\t0\t5\t4\t0\t0\t0\t1\t0\t2\t0\t1\t2\t0\t0\t1\t1\t0\t1\t0\t1\t0\t0\t3\t0\t4\t0\t0\t0\t5\t0\t1\t4\t0\t0\t0\t0\t2\t0\t0\t0\t0\t0\t1\t3\t0\t7\t0\t0\t0\t1\t1\t0\t0\t0\t0\t1\t0\t0\t1\t0\t0\t0\t0\t0\t1\t0\t0\t0\t0\t0\t1\t0\t0\t1\t0\t1\t0\t0\t6\t0\t1\t1\t0\t0\t2\t0\t0\t2\t4\t0\t0\t1\t0\t0\t0\t0\t2\t0\t0\t0\t0\t0\t0\t0\t0\t7\t0\t0\t0\t2\t0\t1\t0\t0\t2\t0\t1\t0\t0\t1\t0\t0\t1\t0\t0\t0\t0\t0\t0\t1\t0\t4\t0\t0\t0\t0\t1\t0\t0\t0\t0\t1\t3\t0\t0\t0\t2\t1\t0\t0\t1\t5\t1\t0\t0\t0\t0\t1\t1\t0\t0\t0\t0\t4\n",
      "SpikedHumor - Today's Videos and Pictures\t0\t3\t0\t0\t1\t7\t0\t1\t1\t1\t0\t3\t0\t1\t2\t0\t8\t0\t4\t19\t0\t1\t0\t0\t4\t0\t1\t0\t0\t0\t2\t4\t1\t3\t3\t2\t3\t0\t0\t1\t1\t3\t2\t0\t3\t0\t0\t0\t2\t0\t0\t1\t5\t0\t0\t1\t3\t4\t0\t1\t1\t0\t0\t2\t2\t4\t0\t1\t0\t1\t0\t0\t0\t2\t1\t2\t0\t0\t3\t0\t0\t0\t1\t0\t5\t0\t1\t0\t0\t2\t1\t2\t2\t2\t2\t3\t0\t0\t2\t2\t3\t0\t0\t0\t3\t0\t0\t5\t0\t3\t5\t2\t0\t0\t0\t1\t4\t0\t8\t1\t0\t0\t2\t0\t5\t2\t0\t0\t2\t3\t2\t0\t0\t0\t0\t3\t102\t2\t2\t2\t1\t1\t0\t2\t0\t1\t3\t1\t2\t7\t0\t0\t0\t2\t1\t0\t0\t0\t12\t0\t0\t0\t0\t1\t1\t1\t2\t0\t2\t0\t0\t0\t1\t8\t4\t0\t1\t1\t108\t0\t0\t0\t1\t2\t2\t0\t0\t4\t0\t0\t0\t0\t3\t1\t1\t5\t0\t2\t5\t0\t1\t1\t0\t3\t0\t2\t0\t2\t2\t0\t2\t0\t9\t0\t4\t0\t5\t3\t1\t2\t0\t2\t0\t0\t3\t1\t0\t1\t6\t4\t1\t0\t0\t1\t3\t1\t0\t3\t0\t0\t5\t2\t0\t4\t3\t0\t4\t0\t1\t1\t7\t3\t1\t0\t0\t3\t0\t2\t0\t0\t0\t1\t0\t0\t3\t5\t9\t0\t9\t6\t1\t1\t1\t0\t1\t8\t3\t4\t1\t0\t1\t2\t1\t0\t4\t0\t2\t0\t0\t3\t0\t14\t0\t0\t0\t1\t0\t0\t2\t0\t2\t2\t2\t3\t0\t3\t0\t0\t1\t1\t2\t0\t1\t3\t1\t1\t2\t0\t0\t0\t2\t1\t1\t4\t0\t0\t0\t0\t0\t1\t0\t1\t0\t1\t0\t2\t1\t3\t1\t2\t1\t3\t1\t1\t1\t6\t0\t1\t13\t0\t0\t4\t0\t0\t5\t6\t0\t6\t2\t0\t0\t1\t2\t9\t0\t15\t0\t1\t0\t0\t0\t4\t7\t0\t2\t2\t2\t0\t2\t0\t1\t0\t1\t6\t0\t0\t1\t1\t4\t0\t3\t1\t1\t0\t2\t0\t0\t2\t0\t1\t0\t102\t2\t0\t0\t0\t1\t0\t0\t6\t0\t2\t0\t11\t2\t1\t1\t0\t5\t1\t0\t1\t0\t1\t0\t0\t1\t0\t2\t0\t4\n",
      "Celebslam\t0\t1\t0\t0\t0\t0\t0\t0\t0\t0\t0\t0\t0\t0\t1\t10\t1\t0\t0\t0\t0\t0\t0\t0\t1\t0\t0\t0\t0\t0\t0\t0\t0\t0\t0\t0\t0\t0\t20\t0\t0\t0\t0\t0\t0\t0\t0\t0\t0\t0\t0\t0\t0\t0\t0\t0\t0\t0\t0\t0\t0\t0\t0\t0\t1\t0\t0\t0\t0\t0\t0\t3\t0\t0\t1\t0\t0\t0\t0\t0\t0\t0\t0\t0\t0\t0\t0\t0\t0\t0\t0\t0\t0\t0\t0\t0\t0\t0\t0\t0\t0\t0\t0\t0\t0\t0\t0\t0\t0\t0\t0\t0\t0\t0\t0\t0\t0\t0\t0\t0\t0\t0\t0\t0\t0\t0\t0\t0\t10\t0\t0\t0\t0\t0\t0\t0\t1\t0\t0\t0\t0\t0\t0\t0\t0\t0\t0\t0\t0\t0\t0\t0\t0\t0\t0\t0\t0\t0\t0\t0\t0\t0\t0\t0\t0\t0\t0\t0\t0\t0\t0\t0\t0\t10\t0\t0\t0\t0\t0\t0\t0\t0\t0\t0\t0\t0\t0\t0\t0\t0\t0\t0\t0\t0\t0\t0\t0\t0\t0\t0\t0\t0\t0\t0\t0\t0\t0\t0\t0\t0\t0\t0\t0\t0\t17\t0\t0\t0\t0\t0\t0\t0\t0\t0\t0\t0\t0\t0\t0\t0\t0\t0\t0\t1\t0\t0\t0\t10\t0\t0\t0\t0\t0\t0\t0\t0\t1\t0\t0\t0\t1\t0\t0\t0\t0\t0\t0\t0\t0\t0\t0\t1\t0\t0\t1\t0\t1\t0\t0\t0\t0\t0\t0\t0\t0\t0\t0\t0\t0\t0\t0\t0\t0\t0\t0\t0\t0\t0\t0\t0\t0\t0\t0\t0\t0\t0\t0\t0\t1\t0\t0\t0\t0\t1\t0\t0\t0\t0\t0\t0\t10\t0\t0\t1\t0\t0\t1\t1\t0\t0\t0\t0\t0\t0\t1\t0\t0\t0\t0\t0\t0\t0\t0\t0\t0\t0\t0\t0\t0\t0\t0\t0\t0\t0\t0\t0\t0\t0\t0\t0\t0\t0\t1\t0\t0\t0\t0\t0\t0\t0\t0\t0\t0\t0\t0\t0\t0\t0\t0\t0\t0\t0\t0\t0\t0\t0\t0\t0\t0\t0\t0\t0\t0\t0\t0\t0\t0\t0\t1\t0\t0\t0\t0\t0\t0\t0\t0\t0\t0\t0\t0\t0\t1\t0\t0\t0\t0\t0\t1\t1\t0\t0\t0\t0\t0\t0\t0\t1\t1\t0\t0\t0\t0\t0\t0\t0\t0\t0\t1\t0\t0\n",
      "Search Engine Roundtable\t0\t0\t0\t0\t0\t0\t0\t0\t0\t1\t0\t2\t0\t0\t0\t0\t1\t0\t0\t1\t0\t0\t1\t1\t2\t0\t0\t0\t1\t0\t0\t1\t0\t0\t1\t0\t0\t0\t4\t2\t0\t0\t2\t3\t0\t0\t0\t0\t1\t0\t0\t1\t0\t0\t0\t1\t0\t0\t0\t0\t2\t0\t1\t0\t0\t0\t1\t1\t0\t2\t0\t0\t0\t0\t0\t0\t0\t0\t0\t1\t1\t0\t0\t0\t0\t0\t0\t1\t0\t1\t0\t0\t0\t0\t0\t0\t0\t0\t0\t0\t0\t0\t0\t0\t4\t0\t0\t1\t0\t0\t0\t0\t0\t1\t0\t0\t1\t0\t0\t24\t0\t0\t1\t0\t0\t0\t0\t0\t0\t0\t0\t3\t1\t0\t0\t0\t3\t1\t0\t2\t0\t0\t0\t0\t0\t0\t0\t0\t0\t0\t0\t0\t0\t0\t0\t1\t0\t0\t1\t0\t0\t0\t0\t0\t1\t0\t0\t0\t0\t0\t0\t0\t0\t0\t1\t0\t0\t0\t1\t0\t0\t0\t0\t0\t0\t0\t0\t0\t0\t0\t0\t0\t0\t0\t0\t0\t0\t0\t0\t0\t0\t0\t0\t0\t0\t0\t0\t0\t0\t0\t0\t0\t0\t0\t1\t0\t1\t0\t0\t0\t1\t0\t1\t0\t0\t1\t0\t0\t0\t1\t2\t0\t0\t0\t0\t2\t0\t0\t0\t0\t0\t0\t0\t0\t0\t0\t0\t4\t0\t2\t0\t0\t0\t0\t0\t0\t0\t0\t0\t0\t0\t0\t2\t0\t0\t0\t3\t0\t2\t2\t0\t0\t0\t0\t2\t1\t0\t1\t0\t0\t0\t0\t0\t0\t0\t0\t0\t2\t3\t0\t0\t0\t0\t0\t0\t0\t0\t0\t3\t0\t0\t2\t0\t0\t1\t0\t0\t0\t2\t3\t0\t0\t0\t0\t0\t0\t0\t0\t0\t0\t0\t0\t0\t0\t0\t0\t0\t0\t0\t0\t0\t0\t0\t0\t0\t0\t0\t0\t0\t0\t0\t0\t0\t0\t0\t0\t0\t0\t1\t0\t0\t1\t0\t0\t1\t2\t0\t0\t0\t0\t0\t0\t0\t0\t0\t0\t2\t0\t0\t0\t0\t0\t1\t0\t0\t0\t0\t0\t1\t0\t0\t0\t0\t0\t1\t0\t0\t0\t0\t0\t1\t0\t0\t0\t0\t0\t0\t0\t1\t0\t0\t0\t0\t0\t1\t0\t0\t0\t0\t4\t0\t0\t0\t2\t0\t0\t0\t1\t4\t2\t1\t0\t0\t0\t0\t0\t0\t1\t0\t5\t1\n",
      "Neil Gaiman's Journal\t2\t10\t11\t3\t2\t6\t320\t15\t50\t22\t2\t62\t15\t10\t17\t20\t20\t7\t0\t439\t4\t9\t12\t13\t111\t4\t13\t68\t7\t8\t0\t7\t103\t0\t2\t12\t10\t5\t1\t9\t2\t1\t60\t1\t0\t1\t2\t6\t38\t1\t3\t8\t48\t6\t1\t6\t2\t0\t8\t10\t63\t1\t0\t6\t4\t2\t10\t4\t6\t9\t3\t12\t4\t31\t2\t4\t1\t5\t11\t27\t6\t25\t12\t21\t6\t11\t19\t44\t8\t4\t2\t8\t10\t3\t11\t9\t4\t0\t3\t22\t4\t10\t10\t4\t15\t1\t2\t7\t45\t51\t2\t0\t4\t23\t1\t6\t26\t2\t50\t2\t9\t4\t23\t2\t30\t11\t20\t3\t17\t30\t7\t2\t5\t24\t4\t5\t41\t27\t9\t24\t22\t4\t3\t1\t3\t10\t16\t0\t4\t6\t4\t0\t2\t21\t5\t8\t7\t10\t21\t3\t22\t3\t11\t2\t8\t7\t28\t3\t21\t3\t0\t3\t12\t82\t21\t6\t1\t21\t71\t4\t13\t0\t9\t4\t1\t2\t23\t1\t4\t0\t2\t10\t1\t8\t18\t42\t4\t9\t23\t6\t0\t5\t5\t43\t4\t12\t1\t2\t19\t1\t16\t1\t47\t8\t35\t7\t56\t19\t65\t6\t0\t7\t2\t4\t0\t9\t8\t2\t7\t10\t0\t0\t8\t3\t15\t2\t0\t2\t0\t8\t63\t24\t6\t1\t7\t14\t0\t5\t1\t3\t41\t7\t13\t0\t5\t32\t10\t1\t8\t2\t1\t3\t9\t0\t11\t21\t52\t1\t37\t47\t8\t2\t8\t5\t0\t58\t1\t11\t15\t1\t0\t24\t0\t2\t9\t1\t1\t3\t3\t29\t27\t51\t2\t0\t0\t17\t10\t10\t24\t0\t5\t16\t4\t46\t2\t1\t5\t1\t11\t56\t1\t8\t56\t11\t1\t3\t7\t11\t2\t35\t28\t5\t5\t4\t18\t2\t3\t6\t1\t6\t2\t19\t2\t12\t2\t13\t2\t7\t2\t5\t4\t3\t9\t7\t10\t66\t5\t15\t38\t10\t4\t34\t2\t3\t44\t22\t1\t31\t0\t13\t22\t22\t5\t40\t6\t7\t5\t11\t26\t3\t3\t3\t55\t16\t8\t40\t22\t7\t19\t3\t14\t4\t2\t5\t3\t2\t1\t0\t19\t8\t12\t2\t3\t2\t3\t8\t1\t8\t1\t3\t6\t9\t2\t2\t6\t11\t6\t2\t1\t71\t0\t20\t1\t43\t9\t9\t3\t28\t36\t13\t13\t6\t2\t1\t4\t1\t12\t7\t11\t1\t36\n",
      "43 Folders\t2\t26\t5\t12\t3\t17\t1\t26\t55\t2\t19\t105\t39\t1\t13\t22\t28\t2\t5\t469\t8\t7\t24\t1\t84\t3\t10\t25\t11\t13\t2\t10\t96\t0\t5\t38\t13\t27\t1\t3\t7\t2\t75\t0\t15\t21\t5\t1\t20\t0\t9\t4\t85\t7\t7\t3\t7\t3\t5\t2\t59\t0\t11\t5\t13\t19\t30\t8\t6\t15\t1\t17\t6\t40\t14\t4\t1\t6\t10\t7\t5\t37\t36\t16\t4\t10\t24\t14\t5\t8\t11\t8\t41\t5\t21\t10\t2\t2\t14\t25\t0\t13\t9\t2\t14\t0\t5\t5\t48\t70\t0\t0\t5\t29\t3\t25\t30\t11\t93\t2\t2\t3\t21\t2\t50\t36\t33\t6\t22\t31\t10\t1\t2\t10\t8\t9\t28\t45\t31\t26\t77\t3\t11\t0\t0\t5\t3\t4\t3\t9\t2\t0\t2\t23\t13\t10\t14\t4\t70\t5\t20\t4\t3\t21\t11\t8\t25\t0\t2\t3\t3\t1\t16\t188\t13\t5\t0\t12\t101\t10\t10\t8\t17\t4\t5\t0\t43\t0\t2\t2\t15\t0\t6\t4\t5\t26\t11\t8\t7\t20\t9\t5\t3\t22\t6\t48\t0\t2\t14\t4\t21\t2\t105\t4\t69\t16\t53\t19\t47\t2\t10\t4\t2\t1\t0\t35\t3\t0\t14\t3\t2\t0\t13\t7\t46\t18\t4\t1\t0\t0\t82\t59\t27\t4\t2\t28\t4\t13\t20\t1\t28\t7\t13\t1\t5\t57\t24\t4\t7\t2\t0\t12\t9\t0\t29\t60\t67\t9\t28\t47\t14\t7\t17\t5\t0\t120\t0\t7\t2\t27\t2\t21\t0\t14\t40\t1\t3\t4\t8\t2\t16\t58\t1\t3\t1\t13\t2\t10\t29\t1\t22\t20\t16\t54\t2\t8\t1\t5\t37\t44\t7\t6\t33\t27\t0\t3\t3\t7\t18\t45\t3\t9\t11\t32\t29\t2\t2\t2\t0\t3\t0\t7\t7\t7\t6\t10\t2\t11\t2\t1\t5\t12\t7\t1\t6\t50\t2\t15\t45\t11\t7\t50\t11\t7\t68\t83\t1\t17\t8\t2\t37\t45\t27\t28\t10\t14\t10\t26\t4\t3\t6\t8\t39\t13\t4\t74\t16\t4\t13\t9\t24\t9\t3\t8\t6\t13\t13\t0\t18\t3\t10\t0\t3\t8\t2\t16\t4\t17\t3\t0\t6\t6\t1\t19\t1\t8\t4\t12\t13\t74\t0\t14\t4\t45\t32\t28\t10\t41\t73\t16\t3\t15\t11\t3\t0\t3\t21\t4\t20\t15\t46\n",
      "Kotaku\t0\t0\t0\t0\t1\t0\t0\t1\t0\t3\t0\t4\t0\t0\t0\t1\t2\t1\t0\t7\t0\t1\t6\t1\t2\t0\t0\t1\t1\t1\t1\t1\t8\t0\t0\t0\t2\t0\t0\t0\t0\t0\t4\t0\t0\t0\t0\t4\t0\t0\t0\t0\t8\t0\t0\t2\t1\t0\t0\t1\t3\t0\t0\t0\t0\t0\t0\t2\t0\t1\t0\t1\t0\t5\t1\t0\t2\t0\t0\t0\t1\t3\t2\t0\t1\t0\t1\t4\t0\t4\t2\t0\t1\t0\t0\t2\t0\t0\t0\t1\t0\t1\t0\t2\t1\t0\t1\t4\t5\t2\t0\t0\t1\t0\t0\t2\t2\t1\t5\t0\t0\t0\t2\t1\t1\t0\t0\t2\t2\t1\t2\t1\t0\t0\t0\t0\t2\t1\t3\t3\t0\t0\t1\t0\t0\t0\t1\t0\t0\t0\t0\t0\t0\t1\t0\t0\t0\t0\t3\t0\t0\t0\t0\t2\t0\t0\t0\t0\t1\t1\t0\t1\t1\t2\t3\t2\t2\t1\t4\t0\t1\t0\t1\t0\t0\t1\t26\t0\t0\t0\t2\t0\t2\t0\t2\t1\t0\t0\t2\t0\t0\t1\t0\t0\t0\t3\t0\t1\t0\t0\t2\t0\t3\t2\t34\t1\t4\t5\t2\t0\t1\t0\t0\t0\t0\t3\t2\t1\t4\t1\t0\t0\t2\t0\t1\t0\t0\t1\t0\t1\t2\t2\t0\t0\t1\t0\t0\t4\t2\t0\t6\t0\t0\t0\t2\t0\t3\t0\t0\t2\t1\t1\t1\t0\t0\t1\t7\t0\t3\t4\t0\t0\t0\t0\t0\t1\t0\t6\t0\t0\t12\t2\t1\t0\t2\t0\t0\t0\t0\t0\t0\t7\t0\t0\t0\t3\t0\t1\t0\t0\t0\t1\t1\t0\t0\t1\t0\t0\t2\t1\t1\t0\t1\t4\t0\t0\t0\t2\t0\t0\t0\t0\t1\t0\t1\t1\t0\t0\t0\t1\t0\t1\t0\t0\t1\t2\t0\t2\t0\t0\t0\t0\t0\t0\t0\t5\t0\t0\t6\t0\t1\t3\t0\t5\t5\t8\t0\t0\t0\t0\t0\t2\t1\t2\t0\t6\t1\t1\t0\t0\t2\t0\t2\t0\t1\t2\t1\t0\t0\t0\t2\t0\t1\t0\t1\t0\t4\t0\t1\t0\t2\t3\t0\t0\t1\t1\t2\t0\t0\t0\t0\t1\t0\t0\t0\t0\t2\t1\t1\t7\t1\t0\t0\t7\t1\t1\t0\t6\t4\t0\t2\t1\t1\t0\t0\t0\t2\t0\t2\t0\t3\n",
      "Joho the Blog\t0\t0\t10\t0\t0\t0\t0\t1\t3\t0\t0\t0\t0\t3\t0\t0\t1\t0\t0\t5\t0\t0\t0\t0\t0\t0\t0\t1\t1\t0\t2\t0\t1\t0\t0\t3\t0\t1\t0\t0\t0\t1\t1\t0\t0\t0\t0\t0\t0\t0\t0\t0\t0\t0\t0\t0\t0\t0\t0\t0\t2\t0\t0\t0\t0\t0\t0\t0\t1\t1\t0\t0\t0\t0\t0\t0\t0\t0\t0\t0\t0\t1\t0\t0\t0\t0\t0\t0\t0\t3\t1\t0\t0\t1\t1\t0\t3\t0\t0\t0\t0\t0\t0\t0\t1\t0\t0\t0\t0\t0\t0\t0\t0\t3\t0\t1\t0\t0\t2\t0\t1\t1\t0\t0\t0\t0\t1\t0\t3\t0\t0\t0\t0\t1\t1\t0\t0\t0\t0\t1\t0\t0\t0\t0\t0\t0\t1\t0\t3\t0\t0\t0\t0\t0\t0\t0\t0\t0\t1\t0\t0\t0\t0\t1\t0\t0\t0\t1\t0\t0\t0\t0\t0\t2\t0\t0\t0\t0\t3\t1\t0\t0\t0\t0\t0\t0\t0\t0\t0\t0\t0\t1\t0\t0\t0\t0\t0\t0\t0\t0\t2\t0\t5\t0\t0\t0\t0\t0\t0\t0\t0\t0\t3\t0\t0\t0\t1\t2\t2\t0\t0\t1\t1\t0\t0\t0\t0\t0\t1\t1\t0\t0\t0\t0\t0\t1\t0\t0\t0\t1\t0\t1\t0\t0\t10\t0\t0\t1\t0\t0\t0\t0\t0\t0\t1\t1\t0\t0\t0\t0\t2\t0\t0\t0\t2\t0\t2\t0\t0\t0\t0\t0\t0\t0\t0\t6\t0\t0\t0\t0\t0\t1\t0\t0\t1\t0\t1\t0\t0\t1\t0\t0\t0\t1\t0\t0\t0\t0\t10\t0\t2\t0\t0\t6\t0\t0\t0\t0\t0\t3\t1\t0\t0\t1\t0\t0\t0\t0\t1\t1\t1\t0\t0\t0\t0\t0\t3\t3\t10\t0\t0\t0\t0\t0\t0\t0\t0\t0\t0\t0\t0\t0\t0\t0\t0\t6\t0\t0\t1\t3\t0\t0\t0\t0\t0\t0\t0\t0\t0\t0\t0\t0\t0\t0\t0\t0\t1\t0\t0\t1\t0\t0\t0\t0\t0\t0\t0\t0\t0\t0\t1\t0\t0\t0\t0\t0\t0\t0\t0\t0\t0\t0\t2\t0\t0\t0\t0\t0\t1\t1\t0\t0\t0\t0\t0\t0\t3\t0\t0\t2\t0\t0\t0\t7\t1\t0\t0\t0\t4\t1\t0\t0\t0\t0\t0\t4\t0\t0\t0\t0\t0\n",
      "TMZ.com\t0\t0\t0\t0\t1\t0\t0\t0\t1\t3\t0\t1\t0\t0\t0\t0\t2\t0\t2\t1\t0\t1\t0\t0\t8\t0\t0\t0\t0\t0\t1\t0\t2\t0\t0\t0\t3\t0\t0\t0\t0\t3\t2\t0\t0\t0\t0\t0\t1\t0\t0\t0\t1\t0\t0\t1\t0\t1\t0\t1\t0\t0\t0\t0\t1\t0\t0\t0\t0\t0\t0\t11\t2\t1\t0\t0\t1\t0\t0\t1\t0\t0\t0\t0\t0\t0\t0\t1\t0\t0\t1\t0\t0\t0\t0\t0\t2\t2\t0\t2\t0\t0\t0\t0\t0\t0\t0\t0\t2\t1\t0\t0\t0\t3\t0\t2\t4\t2\t5\t0\t0\t2\t2\t0\t0\t1\t1\t0\t0\t2\t0\t0\t2\t0\t0\t0\t1\t0\t0\t1\t0\t0\t0\t0\t0\t1\t0\t0\t0\t0\t0\t0\t0\t0\t0\t0\t0\t0\t2\t0\t2\t0\t1\t0\t0\t0\t1\t0\t1\t1\t0\t0\t0\t0\t2\t0\t0\t1\t4\t0\t0\t0\t2\t1\t0\t0\t0\t0\t0\t0\t0\t2\t0\t0\t1\t2\t0\t1\t0\t0\t0\t1\t0\t1\t2\t0\t0\t0\t0\t0\t0\t0\t6\t1\t1\t0\t1\t3\t0\t0\t0\t3\t1\t0\t0\t1\t0\t4\t3\t0\t0\t0\t0\t1\t0\t0\t0\t0\t3\t0\t0\t0\t0\t0\t0\t1\t0\t0\t0\t1\t0\t0\t0\t0\t1\t1\t0\t1\t1\t0\t1\t1\t3\t5\t6\t3\t3\t0\t1\t2\t0\t0\t1\t1\t0\t2\t0\t0\t0\t0\t0\t1\t0\t0\t0\t0\t0\t0\t1\t3\t0\t6\t0\t0\t0\t1\t0\t1\t3\t0\t0\t0\t0\t2\t0\t2\t0\t1\t2\t6\t0\t1\t0\t0\t0\t0\t1\t0\t0\t1\t0\t0\t0\t1\t1\t0\t0\t0\t0\t0\t0\t0\t0\t0\t0\t0\t0\t1\t0\t4\t1\t0\t1\t0\t0\t5\t0\t0\t5\t0\t0\t0\t1\t0\t1\t0\t0\t0\t0\t0\t1\t0\t0\t9\t0\t2\t1\t0\t0\t0\t0\t0\t8\t0\t0\t0\t1\t0\t1\t0\t0\t0\t0\t0\t0\t0\t2\t0\t0\t0\t2\t0\t0\t0\t0\t0\t0\t0\t0\t0\t0\t2\t0\t0\t0\t1\t0\t0\t0\t1\t0\t0\t0\t3\t1\t5\t0\t3\t0\t2\t0\t0\t0\t0\t1\t0\t1\t1\t0\t1\t1\n",
      "Joi Ito's Web\t0\t0\t0\t0\t0\t0\t0\t0\t1\t1\t0\t3\t0\t0\t0\t1\t1\t0\t0\t14\t0\t0\t0\t0\t5\t0\t0\t9\t0\t1\t0\t1\t2\t0\t0\t0\t0\t1\t1\t0\t0\t1\t2\t0\t1\t0\t0\t0\t0\t0\t0\t0\t0\t0\t0\t0\t0\t0\t0\t0\t2\t0\t0\t0\t0\t0\t0\t0\t1\t0\t1\t3\t0\t0\t2\t0\t0\t0\t2\t0\t2\t0\t0\t2\t0\t0\t0\t2\t0\t4\t0\t0\t0\t0\t0\t0\t5\t0\t0\t0\t0\t0\t0\t1\t0\t0\t0\t0\t1\t0\t0\t0\t0\t3\t0\t0\t2\t0\t0\t0\t1\t0\t0\t0\t0\t0\t0\t0\t2\t2\t0\t0\t0\t0\t0\t1\t0\t0\t0\t0\t0\t0\t2\t0\t0\t0\t0\t0\t0\t0\t0\t0\t0\t0\t0\t0\t0\t1\t0\t0\t0\t0\t0\t0\t0\t0\t1\t0\t0\t0\t0\t0\t0\t9\t2\t0\t0\t1\t1\t0\t0\t0\t1\t0\t0\t5\t1\t0\t0\t0\t0\t4\t0\t0\t0\t2\t0\t0\t0\t0\t0\t0\t1\t0\t0\t0\t0\t0\t0\t0\t0\t0\t9\t0\t2\t0\t0\t0\t2\t0\t0\t0\t0\t0\t0\t2\t0\t0\t0\t0\t0\t0\t1\t0\t0\t0\t0\t0\t0\t0\t1\t0\t0\t0\t0\t0\t0\t0\t0\t0\t4\t0\t1\t0\t0\t1\t0\t0\t0\t0\t0\t0\t0\t0\t4\t0\t5\t0\t1\t1\t0\t0\t0\t0\t0\t0\t0\t0\t0\t0\t0\t2\t2\t0\t2\t0\t0\t0\t2\t0\t0\t0\t0\t0\t3\t0\t0\t0\t4\t0\t3\t3\t0\t1\t0\t0\t4\t0\t0\t2\t0\t0\t1\t1\t0\t0\t0\t1\t0\t0\t0\t0\t0\t0\t0\t0\t0\t0\t0\t1\t0\t3\t0\t0\t0\t0\t0\t0\t0\t1\t0\t1\t0\t0\t1\t0\t0\t0\t0\t0\t0\t0\t0\t0\t0\t0\t0\t0\t0\t0\t0\t2\t0\t2\t0\t1\t0\t0\t0\t0\t0\t0\t0\t1\t0\t2\t3\t0\t0\t0\t0\t0\t0\t1\t1\t0\t0\t1\t1\t0\t1\t0\t0\t0\t0\t0\t0\t0\t3\t0\t0\t0\t0\t0\t2\t0\t0\t0\t0\t3\t0\t0\t0\t0\t0\t0\t0\t0\t2\t3\t0\t0\t0\t1\t0\t0\t0\t0\t0\t1\t0\n",
      "Lifehacker\t1\t2\t0\t2\t1\t0\t0\t3\t3\t2\t0\t9\t2\t0\t0\t4\t2\t0\t1\t6\t0\t0\t2\t2\t0\t0\t0\t0\t3\t0\t1\t1\t8\t0\t0\t0\t3\t0\t0\t0\t2\t0\t3\t0\t1\t0\t0\t3\t1\t1\t0\t1\t7\t2\t0\t0\t1\t0\t0\t0\t7\t0\t1\t0\t0\t1\t3\t1\t0\t1\t3\t2\t0\t3\t3\t0\t0\t0\t5\t0\t0\t2\t7\t1\t0\t0\t0\t1\t0\t0\t0\t2\t2\t2\t0\t0\t4\t1\t1\t4\t0\t2\t0\t0\t0\t1\t0\t5\t12\t2\t0\t0\t0\t4\t0\t1\t3\t0\t13\t0\t0\t2\t0\t0\t1\t2\t3\t1\t1\t0\t0\t1\t1\t0\t0\t1\t4\t5\t4\t1\t1\t0\t2\t4\t0\t2\t0\t0\t0\t0\t0\t0\t0\t2\t1\t0\t0\t1\t2\t0\t2\t0\t1\t0\t0\t3\t2\t2\t0\t1\t0\t0\t1\t1\t2\t1\t1\t0\t5\t1\t0\t0\t0\t0\t0\t0\t28\t0\t0\t1\t1\t0\t0\t0\t3\t2\t0\t3\t2\t1\t0\t0\t0\t4\t0\t7\t0\t0\t1\t1\t0\t0\t6\t0\t34\t2\t2\t5\t3\t0\t1\t1\t1\t0\t0\t1\t1\t1\t3\t2\t2\t0\t0\t0\t1\t2\t0\t0\t0\t2\t3\t0\t2\t0\t0\t0\t0\t7\t1\t0\t5\t1\t1\t0\t1\t2\t1\t1\t1\t0\t0\t0\t0\t1\t0\t8\t1\t1\t5\t1\t3\t0\t0\t1\t0\t3\t0\t0\t0\t1\t1\t1\t0\t1\t3\t0\t0\t0\t1\t1\t2\t3\t0\t2\t0\t1\t0\t2\t0\t2\t0\t1\t1\t6\t1\t1\t1\t0\t4\t6\t1\t0\t4\t6\t0\t0\t0\t1\t1\t4\t0\t0\t0\t1\t0\t1\t0\t0\t0\t3\t0\t0\t2\t1\t0\t1\t0\t1\t0\t0\t0\t0\t2\t0\t0\t12\t1\t2\t3\t1\t1\t4\t0\t2\t8\t16\t0\t0\t1\t0\t1\t4\t2\t1\t0\t4\t0\t1\t0\t1\t0\t4\t0\t1\t1\t1\t1\t0\t1\t0\t3\t0\t1\t0\t0\t0\t0\t1\t0\t0\t3\t2\t1\t0\t0\t0\t0\t2\t0\t0\t0\t0\t0\t0\t0\t0\t0\t0\t1\t3\t0\t0\t0\t4\t2\t1\t0\t2\t5\t0\t0\t1\t2\t1\t0\t1\t4\t2\t0\t0\t4\n",
      "PerezHilton\t0\t1\t0\t0\t1\t0\t0\t0\t0\t1\t0\t0\t0\t0\t0\t1\t2\t0\t0\t2\t0\t1\t1\t2\t4\t0\t0\t0\t2\t0\t0\t0\t0\t0\t0\t0\t2\t0\t0\t0\t0\t0\t0\t0\t0\t0\t0\t0\t2\t0\t0\t1\t1\t0\t0\t3\t0\t0\t0\t4\t2\t0\t0\t0\t0\t0\t1\t0\t0\t0\t1\t3\t2\t0\t0\t0\t0\t1\t2\t0\t0\t0\t0\t0\t1\t0\t1\t0\t0\t1\t1\t0\t0\t0\t2\t0\t1\t0\t0\t2\t1\t0\t0\t0\t0\t0\t0\t2\t1\t1\t0\t0\t0\t1\t0\t0\t3\t0\t2\t0\t3\t0\t0\t1\t0\t0\t0\t0\t0\t0\t0\t0\t0\t2\t0\t0\t0\t2\t2\t2\t2\t0\t0\t0\t0\t0\t1\t0\t0\t2\t0\t0\t0\t0\t0\t0\t0\t0\t2\t0\t4\t0\t0\t0\t0\t1\t1\t0\t1\t0\t0\t1\t0\t0\t2\t0\t0\t2\t3\t0\t0\t0\t0\t0\t0\t0\t0\t0\t0\t2\t0\t0\t0\t0\t1\t0\t0\t1\t0\t0\t0\t1\t2\t0\t0\t1\t1\t0\t1\t0\t1\t0\t1\t1\t0\t0\t0\t1\t0\t1\t0\t1\t0\t0\t0\t0\t0\t3\t1\t0\t0\t0\t1\t0\t3\t1\t1\t0\t0\t0\t0\t0\t0\t0\t0\t1\t2\t1\t0\t1\t2\t0\t0\t0\t0\t0\t1\t0\t0\t1\t0\t0\t0\t2\t7\t0\t4\t0\t2\t3\t0\t0\t1\t0\t0\t4\t0\t0\t0\t2\t1\t1\t0\t0\t0\t0\t0\t3\t1\t0\t0\t3\t0\t0\t0\t0\t2\t0\t1\t2\t0\t1\t0\t1\t0\t0\t1\t0\t1\t3\t0\t2\t0\t0\t0\t0\t0\t0\t0\t0\t0\t0\t1\t0\t1\t0\t0\t0\t0\t0\t0\t0\t0\t0\t0\t0\t0\t0\t0\t0\t1\t0\t0\t0\t0\t3\t1\t0\t3\t3\t0\t0\t0\t0\t4\t0\t0\t0\t0\t0\t0\t0\t0\t6\t0\t0\t0\t0\t0\t0\t0\t0\t11\t0\t1\t2\t0\t0\t0\t0\t0\t0\t0\t0\t0\t0\t1\t0\t1\t0\t5\t0\t0\t0\t0\t0\t0\t1\t0\t0\t0\t2\t0\t1\t0\t0\t0\t0\t1\t3\t0\t0\t0\t3\t0\t0\t0\t0\t1\t2\t0\t0\t0\t0\t0\t0\t1\t0\t0\t0\t3\n",
      "WIL WHEATON dot NET\t4\t7\t2\t4\t0\t5\t6\t7\t16\t3\t2\t26\t10\t1\t14\t3\t16\t0\t1\t423\t2\t0\t4\t5\t22\t1\t17\t5\t4\t5\t0\t16\t36\t0\t1\t14\t8\t2\t1\t4\t7\t0\t48\t0\t1\t4\t1\t0\t2\t0\t1\t3\t53\t3\t4\t4\t3\t5\t2\t3\t25\t0\t1\t6\t4\t5\t10\t2\t1\t3\t1\t105\t1\t33\t4\t4\t0\t3\t12\t28\t0\t14\t15\t14\t3\t2\t4\t2\t4\t1\t0\t3\t9\t3\t9\t15\t1\t2\t20\t24\t1\t6\t5\t3\t4\t0\t1\t9\t42\t22\t0\t0\t2\t11\t2\t3\t30\t4\t63\t0\t2\t0\t17\t3\t6\t10\t8\t1\t16\t21\t11\t0\t2\t11\t0\t17\t4\t10\t11\t6\t5\t0\t1\t1\t0\t3\t2\t0\t0\t2\t3\t0\t3\t20\t0\t2\t12\t22\t23\t0\t10\t3\t11\t8\t0\t4\t9\t0\t3\t1\t0\t6\t6\t75\t11\t5\t1\t2\t8\t3\t6\t3\t3\t2\t5\t0\t9\t0\t1\t1\t2\t1\t5\t0\t0\t14\t1\t4\t11\t1\t1\t6\t1\t19\t0\t17\t0\t0\t12\t4\t29\t0\t33\t2\t29\t2\t20\t5\t47\t1\t0\t1\t3\t3\t0\t29\t7\t0\t8\t2\t0\t0\t5\t4\t24\t19\t0\t0\t0\t10\t44\t6\t2\t3\t1\t2\t7\t3\t3\t0\t5\t15\t2\t1\t6\t36\t6\t1\t9\t2\t0\t6\t7\t0\t122\t15\t80\t0\t22\t22\t2\t1\t13\t16\t0\t25\t1\t4\t2\t2\t4\t18\t0\t2\t39\t0\t0\t1\t8\t1\t7\t24\t1\t0\t0\t4\t0\t2\t7\t0\t2\t4\t0\t13\t0\t0\t3\t2\t9\t32\t0\t4\t35\t5\t0\t8\t3\t8\t18\t6\t5\t2\t2\t5\t8\t2\t0\t3\t0\t3\t3\t9\t4\t2\t1\t0\t0\t5\t1\t0\t3\t4\t8\t0\t0\t41\t3\t5\t39\t5\t6\t39\t3\t0\t26\t6\t0\t1\t1\t2\t12\t5\t1\t6\t4\t0\t5\t3\t1\t2\t4\t0\t15\t1\t4\t32\t3\t1\t7\t1\t5\t6\t0\t1\t12\t2\t9\t0\t10\t6\t5\t2\t1\t1\t7\t3\t2\t2\t0\t0\t0\t6\t0\t0\t4\t11\t1\t0\t3\t43\t0\t15\t2\t23\t14\t14\t4\t9\t22\t8\t0\t10\t2\t2\t2\t0\t8\t10\t3\t2\t23\n",
      "Google Operating System\t0\t0\t2\t0\t7\t0\t11\t3\t1\t0\t0\t27\t1\t0\t0\t10\t16\t1\t0\t13\t4\t0\t2\t0\t6\t2\t1\t0\t0\t4\t1\t2\t16\t0\t3\t3\t2\t0\t2\t0\t0\t0\t6\t1\t0\t3\t1\t0\t0\t7\t0\t10\t23\t3\t2\t3\t1\t0\t0\t2\t11\t0\t7\t0\t1\t1\t1\t1\t0\t1\t0\t0\t0\t5\t1\t0\t0\t0\t5\t1\t3\t2\t5\t0\t2\t1\t0\t2\t0\t2\t0\t1\t3\t1\t5\t4\t0\t1\t0\t4\t0\t0\t0\t0\t0\t2\t0\t3\t6\t1\t13\t2\t5\t1\t0\t0\t15\t0\t7\t108\t0\t0\t7\t0\t4\t1\t0\t0\t9\t2\t1\t0\t1\t0\t0\t5\t7\t2\t0\t0\t1\t2\t1\t0\t0\t2\t0\t5\t0\t3\t0\t0\t0\t2\t3\t0\t0\t0\t4\t0\t1\t0\t5\t0\t1\t0\t3\t1\t0\t1\t0\t0\t1\t3\t1\t1\t0\t0\t10\t1\t1\t0\t0\t0\t1\t0\t1\t5\t0\t0\t0\t0\t4\t1\t0\t2\t2\t2\t0\t1\t1\t2\t1\t3\t4\t3\t0\t3\t0\t4\t3\t0\t10\t0\t14\t0\t13\t3\t3\t2\t3\t0\t1\t2\t0\t2\t0\t0\t1\t1\t4\t0\t2\t0\t3\t2\t1\t0\t0\t0\t1\t0\t1\t1\t1\t0\t0\t1\t0\t2\t24\t1\t1\t4\t0\t2\t1\t0\t9\t0\t1\t0\t3\t0\t0\t0\t8\t0\t6\t8\t1\t0\t0\t1\t2\t7\t1\t2\t0\t1\t2\t0\t3\t2\t4\t0\t0\t0\t2\t0\t0\t3\t1\t1\t2\t2\t2\t0\t5\t0\t0\t4\t0\t2\t4\t9\t0\t1\t6\t7\t2\t0\t7\t9\t2\t0\t4\t0\t3\t12\t0\t0\t0\t1\t2\t1\t1\t0\t0\t4\t18\t0\t0\t0\t0\t4\t0\t0\t1\t4\t2\t1\t0\t1\t1\t11\t1\t0\t5\t0\t0\t15\t1\t1\t17\t20\t0\t2\t0\t0\t7\t1\t3\t0\t0\t3\t1\t2\t0\t3\t0\t5\t0\t0\t2\t1\t0\t0\t3\t0\t3\t1\t0\t0\t6\t1\t0\t0\t4\t0\t2\t0\t0\t0\t0\t0\t1\t1\t3\t0\t0\t0\t1\t1\t1\t0\t1\t2\t2\t3\t0\t0\t0\t13\t2\t1\t2\t16\t4\t3\t0\t0\t1\t0\t4\t1\t2\t0\t5\t0\t1\n",
      "The Full Feed from HuffingtonPost.com\t0\t0\t0\t0\t0\t0\t0\t0\t0\t1\t0\t2\t0\t0\t0\t0\t1\t0\t0\t1\t0\t0\t0\t0\t6\t0\t1\t0\t0\t0\t0\t1\t0\t2\t0\t2\t1\t0\t0\t0\t2\t0\t2\t0\t0\t0\t0\t0\t1\t0\t0\t0\t3\t0\t1\t1\t0\t0\t0\t0\t3\t0\t0\t0\t0\t0\t0\t0\t0\t0\t0\t0\t0\t1\t0\t0\t0\t1\t0\t0\t0\t0\t2\t7\t0\t1\t4\t1\t0\t0\t0\t0\t3\t0\t0\t0\t0\t0\t0\t3\t2\t0\t0\t0\t1\t1\t0\t1\t2\t4\t0\t0\t0\t0\t0\t0\t0\t0\t4\t0\t0\t0\t0\t0\t2\t0\t1\t0\t1\t3\t0\t1\t0\t0\t2\t1\t0\t0\t0\t2\t0\t0\t0\t0\t0\t2\t0\t0\t0\t2\t0\t0\t1\t0\t0\t0\t0\t0\t1\t0\t0\t1\t1\t0\t0\t0\t0\t1\t0\t0\t0\t0\t0\t0\t0\t0\t0\t1\t1\t0\t0\t0\t0\t0\t0\t0\t10\t0\t0\t2\t0\t0\t0\t0\t0\t4\t0\t0\t0\t0\t0\t0\t0\t0\t0\t2\t0\t0\t0\t0\t1\t0\t2\t0\t24\t0\t1\t1\t1\t0\t0\t0\t0\t0\t0\t0\t1\t0\t0\t0\t0\t6\t0\t0\t2\t1\t2\t0\t2\t0\t0\t0\t1\t0\t2\t4\t0\t0\t0\t0\t1\t0\t0\t1\t0\t0\t0\t0\t0\t0\t0\t0\t1\t0\t1\t0\t1\t0\t1\t2\t0\t1\t0\t0\t0\t2\t0\t1\t0\t0\t0\t0\t0\t0\t1\t0\t0\t0\t0\t2\t0\t1\t0\t0\t0\t0\t0\t0\t6\t0\t0\t0\t0\t0\t0\t0\t1\t1\t0\t0\t0\t0\t0\t1\t0\t0\t0\t0\t0\t0\t0\t0\t0\t0\t2\t0\t0\t0\t0\t0\t0\t0\t0\t0\t0\t0\t0\t1\t0\t0\t0\t0\t0\t0\t0\t2\t1\t0\t0\t0\t0\t1\t0\t0\t3\t0\t0\t0\t0\t1\t0\t5\t1\t5\t0\t0\t2\t0\t0\t0\t0\t0\t2\t0\t0\t1\t1\t0\t0\t0\t0\t0\t0\t0\t0\t0\t0\t0\t1\t0\t2\t0\t0\t1\t3\t0\t3\t0\t0\t0\t0\t0\t2\t0\t0\t2\t0\t2\t0\t6\t0\t0\t0\t1\t0\t0\t1\t1\t4\t0\t0\t1\t0\t0\t0\t0\t0\t0\t0\t1\t1\n",
      "ongoing by Tim Bray\t0\t0\t1\t0\t0\t1\t0\t0\t0\t4\t1\t4\t0\t1\t0\t0\t1\t0\t1\t48\t0\t0\t1\t0\t12\t0\t1\t1\t1\t0\t1\t1\t10\t1\t0\t1\t0\t3\t0\t0\t0\t0\t10\t0\t0\t1\t0\t0\t0\t0\t0\t1\t4\t1\t0\t0\t2\t0\t0\t0\t1\t0\t2\t0\t0\t0\t1\t0\t1\t0\t0\t1\t0\t6\t0\t0\t0\t0\t1\t0\t0\t1\t0\t1\t0\t0\t1\t1\t1\t0\t0\t0\t4\t0\t1\t0\t0\t0\t0\t2\t0\t0\t0\t0\t0\t0\t0\t2\t2\t2\t0\t0\t1\t3\t0\t0\t3\t1\t11\t0\t1\t0\t3\t0\t0\t2\t2\t1\t0\t4\t0\t0\t0\t4\t0\t2\t4\t3\t2\t0\t0\t0\t0\t1\t0\t0\t0\t0\t0\t1\t0\t0\t0\t0\t0\t1\t0\t0\t1\t0\t1\t2\t0\t1\t0\t0\t0\t0\t1\t2\t0\t0\t2\t10\t1\t0\t0\t0\t4\t0\t1\t0\t0\t0\t0\t0\t1\t0\t0\t0\t1\t0\t0\t1\t0\t1\t0\t0\t0\t0\t0\t1\t0\t2\t0\t12\t0\t0\t3\t0\t0\t0\t5\t0\t2\t0\t0\t1\t6\t0\t0\t0\t1\t0\t0\t0\t1\t0\t0\t0\t1\t0\t0\t0\t3\t0\t0\t0\t0\t0\t5\t3\t0\t0\t0\t0\t0\t0\t0\t0\t2\t3\t0\t0\t2\t0\t0\t0\t0\t1\t0\t0\t0\t0\t1\t0\t3\t1\t5\t5\t0\t0\t0\t0\t0\t4\t0\t1\t0\t1\t0\t1\t0\t0\t2\t0\t0\t0\t0\t0\t0\t3\t0\t0\t0\t3\t0\t0\t3\t0\t2\t0\t2\t0\t0\t0\t0\t0\t2\t2\t0\t0\t6\t0\t0\t0\t0\t0\t2\t3\t0\t0\t0\t0\t2\t0\t0\t0\t0\t0\t0\t0\t0\t0\t0\t0\t0\t0\t0\t0\t0\t0\t0\t0\t0\t7\t0\t0\t7\t0\t0\t0\t0\t0\t7\t3\t0\t1\t1\t1\t0\t0\t3\t0\t0\t0\t2\t0\t0\t0\t0\t0\t1\t0\t1\t8\t3\t0\t1\t1\t2\t0\t0\t0\t1\t0\t0\t0\t3\t1\t1\t1\t0\t0\t1\t0\t0\t2\t0\t0\t0\t0\t1\t0\t1\t1\t0\t0\t0\t1\t4\t0\t0\t8\t1\t0\t1\t2\t6\t4\t1\t0\t0\t1\t0\t0\t1\t0\t4\t0\t4\n",
      "Signal v. Noise - Medium\t2\t4\t0\t3\t0\t5\t0\t37\t37\t24\t20\t47\t4\t4\t13\t9\t16\t6\t1\t256\t2\t7\t21\t10\t144\t1\t15\t1\t4\t6\t2\t14\t69\t0\t0\t4\t4\t4\t0\t2\t10\t3\t55\t0\t8\t3\t5\t0\t29\t6\t1\t0\t39\t7\t6\t4\t2\t2\t5\t10\t52\t10\t15\t1\t2\t6\t17\t7\t7\t3\t3\t8\t5\t26\t7\t3\t2\t3\t5\t16\t0\t21\t13\t18\t19\t6\t25\t5\t4\t2\t0\t7\t12\t1\t10\t8\t4\t4\t4\t12\t3\t3\t3\t5\t27\t0\t3\t11\t102\t29\t3\t0\t3\t19\t8\t5\t36\t3\t61\t1\t5\t2\t10\t3\t9\t10\t16\t4\t16\t15\t8\t4\t1\t16\t2\t6\t20\t11\t10\t8\t13\t5\t14\t1\t3\t1\t8\t20\t9\t3\t4\t11\t4\t19\t6\t6\t5\t8\t37\t4\t23\t3\t16\t14\t3\t7\t17\t1\t12\t0\t0\t1\t16\t34\t7\t4\t0\t13\t42\t4\t11\t25\t6\t10\t2\t2\t3\t0\t2\t0\t14\t0\t3\t25\t3\t58\t2\t9\t1\t1\t3\t6\t0\t33\t3\t46\t5\t3\t13\t2\t23\t35\t49\t2\t54\t1\t13\t56\t17\t2\t2\t0\t3\t3\t0\t42\t11\t1\t19\t8\t0\t0\t16\t1\t41\t5\t4\t0\t2\t11\t29\t19\t17\t0\t3\t10\t1\t6\t3\t0\t24\t17\t8\t1\t9\t27\t17\t2\t11\t4\t0\t7\t14\t0\t4\t57\t111\t3\t17\t41\t9\t2\t4\t5\t1\t36\t1\t2\t2\t4\t1\t20\t2\t4\t49\t0\t8\t1\t4\t0\t20\t33\t4\t4\t4\t5\t0\t2\t26\t0\t4\t8\t10\t71\t6\t4\t0\t12\t30\t59\t2\t17\t35\t7\t0\t4\t1\t11\t14\t10\t1\t0\t5\t7\t6\t2\t1\t7\t0\t7\t10\t4\t2\t5\t8\t4\t1\t4\t39\t10\t6\t11\t10\t1\t5\t45\t5\t2\t34\t6\t8\t39\t14\t2\t44\t87\t6\t8\t3\t7\t17\t31\t12\t30\t8\t1\t6\t7\t4\t2\t7\t4\t86\t0\t0\t71\t20\t9\t11\t4\t24\t11\t2\t3\t1\t3\t2\t5\t11\t2\t6\t1\t4\t4\t0\t10\t1\t10\t14\t2\t1\t0\t0\t1\t8\t11\t8\t6\t3\t57\t4\t3\t4\t51\t10\t14\t6\t10\t74\t18\t8\t0\t1\t6\t4\t2\t16\t14\t8\t6\t29\n",
      "ProBlogger\t0\t3\t28\t1\t6\t0\t0\t6\t2\t1\t0\t2\t4\t0\t1\t0\t3\t0\t0\t11\t0\t0\t1\t2\t0\t0\t6\t0\t1\t0\t3\t5\t4\t0\t0\t0\t0\t0\t9\t0\t0\t0\t1\t0\t0\t1\t4\t3\t0\t0\t0\t4\t4\t0\t0\t0\t1\t0\t0\t0\t4\t1\t6\t0\t0\t0\t4\t1\t0\t1\t9\t4\t0\t6\t3\t0\t0\t0\t1\t1\t0\t1\t1\t1\t2\t0\t1\t5\t0\t0\t0\t1\t2\t0\t1\t1\t5\t0\t0\t3\t0\t0\t0\t1\t0\t0\t0\t4\t4\t1\t0\t0\t0\t1\t4\t0\t4\t0\t7\t0\t0\t0\t0\t0\t2\t1\t0\t1\t1\t5\t4\t0\t0\t0\t0\t0\t1\t2\t0\t1\t0\t0\t1\t0\t0\t0\t0\t0\t0\t0\t0\t0\t0\t2\t1\t0\t0\t0\t3\t0\t0\t0\t0\t0\t1\t0\t0\t0\t0\t0\t1\t0\t1\t1\t2\t0\t0\t0\t5\t2\t0\t8\t1\t0\t0\t0\t2\t4\t0\t0\t0\t1\t0\t0\t1\t1\t0\t0\t0\t1\t0\t0\t1\t4\t0\t6\t0\t0\t1\t0\t5\t0\t8\t1\t25\t0\t4\t2\t2\t0\t0\t0\t0\t2\t0\t6\t0\t0\t0\t0\t0\t0\t0\t0\t6\t0\t1\t2\t0\t0\t0\t3\t3\t0\t27\t0\t0\t6\t2\t0\t1\t3\t2\t0\t0\t2\t1\t0\t1\t2\t0\t1\t0\t0\t5\t23\t10\t0\t2\t6\t0\t1\t0\t1\t0\t0\t0\t0\t2\t0\t0\t2\t0\t2\t4\t0\t0\t0\t1\t0\t0\t4\t0\t0\t1\t0\t0\t0\t28\t0\t3\t3\t1\t4\t0\t0\t4\t0\t0\t1\t1\t0\t2\t3\t0\t0\t3\t2\t2\t2\t0\t0\t0\t0\t3\t0\t0\t0\t20\t0\t0\t0\t1\t1\t0\t1\t1\t2\t1\t0\t0\t0\t1\t0\t0\t4\t0\t0\t1\t0\t3\t5\t1\t0\t8\t31\t0\t0\t0\t0\t4\t0\t0\t0\t1\t0\t0\t0\t3\t0\t0\t5\t0\t0\t0\t6\t0\t1\t1\t0\t5\t2\t0\t0\t5\t1\t0\t0\t1\t1\t0\t0\t0\t1\t0\t0\t0\t0\t1\t0\t2\t0\t0\t1\t0\t0\t0\t2\t1\t7\t0\t0\t0\t9\t1\t3\t0\t0\t4\t0\t1\t1\t0\t0\t0\t0\t1\t0\t1\t0\t2\n",
      "Daily Kos\t5\t9\t0\t5\t3\t10\t0\t10\t10\t4\t6\t58\t6\t2\t15\t27\t40\t0\t5\t38\t11\t3\t14\t4\t78\t3\t18\t9\t12\t4\t6\t8\t78\t8\t3\t20\t17\t1\t6\t10\t6\t7\t33\t16\t4\t4\t3\t0\t61\t2\t3\t1\t42\t3\t7\t2\t2\t2\t2\t3\t37\t4\t0\t11\t6\t6\t13\t4\t7\t8\t2\t18\t18\t5\t6\t2\t11\t15\t11\t14\t2\t22\t36\t29\t6\t5\t24\t22\t4\t4\t10\t3\t11\t0\t9\t8\t1\t2\t10\t18\t2\t2\t2\t8\t38\t2\t2\t4\t73\t55\t6\t7\t2\t28\t5\t15\t31\t15\t86\t0\t7\t3\t9\t9\t26\t15\t9\t2\t20\t24\t12\t2\t6\t13\t5\t7\t35\t10\t8\t15\t12\t5\t1\t1\t3\t5\t8\t4\t2\t10\t4\t5\t9\t9\t5\t3\t6\t0\t34\t2\t18\t2\t13\t12\t9\t6\t13\t1\t8\t3\t3\t6\t8\t9\t16\t3\t5\t18\t73\t0\t9\t2\t19\t8\t1\t7\t1\t0\t3\t45\t9\t6\t2\t2\t9\t24\t2\t5\t6\t2\t8\t8\t2\t24\t1\t19\t15\t0\t4\t6\t19\t9\t51\t8\t42\t8\t48\t49\t3\t2\t0\t9\t4\t0\t12\t24\t12\t11\t5\t1\t1\t29\t9\t18\t20\t9\t1\t1\t18\t11\t6\t9\t3\t4\t4\t6\t2\t9\t12\t0\t23\t0\t5\t2\t8\t24\t9\t4\t3\t2\t6\t5\t11\t108\t30\t25\t51\t2\t19\t38\t10\t7\t5\t8\t6\t75\t0\t2\t3\t37\t2\t14\t0\t10\t19\t3\t3\t8\t10\t9\t8\t31\t1\t3\t2\t2\t0\t2\t20\t31\t0\t16\t10\t57\t0\t0\t2\t0\t31\t43\t3\t5\t26\t13\t8\t4\t10\t5\t3\t28\t3\t10\t5\t9\t9\t0\t6\t1\t0\t5\t1\t3\t10\t10\t2\t8\t3\t6\t9\t4\t4\t10\t9\t18\t7\t87\t8\t1\t23\t4\t7\t28\t3\t7\t24\t21\t5\t4\t3\t8\t8\t10\t26\t92\t6\t1\t18\t9\t0\t11\t1\t1\t96\t2\t0\t30\t22\t6\t20\t5\t9\t4\t4\t2\t2\t10\t4\t8\t8\t9\t23\t21\t4\t4\t61\t7\t15\t7\t11\t5\t3\t2\t10\t6\t2\t14\t4\t3\t3\t64\t0\t4\t4\t41\t4\t4\t8\t21\t46\t13\t0\t7\t6\t3\t13\t6\t11\t4\t19\t2\t19\n",
      "Derek Powazek\t1\t1\t1\t0\t0\t2\t0\t1\t1\t1\t1\t5\t1\t0\t1\t1\t5\t0\t1\t69\t0\t4\t2\t0\t13\t0\t1\t6\t3\t1\t2\t1\t7\t0\t2\t0\t1\t1\t1\t1\t1\t1\t7\t0\t0\t0\t1\t0\t0\t0\t1\t1\t8\t0\t1\t0\t0\t1\t2\t2\t9\t2\t0\t0\t2\t0\t0\t0\t0\t0\t0\t9\t0\t11\t5\t0\t0\t3\t1\t4\t1\t1\t2\t2\t3\t1\t1\t4\t0\t2\t0\t1\t2\t0\t1\t3\t2\t0\t1\t2\t1\t1\t1\t0\t3\t0\t1\t0\t6\t1\t1\t0\t0\t5\t0\t1\t11\t0\t14\t0\t3\t0\t4\t0\t1\t0\t4\t1\t3\t8\t0\t1\t0\t9\t2\t2\t6\t1\t4\t1\t2\t0\t0\t0\t0\t2\t1\t0\t0\t1\t2\t0\t1\t8\t1\t1\t1\t0\t11\t1\t0\t2\t1\t3\t0\t0\t7\t0\t3\t0\t0\t1\t1\t22\t7\t1\t0\t2\t5\t1\t1\t1\t0\t2\t0\t0\t0\t0\t0\t0\t5\t0\t0\t0\t3\t3\t0\t1\t4\t4\t0\t1\t1\t2\t0\t7\t0\t0\t2\t1\t4\t1\t9\t0\t6\t1\t5\t4\t12\t1\t1\t1\t0\t0\t0\t3\t4\t0\t1\t0\t2\t0\t2\t2\t4\t0\t0\t0\t0\t0\t15\t3\t0\t0\t3\t2\t0\t2\t1\t0\t5\t5\t5\t0\t3\t3\t4\t0\t0\t1\t3\t2\t3\t0\t7\t7\t7\t1\t3\t13\t0\t0\t0\t1\t0\t6\t0\t1\t1\t0\t0\t4\t0\t0\t6\t8\t0\t1\t2\t0\t1\t10\t0\t0\t0\t3\t0\t2\t3\t0\t3\t1\t1\t2\t1\t0\t0\t2\t2\t9\t1\t3\t7\t2\t0\t1\t4\t1\t1\t2\t2\t0\t0\t1\t1\t0\t0\t2\t0\t0\t0\t0\t0\t1\t0\t2\t1\t0\t0\t1\t0\t3\t0\t0\t0\t11\t0\t1\t11\t2\t0\t6\t0\t0\t9\t6\t0\t1\t0\t1\t4\t2\t1\t3\t0\t0\t0\t3\t2\t0\t0\t1\t5\t4\t0\t7\t5\t2\t4\t0\t2\t1\t0\t0\t0\t1\t0\t0\t3\t0\t4\t1\t0\t0\t0\t3\t1\t1\t0\t0\t1\t1\t1\t2\t1\t1\t0\t0\t0\t3\t1\t3\t0\t5\t5\t7\t2\t10\t9\t2\t0\t0\t0\t1\t1\t0\t1\t0\t4\t0\t4\n",
      "Joel on Software\t0\t0\t1\t0\t0\t0\t0\t0\t0\t0\t0\t0\t1\t0\t0\t0\t1\t0\t0\t6\t0\t0\t1\t0\t3\t0\t0\t0\t1\t0\t0\t0\t1\t0\t0\t1\t0\t0\t0\t0\t0\t0\t0\t0\t0\t0\t0\t0\t0\t0\t0\t0\t0\t0\t0\t0\t0\t0\t0\t0\t2\t0\t0\t1\t0\t0\t0\t2\t0\t1\t0\t0\t0\t1\t0\t2\t0\t0\t0\t1\t0\t0\t2\t0\t0\t1\t0\t1\t0\t0\t0\t0\t0\t0\t0\t0\t0\t0\t0\t0\t0\t0\t0\t0\t0\t0\t0\t2\t0\t0\t0\t0\t0\t0\t0\t0\t0\t0\t0\t0\t1\t0\t0\t0\t1\t0\t2\t0\t0\t4\t0\t0\t0\t1\t0\t0\t1\t0\t0\t0\t0\t0\t0\t0\t0\t0\t0\t0\t0\t0\t1\t3\t0\t0\t0\t0\t0\t0\t0\t0\t1\t0\t0\t1\t0\t0\t0\t0\t0\t0\t0\t0\t0\t1\t3\t0\t0\t0\t0\t0\t0\t0\t0\t0\t0\t0\t10\t0\t0\t0\t0\t0\t0\t0\t0\t0\t1\t0\t1\t0\t0\t3\t0\t1\t0\t2\t0\t0\t0\t0\t0\t2\t3\t0\t13\t1\t0\t0\t3\t0\t0\t0\t0\t0\t0\t0\t0\t0\t0\t0\t2\t0\t1\t0\t0\t0\t0\t0\t0\t0\t1\t0\t0\t0\t0\t0\t0\t1\t0\t0\t6\t0\t0\t0\t0\t0\t0\t0\t0\t0\t0\t0\t0\t0\t0\t1\t5\t0\t2\t2\t0\t0\t0\t0\t0\t1\t0\t0\t0\t0\t0\t0\t0\t0\t2\t0\t0\t0\t0\t0\t1\t0\t0\t0\t1\t0\t0\t0\t1\t0\t0\t0\t0\t1\t0\t0\t0\t0\t0\t1\t0\t0\t2\t0\t0\t0\t0\t0\t0\t0\t1\t0\t0\t0\t0\t0\t0\t0\t0\t1\t0\t0\t0\t0\t0\t0\t0\t0\t0\t0\t0\t0\t0\t0\t0\t4\t0\t0\t0\t0\t1\t0\t1\t0\t1\t1\t0\t0\t3\t0\t0\t0\t0\t0\t0\t1\t0\t0\t3\t0\t0\t0\t0\t0\t0\t2\t3\t0\t0\t0\t1\t2\t0\t0\t0\t0\t0\t0\t0\t0\t1\t0\t0\t0\t0\t0\t0\t0\t0\t2\t0\t0\t0\t0\t0\t0\t1\t0\t0\t2\t0\t0\t0\t0\t0\t0\t0\t1\t2\t0\t0\t0\t1\t0\t0\t0\t0\t0\t0\t0\t2\n",
      "BuzzMachine\t0\t0\t0\t0\t0\t0\t0\t4\t0\t1\t0\t0\t0\t0\t1\t1\t0\t0\t0\t18\t0\t0\t1\t1\t2\t0\t0\t0\t0\t0\t0\t0\t2\t0\t0\t0\t0\t0\t1\t0\t0\t0\t3\t0\t2\t0\t2\t0\t0\t0\t0\t0\t4\t0\t0\t0\t1\t0\t2\t0\t0\t0\t0\t0\t0\t3\t3\t0\t0\t0\t1\t2\t0\t2\t0\t2\t0\t1\t2\t0\t0\t0\t0\t0\t1\t1\t2\t0\t0\t0\t0\t0\t1\t0\t0\t1\t3\t0\t0\t1\t0\t0\t0\t0\t4\t1\t0\t0\t1\t0\t0\t0\t0\t3\t0\t1\t1\t0\t2\t1\t0\t0\t0\t0\t0\t0\t0\t0\t0\t0\t1\t0\t0\t0\t0\t1\t5\t1\t0\t0\t1\t0\t0\t0\t1\t0\t0\t0\t0\t2\t0\t0\t0\t0\t4\t0\t0\t0\t1\t0\t0\t0\t0\t2\t0\t0\t0\t0\t0\t0\t0\t0\t0\t8\t0\t3\t0\t1\t5\t0\t0\t1\t0\t0\t0\t0\t0\t0\t0\t0\t0\t0\t0\t0\t0\t2\t0\t0\t0\t1\t2\t0\t0\t3\t0\t0\t0\t0\t1\t0\t1\t0\t5\t0\t1\t0\t4\t0\t2\t1\t0\t0\t0\t0\t1\t8\t0\t0\t0\t0\t0\t0\t0\t1\t0\t0\t3\t0\t1\t3\t3\t0\t3\t0\t16\t0\t0\t0\t1\t1\t4\t0\t1\t0\t0\t1\t3\t0\t0\t2\t2\t0\t0\t11\t3\t2\t10\t0\t0\t1\t1\t1\t0\t0\t0\t1\t0\t0\t1\t1\t0\t1\t0\t0\t1\t0\t0\t1\t0\t2\t0\t2\t0\t0\t0\t0\t1\t0\t17\t5\t0\t2\t1\t1\t0\t0\t11\t0\t0\t0\t0\t0\t2\t0\t0\t1\t0\t1\t0\t0\t0\t0\t0\t0\t0\t0\t0\t1\t15\t1\t0\t0\t1\t0\t0\t0\t0\t1\t0\t0\t0\t0\t2\t2\t2\t5\t0\t0\t2\t0\t1\t0\t1\t0\t0\t0\t0\t0\t1\t1\t2\t0\t0\t1\t0\t0\t0\t0\t0\t0\t0\t0\t5\t0\t1\t4\t4\t0\t0\t1\t1\t1\t0\t0\t0\t0\t0\t0\t0\t0\t0\t0\t0\t0\t0\t0\t4\t0\t0\t1\t0\t0\t18\t0\t0\t2\t1\t0\t0\t2\t0\t3\t0\t6\t0\t0\t2\t4\t7\t1\t0\t0\t2\t2\t0\t0\t0\t0\t2\t1\t0\n",
      "Wired\t0\t0\t0\t0\t0\t0\t0\t0\t0\t1\t0\t0\t0\t0\t0\t1\t2\t0\t0\t2\t0\t0\t0\t0\t3\t0\t0\t0\t0\t1\t1\t0\t2\t0\t1\t0\t1\t0\t0\t0\t0\t0\t0\t0\t0\t0\t1\t0\t0\t0\t0\t2\t0\t3\t1\t0\t0\t3\t0\t0\t0\t0\t1\t0\t0\t0\t1\t0\t1\t0\t1\t1\t0\t0\t0\t0\t0\t1\t0\t0\t0\t1\t0\t0\t0\t0\t3\t0\t0\t0\t0\t0\t2\t0\t1\t0\t1\t0\t0\t2\t0\t0\t3\t0\t0\t1\t0\t0\t0\t1\t1\t0\t0\t0\t4\t1\t1\t0\t2\t1\t0\t0\t0\t1\t0\t2\t1\t0\t1\t2\t0\t0\t0\t0\t0\t0\t4\t1\t0\t1\t1\t0\t0\t0\t0\t0\t0\t0\t0\t1\t1\t4\t0\t0\t0\t0\t0\t0\t1\t0\t1\t0\t0\t1\t1\t0\t1\t0\t0\t0\t0\t0\t0\t0\t2\t0\t2\t0\t1\t1\t0\t0\t0\t0\t0\t0\t0\t0\t1\t1\t1\t0\t0\t0\t0\t0\t0\t1\t0\t1\t0\t2\t2\t3\t0\t0\t0\t0\t1\t0\t0\t2\t1\t0\t3\t0\t1\t0\t1\t0\t0\t0\t0\t0\t0\t1\t1\t0\t0\t1\t0\t0\t0\t0\t3\t0\t0\t0\t0\t2\t0\t0\t1\t0\t0\t0\t0\t1\t0\t2\t2\t0\t0\t0\t1\t0\t1\t0\t1\t0\t1\t0\t1\t2\t0\t5\t0\t1\t1\t3\t0\t0\t0\t1\t1\t0\t2\t0\t0\t0\t3\t1\t0\t0\t0\t0\t0\t0\t0\t0\t1\t3\t0\t0\t0\t1\t0\t1\t1\t0\t0\t3\t1\t2\t0\t0\t3\t2\t1\t2\t0\t0\t0\t1\t0\t0\t0\t0\t0\t1\t0\t0\t0\t1\t2\t0\t1\t0\t0\t0\t0\t0\t1\t0\t0\t0\t0\t0\t0\t1\t0\t0\t0\t0\t0\t8\t0\t1\t3\t0\t1\t2\t0\t1\t0\t2\t1\t0\t1\t0\t1\t0\t0\t0\t0\t1\t0\t1\t0\t0\t2\t1\t0\t0\t0\t0\t1\t0\t0\t0\t0\t0\t0\t0\t0\t0\t0\t0\t0\t0\t0\t1\t0\t0\t2\t0\t1\t0\t0\t1\t1\t0\t2\t0\t1\t0\t0\t0\t0\t3\t3\t0\t0\t2\t0\t0\t0\t0\t3\t0\t0\t0\t1\t0\t0\t0\t1\t0\t0\t0\t0\n",
      "Eschaton\t0\t0\t0\t2\t0\t3\t3\t4\t7\t2\t1\t5\t2\t0\t1\t2\t6\t0\t0\t23\t1\t1\t1\t1\t12\t0\t3\t1\t0\t1\t0\t1\t10\t0\t1\t3\t3\t2\t0\t0\t2\t0\t4\t2\t0\t0\t0\t0\t5\t2\t0\t0\t9\t1\t0\t0\t1\t3\t0\t1\t8\t0\t0\t2\t0\t0\t2\t3\t2\t1\t0\t4\t2\t0\t1\t1\t0\t2\t3\t3\t0\t4\t5\t2\t1\t4\t5\t2\t0\t0\t2\t3\t1\t0\t2\t1\t3\t0\t9\t3\t0\t2\t1\t1\t2\t0\t1\t0\t19\t10\t0\t0\t0\t2\t0\t2\t7\t0\t27\t0\t0\t2\t2\t0\t4\t0\t5\t0\t4\t6\t1\t0\t0\t3\t2\t2\t1\t2\t4\t1\t2\t0\t1\t0\t0\t3\t0\t1\t0\t4\t0\t0\t0\t4\t1\t1\t1\t3\t4\t2\t1\t0\t1\t2\t0\t0\t4\t0\t2\t2\t0\t0\t2\t3\t1\t2\t0\t0\t14\t0\t1\t1\t5\t5\t3\t1\t2\t0\t1\t2\t3\t1\t2\t0\t1\t1\t0\t3\t1\t1\t0\t1\t0\t6\t1\t3\t0\t0\t1\t0\t0\t1\t10\t0\t3\t1\t7\t4\t3\t0\t0\t0\t0\t0\t2\t2\t2\t1\t4\t0\t0\t1\t0\t2\t8\t2\t0\t0\t1\t6\t5\t8\t1\t0\t2\t0\t0\t0\t0\t0\t1\t0\t1\t0\t1\t5\t1\t0\t0\t1\t0\t3\t2\t3\t0\t4\t2\t1\t8\t7\t2\t1\t0\t0\t2\t17\t2\t0\t0\t2\t1\t2\t0\t1\t4\t1\t1\t0\t2\t0\t3\t10\t0\t0\t0\t2\t0\t1\t0\t2\t2\t0\t1\t18\t0\t1\t0\t0\t3\t5\t2\t1\t9\t1\t1\t0\t0\t0\t0\t6\t1\t0\t2\t3\t0\t0\t0\t1\t0\t0\t0\t2\t2\t1\t1\t0\t1\t1\t0\t0\t1\t4\t0\t0\t0\t14\t0\t0\t4\t0\t0\t6\t0\t1\t3\t4\t3\t0\t2\t0\t3\t1\t2\t2\t0\t0\t0\t3\t0\t0\t0\t1\t6\t0\t1\t4\t5\t3\t4\t1\t4\t0\t1\t1\t0\t1\t0\t0\t1\t3\t3\t4\t0\t1\t2\t0\t0\t0\t3\t0\t0\t1\t4\t1\t0\t4\t0\t0\t3\t13\t0\t1\t2\t8\t0\t0\t1\t2\t3\t2\t1\t1\t0\t0\t0\t2\t3\t3\t6\t0\t4\n",
      "Captain's Quarters\t0\t0\t1\t0\t0\t0\t0\t0\t0\t1\t0\t0\t0\t0\t0\t1\t7\t0\t0\t3\t0\t0\t1\t0\t1\t0\t1\t0\t1\t1\t0\t0\t4\t0\t0\t0\t1\t0\t0\t0\t0\t0\t0\t0\t0\t0\t0\t0\t1\t0\t0\t0\t1\t0\t0\t0\t0\t0\t0\t1\t1\t0\t1\t0\t0\t0\t0\t0\t0\t0\t0\t1\t1\t0\t0\t0\t0\t1\t1\t0\t0\t0\t2\t0\t1\t0\t0\t0\t0\t0\t0\t0\t0\t0\t0\t1\t1\t0\t0\t2\t0\t0\t0\t0\t0\t3\t0\t1\t2\t1\t0\t0\t2\t1\t0\t1\t2\t1\t1\t0\t0\t0\t0\t0\t1\t0\t0\t0\t2\t2\t1\t0\t0\t0\t0\t2\t0\t0\t0\t0\t0\t0\t0\t0\t0\t0\t0\t3\t0\t3\t0\t0\t0\t0\t1\t0\t0\t0\t0\t0\t0\t1\t1\t0\t1\t0\t0\t0\t0\t0\t0\t1\t2\t2\t0\t0\t0\t1\t4\t0\t0\t0\t0\t1\t0\t0\t0\t0\t0\t2\t0\t0\t0\t0\t1\t3\t0\t0\t0\t0\t0\t1\t0\t0\t0\t0\t0\t0\t1\t0\t2\t0\t3\t0\t3\t1\t5\t6\t0\t0\t0\t1\t0\t0\t0\t0\t0\t0\t1\t0\t1\t2\t0\t0\t0\t0\t0\t0\t0\t0\t2\t1\t0\t0\t1\t0\t0\t2\t1\t0\t0\t0\t1\t0\t0\t0\t0\t2\t0\t0\t0\t0\t1\t0\t1\t1\t1\t0\t1\t2\t0\t0\t0\t1\t0\t3\t0\t0\t0\t2\t0\t3\t0\t0\t0\t0\t0\t0\t0\t1\t0\t0\t0\t0\t0\t1\t0\t0\t2\t0\t1\t0\t0\t0\t0\t0\t0\t0\t1\t4\t0\t4\t0\t2\t1\t0\t1\t1\t0\t0\t1\t1\t0\t0\t0\t0\t0\t0\t0\t0\t1\t0\t1\t0\t2\t0\t0\t0\t0\t0\t0\t0\t0\t1\t0\t0\t0\t1\t1\t0\t0\t0\t1\t0\t0\t0\t0\t0\t0\t0\t0\t0\t0\t6\t0\t0\t0\t0\t0\t0\t0\t0\t6\t0\t0\t0\t2\t2\t3\t0\t0\t0\t0\t0\t0\t0\t0\t0\t0\t0\t3\t0\t0\t1\t0\t0\t0\t0\t0\t0\t0\t0\t1\t0\t0\t1\t0\t1\t0\t2\t0\t0\t0\t1\t0\t0\t1\t0\t0\t2\t0\t0\t0\t0\t0\t0\t0\t0\t1\t1\t1\n",
      "Matt Cutts: Gadgets, Google, and SEO\t0\t0\t3\t0\t0\t1\t0\t0\t0\t0\t0\t3\t1\t0\t0\t0\t3\t0\t0\t21\t0\t2\t0\t0\t5\t0\t1\t0\t0\t1\t0\t1\t0\t0\t0\t0\t1\t0\t1\t0\t0\t0\t1\t0\t1\t0\t0\t0\t1\t2\t0\t0\t2\t0\t0\t0\t1\t0\t1\t0\t1\t0\t0\t0\t0\t0\t0\t0\t0\t0\t1\t0\t0\t4\t1\t0\t0\t0\t0\t0\t0\t1\t0\t0\t0\t0\t1\t3\t0\t0\t0\t0\t0\t0\t0\t1\t1\t0\t0\t0\t0\t0\t0\t0\t0\t0\t0\t0\t2\t1\t0\t0\t0\t2\t0\t0\t0\t0\t3\t7\t2\t0\t2\t0\t0\t1\t0\t0\t0\t2\t1\t0\t2\t0\t0\t0\t1\t2\t0\t1\t1\t1\t0\t0\t0\t0\t0\t0\t1\t0\t1\t0\t0\t0\t0\t0\t0\t0\t3\t0\t0\t0\t2\t0\t1\t0\t0\t1\t1\t0\t6\t2\t1\t6\t3\t0\t0\t0\t0\t0\t0\t0\t0\t0\t0\t0\t1\t0\t0\t1\t0\t0\t0\t0\t1\t0\t0\t0\t0\t1\t0\t0\t0\t2\t0\t3\t0\t1\t1\t1\t0\t0\t6\t0\t2\t0\t0\t2\t0\t1\t3\t0\t0\t0\t1\t0\t1\t0\t0\t0\t0\t0\t0\t0\t0\t0\t0\t1\t0\t0\t1\t1\t1\t0\t0\t0\t0\t1\t0\t0\t0\t0\t1\t0\t0\t1\t0\t0\t0\t0\t0\t0\t0\t0\t0\t0\t2\t0\t2\t2\t0\t0\t2\t0\t0\t1\t0\t0\t0\t0\t0\t4\t0\t1\t1\t1\t2\t0\t0\t0\t0\t0\t0\t0\t2\t2\t0\t0\t0\t0\t0\t1\t1\t4\t0\t0\t0\t1\t1\t1\t2\t0\t0\t2\t0\t0\t0\t1\t1\t0\t1\t0\t0\t0\t0\t0\t0\t0\t0\t1\t0\t0\t0\t1\t0\t0\t0\t1\t1\t0\t0\t1\t1\t0\t1\t3\t0\t0\t0\t0\t1\t3\t0\t0\t3\t5\t0\t0\t0\t1\t0\t1\t0\t0\t1\t0\t0\t0\t0\t0\t0\t0\t3\t1\t0\t1\t2\t1\t0\t0\t1\t0\t0\t0\t0\t0\t0\t0\t1\t0\t1\t0\t0\t0\t1\t2\t0\t0\t0\t0\t0\t0\t1\t0\t0\t0\t1\t0\t0\t2\t0\t0\t0\t2\t0\t2\t0\t2\t1\t3\t0\t0\t0\t0\t0\t1\t0\t1\t1\t0\t1\n",
      "Seth Godin's Blog on marketing, tribes and respect\t0\t0\t0\t1\t2\t0\t10\t0\t0\t0\t3\t5\t1\t0\t1\t0\t1\t0\t0\t1\t0\t0\t2\t0\t3\t0\t2\t0\t0\t0\t0\t0\t3\t0\t0\t0\t1\t0\t0\t0\t1\t0\t1\t0\t0\t0\t0\t0\t3\t0\t0\t0\t2\t0\t0\t0\t0\t0\t0\t0\t1\t0\t0\t0\t1\t1\t0\t0\t0\t0\t0\t0\t0\t0\t1\t0\t0\t2\t0\t0\t0\t0\t1\t2\t0\t0\t1\t0\t1\t0\t0\t0\t1\t0\t2\t0\t0\t0\t0\t3\t0\t1\t0\t0\t0\t0\t0\t0\t0\t1\t0\t0\t0\t0\t0\t0\t0\t0\t1\t0\t0\t0\t0\t0\t0\t0\t1\t1\t2\t0\t0\t0\t0\t1\t0\t0\t0\t1\t0\t1\t2\t0\t0\t0\t0\t0\t0\t0\t0\t0\t0\t0\t0\t2\t2\t0\t0\t0\t2\t0\t0\t0\t0\t0\t0\t1\t2\t0\t1\t0\t2\t0\t0\t0\t0\t0\t0\t1\t2\t0\t1\t0\t1\t0\t0\t0\t0\t1\t0\t0\t1\t0\t0\t0\t0\t0\t1\t0\t0\t1\t0\t0\t0\t2\t0\t1\t1\t0\t0\t0\t0\t0\t0\t0\t2\t1\t0\t0\t0\t0\t0\t1\t0\t0\t0\t3\t0\t0\t1\t1\t0\t0\t0\t0\t2\t1\t0\t0\t0\t1\t0\t1\t0\t0\t0\t0\t1\t0\t0\t0\t0\t0\t0\t0\t0\t0\t0\t0\t0\t0\t0\t0\t1\t0\t0\t2\t6\t0\t0\t4\t1\t0\t0\t0\t0\t1\t0\t0\t0\t1\t0\t1\t0\t0\t1\t0\t0\t0\t0\t0\t0\t6\t0\t0\t0\t0\t0\t1\t0\t0\t0\t0\t1\t1\t0\t0\t0\t0\t6\t1\t0\t0\t4\t0\t0\t0\t0\t0\t0\t0\t2\t0\t0\t1\t0\t0\t0\t0\t0\t0\t0\t1\t1\t0\t0\t0\t0\t0\t2\t0\t0\t0\t2\t0\t0\t1\t0\t0\t0\t0\t1\t0\t0\t0\t1\t2\t0\t0\t0\t0\t0\t0\t0\t0\t0\t0\t0\t1\t0\t0\t0\t0\t4\t0\t0\t2\t0\t0\t0\t0\t0\t0\t0\t0\t0\t0\t0\t0\t0\t0\t0\t0\t0\t0\t0\t1\t1\t0\t0\t0\t1\t0\t0\t1\t0\t0\t1\t0\t0\t0\t0\t0\t0\t2\t0\t0\t0\t0\t1\t0\t0\t0\t0\t0\t0\t0\t0\t1\t0\t0\t2\n",
      "mezzoblue\t0\t1\t0\t0\t1\t0\t0\t0\t0\t1\t0\t1\t1\t0\t0\t0\t1\t0\t0\t12\t0\t0\t1\t0\t1\t0\t1\t0\t0\t0\t0\t0\t1\t0\t0\t1\t0\t0\t0\t0\t0\t0\t1\t0\t0\t1\t0\t0\t0\t0\t1\t0\t1\t0\t0\t0\t0\t0\t0\t1\t2\t0\t1\t1\t0\t0\t0\t2\t0\t0\t0\t0\t0\t6\t0\t0\t0\t0\t1\t0\t0\t1\t0\t0\t0\t0\t0\t0\t0\t0\t0\t1\t1\t0\t2\t0\t0\t0\t0\t1\t0\t0\t0\t0\t0\t0\t0\t0\t0\t0\t0\t0\t0\t4\t0\t0\t2\t0\t4\t0\t0\t0\t0\t1\t0\t2\t0\t1\t0\t3\t0\t0\t1\t0\t0\t0\t1\t2\t0\t0\t0\t3\t0\t0\t0\t0\t0\t0\t0\t1\t0\t0\t0\t0\t0\t2\t1\t0\t1\t0\t1\t0\t0\t0\t1\t0\t0\t0\t0\t0\t0\t0\t2\t3\t0\t0\t0\t0\t0\t1\t0\t0\t1\t0\t0\t0\t0\t0\t0\t0\t0\t0\t0\t0\t0\t0\t0\t0\t0\t0\t0\t0\t1\t2\t0\t1\t0\t0\t1\t0\t1\t0\t1\t0\t0\t0\t1\t0\t1\t0\t3\t1\t0\t0\t0\t1\t0\t0\t0\t1\t2\t1\t1\t0\t0\t1\t0\t0\t0\t0\t2\t0\t0\t0\t0\t0\t0\t2\t0\t0\t3\t0\t1\t0\t2\t0\t1\t0\t0\t0\t0\t0\t0\t0\t0\t2\t0\t0\t1\t2\t0\t0\t0\t1\t0\t2\t0\t0\t0\t0\t0\t0\t0\t0\t0\t0\t1\t0\t0\t0\t1\t1\t1\t0\t1\t0\t1\t0\t1\t0\t0\t0\t0\t0\t0\t0\t0\t0\t1\t2\t0\t0\t0\t1\t0\t0\t0\t0\t0\t1\t0\t0\t0\t0\t0\t0\t0\t0\t0\t0\t0\t0\t0\t0\t0\t1\t1\t0\t0\t1\t0\t0\t1\t0\t0\t0\t0\t0\t0\t0\t1\t0\t0\t0\t0\t0\t0\t0\t0\t0\t0\t1\t0\t0\t0\t1\t2\t0\t0\t1\t3\t0\t0\t0\t0\t0\t3\t1\t0\t0\t1\t1\t0\t0\t0\t0\t0\t0\t0\t0\t0\t0\t0\t3\t0\t0\t0\t0\t1\t0\t1\t0\t1\t0\t0\t1\t0\t0\t0\t1\t0\t0\t0\t1\t0\t0\t0\t1\t1\t0\t0\t0\t0\t0\t0\t0\t0\t0\t1\t0\t0\n",
      "Quick Online Tips\t0\t1\t0\t2\t0\t1\t0\t2\t0\t0\t0\t1\t0\t0\t0\t2\t1\t10\t0\t2\t0\t0\t2\t0\t2\t18\t0\t6\t0\t0\t6\t0\t1\t0\t1\t0\t0\t0\t1\t0\t0\t0\t3\t0\t1\t0\t0\t9\t0\t1\t0\t0\t2\t0\t0\t0\t0\t0\t0\t0\t1\t4\t2\t0\t0\t0\t0\t3\t0\t0\t6\t0\t0\t0\t1\t0\t0\t0\t1\t0\t1\t1\t0\t0\t0\t0\t0\t1\t0\t0\t0\t0\t1\t0\t0\t0\t1\t1\t0\t0\t0\t0\t0\t0\t0\t1\t0\t0\t1\t0\t0\t3\t0\t0\t0\t1\t0\t0\t2\t20\t0\t1\t1\t0\t1\t5\t0\t1\t0\t0\t1\t0\t0\t0\t0\t0\t3\t6\t0\t0\t0\t0\t4\t0\t0\t0\t0\t1\t0\t0\t0\t0\t0\t0\t1\t0\t0\t0\t1\t3\t1\t0\t1\t0\t0\t0\t0\t0\t0\t0\t1\t0\t1\t1\t0\t0\t0\t0\t1\t0\t1\t0\t0\t0\t0\t0\t13\t1\t0\t0\t1\t0\t0\t1\t1\t0\t0\t0\t0\t0\t0\t0\t0\t1\t0\t0\t0\t0\t0\t0\t2\t3\t0\t0\t0\t0\t3\t1\t0\t0\t0\t0\t0\t0\t0\t1\t0\t0\t5\t1\t2\t0\t0\t0\t1\t0\t0\t1\t0\t0\t0\t0\t3\t0\t11\t0\t0\t1\t0\t5\t8\t0\t1\t5\t0\t0\t0\t0\t0\t0\t0\t0\t1\t0\t0\t16\t2\t0\t2\t0\t1\t0\t0\t0\t0\t3\t0\t0\t0\t0\t0\t1\t5\t0\t0\t0\t0\t0\t0\t0\t0\t11\t0\t0\t1\t0\t0\t0\t13\t0\t0\t1\t0\t1\t0\t0\t1\t3\t0\t1\t10\t0\t0\t0\t0\t0\t0\t0\t1\t5\t0\t0\t0\t2\t3\t0\t1\t0\t10\t2\t0\t0\t0\t0\t0\t0\t0\t0\t0\t0\t0\t1\t1\t0\t0\t5\t1\t0\t0\t0\t0\t2\t0\t0\t1\t11\t1\t11\t0\t0\t0\t0\t0\t0\t0\t1\t0\t0\t0\t0\t0\t0\t0\t0\t0\t2\t0\t0\t1\t0\t0\t0\t0\t0\t0\t0\t0\t0\t1\t0\t0\t0\t0\t0\t0\t0\t0\t1\t0\t0\t0\t0\t0\t0\t1\t0\t0\t0\t0\t5\t0\t0\t0\t1\t0\t0\t0\t3\t2\t1\t0\t0\t0\t0\t0\t0\t0\t0\t0\t0\t0\n",
      "kottke.org\t1\t9\t0\t3\t10\t5\t288\t1\t13\t1\t3\t26\t3\t0\t10\t8\t24\t2\t3\t100\t2\t0\t14\t1\t37\t2\t6\t17\t0\t8\t9\t8\t24\t1\t1\t6\t5\t3\t0\t4\t4\t3\t16\t1\t0\t1\t3\t23\t9\t2\t2\t3\t21\t4\t1\t2\t2\t1\t2\t7\t28\t4\t4\t3\t1\t4\t3\t1\t3\t1\t1\t2\t5\t10\t4\t3\t3\t0\t6\t4\t5\t4\t14\t6\t5\t4\t9\t9\t4\t1\t3\t4\t20\t2\t7\t7\t2\t4\t0\t5\t3\t3\t0\t0\t10\t0\t5\t9\t28\t15\t0\t0\t0\t12\t1\t4\t28\t2\t39\t0\t1\t0\t4\t1\t15\t8\t5\t5\t15\t18\t0\t0\t2\t12\t3\t4\t12\t7\t6\t10\t13\t1\t1\t7\t6\t3\t3\t2\t5\t12\t2\t0\t4\t6\t4\t2\t2\t0\t14\t2\t7\t2\t2\t6\t4\t3\t12\t0\t2\t3\t0\t4\t3\t19\t4\t4\t2\t5\t40\t2\t1\t8\t4\t7\t2\t4\t7\t0\t0\t0\t6\t2\t5\t3\t0\t7\t3\t4\t3\t3\t3\t2\t3\t20\t0\t15\t0\t4\t1\t0\t8\t7\t44\t2\t19\t2\t11\t14\t12\t1\t1\t4\t2\t2\t1\t9\t6\t0\t10\t8\t3\t2\t4\t0\t9\t3\t4\t2\t1\t3\t11\t7\t4\t2\t4\t10\t2\t2\t0\t10\t20\t0\t4\t2\t8\t4\t6\t4\t8\t2\t2\t1\t7\t0\t5\t17\t24\t2\t13\t19\t6\t2\t0\t6\t1\t36\t0\t1\t1\t2\t6\t16\t6\t0\t5\t2\t2\t0\t4\t3\t10\t20\t2\t5\t6\t11\t5\t0\t10\t0\t0\t10\t3\t17\t3\t1\t1\t1\t8\t13\t4\t10\t18\t15\t3\t2\t3\t10\t2\t13\t5\t2\t4\t11\t4\t6\t3\t2\t1\t5\t4\t2\t6\t3\t0\t3\t0\t2\t1\t2\t3\t8\t1\t4\t10\t43\t3\t7\t14\t2\t4\t6\t0\t1\t17\t14\t1\t0\t5\t1\t4\t4\t9\t28\t4\t20\t3\t4\t1\t5\t0\t3\t31\t2\t4\t15\t9\t2\t2\t0\t8\t1\t6\t3\t4\t4\t8\t4\t12\t1\t10\t3\t3\t4\t3\t1\t0\t0\t2\t0\t2\t2\t0\t3\t3\t4\t2\t1\t2\t28\t1\t3\t3\t53\t4\t7\t5\t10\t23\t4\t3\t3\t4\t1\t4\t5\t1\t3\t10\t4\t11\n",
      "Google Blogoscoped\t0\t0\t1\t0\t1\t0\t0\t2\t1\t0\t0\t7\t0\t0\t0\t2\t1\t0\t0\t18\t0\t0\t2\t1\t6\t2\t1\t0\t0\t3\t1\t2\t4\t0\t0\t3\t0\t1\t0\t1\t2\t0\t7\t0\t0\t0\t0\t0\t11\t0\t5\t0\t10\t2\t0\t0\t0\t1\t1\t0\t8\t1\t3\t0\t0\t0\t0\t2\t3\t1\t0\t0\t0\t4\t0\t1\t0\t0\t1\t2\t0\t4\t1\t1\t1\t0\t1\t0\t0\t1\t0\t2\t3\t0\t1\t2\t0\t0\t1\t3\t0\t0\t0\t0\t2\t0\t1\t1\t7\t5\t0\t0\t0\t1\t0\t0\t4\t0\t10\t28\t1\t1\t1\t0\t4\t1\t1\t2\t4\t4\t0\t0\t0\t3\t1\t1\t2\t3\t0\t0\t0\t0\t0\t0\t0\t0\t1\t0\t0\t1\t1\t0\t2\t2\t1\t0\t0\t0\t6\t0\t1\t0\t1\t0\t0\t0\t3\t0\t1\t0\t6\t0\t0\t7\t0\t2\t2\t0\t4\t1\t3\t0\t0\t1\t0\t0\t2\t0\t0\t0\t0\t0\t0\t2\t0\t3\t0\t0\t0\t2\t0\t0\t0\t4\t4\t5\t0\t0\t2\t2\t3\t0\t9\t0\t4\t1\t1\t4\t2\t1\t4\t0\t0\t0\t0\t3\t0\t0\t4\t1\t4\t0\t0\t0\t4\t0\t0\t1\t0\t1\t4\t1\t0\t0\t2\t2\t0\t1\t0\t0\t8\t1\t1\t1\t1\t5\t1\t0\t2\t0\t0\t0\t1\t0\t0\t5\t12\t0\t3\t13\t2\t0\t0\t1\t0\t5\t0\t0\t0\t0\t2\t1\t2\t1\t2\t0\t0\t0\t2\t0\t2\t5\t0\t0\t0\t1\t1\t1\t2\t0\t0\t0\t0\t3\t0\t4\t0\t1\t6\t2\t2\t0\t5\t2\t0\t1\t0\t1\t0\t5\t1\t0\t0\t0\t1\t0\t1\t1\t0\t1\t0\t0\t0\t0\t1\t0\t0\t0\t0\t0\t1\t1\t1\t0\t0\t6\t3\t2\t3\t0\t2\t5\t1\t0\t6\t8\t1\t0\t1\t0\t6\t2\t3\t1\t0\t0\t0\t1\t0\t0\t0\t4\t2\t1\t0\t3\t1\t0\t1\t0\t1\t0\t0\t1\t1\t1\t1\t7\t4\t0\t0\t0\t0\t2\t0\t0\t0\t2\t4\t0\t1\t0\t1\t1\t0\t0\t0\t0\t0\t5\t1\t1\t0\t5\t0\t0\t0\t4\t6\t3\t0\t0\t0\t0\t0\t1\t2\t0\t0\t0\t4\n",
      "The Write News\t2\t0\t0\t0\t0\t0\t0\t0\t0\t0\t0\t0\t0\t0\t0\t0\t4\t0\t0\t0\t0\t0\t0\t0\t3\t0\t0\t0\t1\t0\t0\t0\t2\t2\t0\t0\t0\t0\t0\t0\t0\t2\t0\t0\t0\t0\t0\t0\t0\t0\t0\t0\t0\t0\t0\t0\t0\t0\t0\t0\t0\t0\t1\t0\t0\t0\t0\t0\t0\t2\t0\t1\t1\t0\t0\t0\t0\t0\t0\t1\t0\t0\t0\t1\t0\t0\t0\t2\t0\t2\t0\t0\t0\t0\t0\t0\t0\t0\t0\t0\t0\t0\t0\t1\t0\t0\t0\t0\t0\t0\t0\t0\t0\t2\t0\t0\t0\t0\t0\t0\t0\t0\t0\t0\t0\t0\t0\t0\t0\t0\t1\t0\t1\t0\t0\t0\t0\t0\t0\t1\t0\t0\t0\t0\t0\t1\t0\t0\t0\t1\t0\t2\t0\t0\t0\t0\t0\t0\t1\t0\t0\t1\t0\t0\t0\t0\t0\t0\t0\t0\t0\t0\t0\t0\t2\t0\t0\t1\t1\t0\t0\t0\t1\t0\t0\t2\t15\t0\t0\t0\t0\t0\t0\t0\t0\t0\t0\t0\t0\t0\t0\t0\t0\t0\t0\t0\t0\t0\t0\t0\t2\t1\t0\t0\t15\t0\t4\t2\t0\t0\t1\t0\t0\t0\t0\t0\t0\t0\t0\t0\t0\t0\t0\t1\t2\t0\t0\t0\t2\t0\t0\t0\t0\t0\t0\t0\t0\t0\t0\t0\t0\t0\t0\t3\t0\t0\t0\t0\t1\t0\t0\t0\t0\t12\t1\t0\t0\t0\t0\t0\t0\t0\t0\t0\t0\t5\t0\t0\t0\t0\t0\t0\t0\t0\t0\t0\t0\t11\t0\t0\t0\t0\t0\t0\t0\t0\t0\t0\t1\t10\t0\t0\t0\t4\t0\t0\t0\t0\t0\t4\t0\t0\t0\t1\t0\t0\t0\t0\t0\t0\t0\t0\t0\t0\t2\t0\t0\t0\t0\t1\t0\t0\t0\t0\t0\t1\t2\t0\t1\t0\t0\t0\t0\t0\t0\t0\t0\t0\t1\t0\t0\t0\t0\t1\t0\t0\t0\t15\t0\t0\t0\t0\t0\t3\t0\t2\t0\t0\t0\t0\t0\t0\t0\t0\t0\t0\t0\t1\t0\t0\t0\t0\t0\t0\t0\t0\t1\t0\t0\t0\t2\t1\t0\t1\t1\t0\t0\t0\t0\t3\t0\t0\t0\t0\t0\t0\t0\t1\t0\t1\t2\t0\t0\t0\t0\t0\t0\t0\t0\t0\t0\t0\t0\t0\t0\t0\t0\t0\t0\t0\t0\n",
      "Steve Pavlina\t0\t0\t0\t1\t1\t0\t0\t0\t0\t0\t0\t3\t0\t1\t0\t0\t0\t0\t1\t5\t0\t0\t0\t0\t0\t0\t1\t1\t0\t0\t0\t0\t14\t0\t0\t0\t0\t0\t0\t0\t0\t0\t3\t0\t0\t0\t0\t0\t1\t0\t0\t1\t1\t0\t0\t0\t0\t0\t0\t0\t15\t1\t0\t0\t0\t0\t1\t1\t0\t0\t0\t0\t0\t1\t0\t0\t4\t1\t16\t1\t0\t1\t0\t0\t0\t12\t0\t0\t0\t0\t0\t0\t0\t21\t0\t0\t0\t0\t0\t0\t0\t0\t0\t0\t0\t0\t0\t0\t0\t2\t12\t0\t0\t0\t1\t0\t4\t0\t1\t0\t0\t0\t0\t0\t1\t0\t3\t0\t0\t1\t13\t0\t0\t1\t0\t1\t16\t0\t0\t1\t1\t0\t6\t0\t0\t0\t0\t0\t0\t0\t0\t0\t0\t0\t0\t1\t0\t1\t0\t0\t0\t0\t1\t0\t0\t0\t0\t0\t0\t0\t0\t0\t0\t30\t0\t0\t0\t0\t10\t0\t2\t2\t0\t0\t0\t0\t6\t13\t0\t0\t0\t0\t0\t0\t0\t0\t0\t1\t21\t0\t0\t1\t0\t0\t0\t1\t0\t0\t2\t2\t4\t0\t17\t0\t16\t0\t3\t0\t1\t0\t1\t0\t1\t0\t0\t0\t0\t0\t0\t0\t0\t0\t1\t0\t0\t0\t0\t0\t0\t0\t1\t0\t0\t0\t20\t0\t0\t2\t0\t0\t13\t0\t1\t0\t0\t0\t0\t0\t0\t0\t0\t0\t15\t0\t0\t4\t1\t4\t1\t3\t0\t0\t1\t0\t0\t0\t0\t0\t0\t0\t0\t2\t0\t0\t0\t0\t0\t0\t0\t0\t0\t2\t0\t0\t0\t0\t0\t0\t22\t0\t0\t1\t1\t27\t0\t0\t0\t0\t1\t1\t0\t1\t0\t17\t0\t0\t1\t3\t0\t0\t0\t0\t0\t0\t0\t0\t0\t0\t20\t1\t0\t0\t0\t1\t0\t0\t0\t3\t0\t0\t0\t0\t0\t0\t2\t1\t0\t0\t18\t1\t0\t0\t0\t0\t13\t17\t0\t0\t0\t0\t1\t13\t0\t0\t0\t32\t0\t0\t0\t0\t1\t0\t1\t1\t0\t0\t0\t0\t0\t0\t0\t0\t0\t0\t0\t1\t0\t0\t1\t0\t3\t0\t1\t1\t0\t0\t0\t0\t0\t0\t0\t0\t0\t1\t0\t0\t0\t0\t0\t1\t0\t1\t0\t0\t3\t0\t0\t3\t0\t50\t0\t0\t0\t0\t0\t0\t0\t1\t0\t0\t16\n",
      "Autoblog\t0\t0\t0\t0\t0\t3\t156\t0\t0\t0\t0\t6\t0\t0\t0\t0\t5\t2\t0\t3\t0\t0\t0\t0\t3\t0\t0\t0\t0\t0\t1\t1\t3\t0\t0\t3\t0\t0\t0\t0\t0\t0\t0\t0\t0\t0\t0\t0\t1\t2\t0\t0\t1\t5\t0\t1\t0\t25\t0\t0\t1\t0\t39\t0\t0\t0\t0\t0\t0\t1\t0\t0\t0\t0\t0\t0\t0\t0\t4\t0\t0\t0\t0\t0\t0\t6\t0\t6\t0\t0\t0\t0\t0\t0\t2\t1\t0\t0\t0\t0\t0\t3\t0\t0\t1\t4\t0\t0\t1\t0\t0\t1\t0\t1\t0\t2\t1\t1\t6\t1\t0\t0\t1\t2\t3\t0\t0\t3\t4\t1\t3\t0\t0\t3\t0\t0\t4\t0\t0\t1\t0\t0\t39\t0\t0\t0\t0\t3\t0\t10\t0\t6\t0\t0\t0\t1\t0\t0\t1\t3\t0\t0\t3\t3\t1\t0\t0\t0\t0\t0\t1\t0\t0\t0\t3\t0\t0\t3\t5\t1\t1\t4\t0\t0\t0\t0\t0\t4\t3\t0\t0\t0\t0\t0\t0\t0\t0\t0\t0\t0\t1\t0\t0\t0\t0\t1\t0\t0\t0\t3\t3\t1\t6\t0\t7\t0\t13\t0\t0\t0\t0\t0\t0\t0\t5\t39\t0\t0\t0\t1\t0\t1\t7\t0\t3\t0\t0\t0\t0\t0\t0\t3\t0\t0\t0\t1\t0\t1\t45\t1\t2\t0\t0\t0\t0\t0\t2\t0\t0\t0\t0\t0\t0\t7\t0\t8\t1\t3\t1\t0\t1\t0\t0\t0\t0\t7\t9\t0\t0\t0\t3\t6\t1\t0\t1\t0\t0\t0\t0\t1\t0\t0\t0\t0\t0\t0\t0\t1\t11\t0\t0\t2\t0\t0\t3\t0\t0\t0\t0\t4\t1\t0\t2\t2\t0\t0\t4\t0\t1\t1\t0\t0\t0\t0\t1\t0\t1\t0\t39\t0\t3\t0\t0\t0\t1\t1\t0\t3\t3\t0\t0\t0\t0\t0\t1\t4\t0\t1\t2\t0\t0\t0\t3\t6\t1\t6\t3\t0\t6\t0\t0\t4\t4\t1\t0\t2\t0\t0\t0\t0\t3\t0\t3\t39\t1\t6\t0\t0\t0\t0\t0\t0\t0\t6\t0\t3\t0\t0\t39\t0\t1\t0\t0\t0\t0\t3\t1\t0\t0\t1\t0\t3\t0\t0\t1\t0\t0\t1\t0\t1\t1\t0\t0\t3\t0\t1\t3\t5\t0\t0\t3\t1\t0\t0\t1\t11\t0\t0\t4\t0\t1\n",
      "Latest from Crooks and Liars\t0\t2\t0\t1\t0\t0\t0\t1\t0\t1\t0\t2\t1\t1\t1\t4\t0\t1\t0\t9\t0\t1\t2\t0\t4\t0\t0\t0\t0\t0\t0\t0\t2\t0\t0\t1\t0\t0\t0\t0\t1\t0\t7\t8\t0\t1\t0\t0\t0\t0\t0\t1\t4\t2\t1\t1\t0\t0\t0\t0\t3\t0\t1\t1\t1\t0\t3\t0\t1\t0\t0\t0\t1\t0\t0\t0\t1\t1\t1\t3\t0\t1\t0\t2\t0\t2\t1\t0\t2\t0\t0\t0\t2\t0\t1\t0\t0\t0\t0\t2\t0\t0\t0\t1\t3\t0\t1\t1\t7\t7\t0\t0\t0\t7\t0\t1\t1\t0\t2\t0\t1\t0\t1\t0\t2\t0\t1\t0\t1\t0\t0\t0\t0\t0\t0\t7\t6\t1\t3\t1\t0\t0\t0\t1\t0\t0\t2\t0\t0\t1\t0\t0\t0\t2\t1\t0\t0\t2\t2\t0\t0\t0\t1\t2\t0\t0\t0\t1\t1\t0\t0\t0\t0\t1\t1\t0\t0\t0\t5\t0\t0\t0\t3\t1\t1\t0\t2\t0\t0\t7\t1\t3\t0\t0\t2\t4\t1\t1\t0\t0\t0\t0\t0\t1\t1\t4\t4\t0\t1\t1\t1\t0\t5\t0\t3\t0\t8\t8\t3\t0\t0\t1\t0\t0\t0\t2\t0\t0\t1\t0\t0\t0\t1\t0\t2\t1\t0\t0\t4\t0\t2\t1\t0\t0\t0\t1\t0\t2\t2\t1\t3\t0\t0\t0\t0\t3\t6\t0\t0\t0\t0\t0\t2\t3\t3\t1\t7\t0\t1\t6\t0\t0\t1\t0\t0\t6\t4\t0\t0\t6\t0\t2\t0\t0\t1\t0\t0\t8\t0\t3\t0\t2\t0\t0\t0\t0\t0\t2\t1\t1\t0\t2\t2\t7\t0\t0\t1\t0\t3\t9\t0\t0\t3\t2\t0\t0\t0\t0\t0\t0\t0\t0\t0\t2\t1\t0\t1\t1\t0\t2\t0\t0\t0\t1\t0\t1\t0\t2\t0\t0\t0\t2\t0\t0\t0\t13\t0\t0\t3\t0\t1\t2\t2\t1\t5\t0\t0\t5\t1\t1\t1\t0\t4\t3\t0\t3\t0\t0\t0\t1\t0\t0\t6\t1\t1\t6\t2\t0\t0\t0\t3\t0\t0\t1\t0\t0\t0\t1\t0\t1\t2\t0\t0\t0\t1\t0\t2\t3\t0\t0\t0\t1\t2\t0\t0\t0\t1\t1\t0\t2\t0\t1\t0\t2\t0\t0\t3\t2\t7\t0\t1\t0\t1\t3\t0\t0\t1\t0\t1\t1\t3\n",
      "Lifehack\t0\t2\t0\t2\t0\t0\t0\t7\t2\t0\t0\t2\t0\t0\t0\t2\t1\t0\t1\t0\t0\t0\t0\t0\t1\t0\t0\t0\t0\t0\t0\t0\t8\t0\t0\t0\t0\t0\t0\t0\t0\t0\t1\t0\t0\t1\t0\t0\t1\t0\t0\t0\t11\t0\t0\t0\t0\t0\t1\t0\t5\t0\t0\t0\t1\t0\t2\t0\t0\t2\t2\t0\t0\t0\t6\t0\t0\t0\t0\t0\t0\t0\t0\t0\t0\t0\t2\t2\t0\t0\t1\t0\t1\t0\t4\t0\t1\t0\t0\t1\t0\t0\t0\t1\t2\t0\t2\t0\t3\t0\t0\t0\t0\t0\t0\t0\t3\t0\t6\t0\t0\t0\t0\t0\t2\t2\t1\t3\t2\t1\t0\t0\t0\t2\t1\t0\t2\t4\t2\t0\t5\t0\t0\t0\t0\t0\t0\t0\t0\t0\t0\t0\t0\t0\t2\t0\t0\t0\t3\t0\t1\t0\t0\t1\t0\t0\t2\t0\t0\t0\t0\t0\t1\t0\t0\t0\t2\t0\t5\t0\t3\t0\t3\t1\t2\t0\t2\t0\t0\t1\t0\t0\t1\t0\t0\t0\t0\t0\t0\t3\t1\t0\t0\t3\t0\t0\t0\t0\t2\t0\t0\t0\t1\t0\t3\t0\t1\t0\t0\t0\t0\t0\t2\t0\t0\t1\t0\t0\t1\t0\t0\t0\t0\t0\t0\t2\t0\t0\t0\t4\t0\t0\t2\t0\t20\t0\t0\t3\t0\t0\t2\t0\t1\t0\t2\t1\t6\t0\t0\t0\t0\t2\t0\t0\t0\t21\t2\t0\t3\t1\t0\t0\t0\t1\t0\t7\t0\t0\t2\t0\t0\t1\t0\t0\t0\t2\t0\t0\t1\t0\t0\t6\t0\t0\t0\t4\t0\t0\t21\t0\t0\t0\t0\t10\t0\t0\t0\t2\t2\t3\t1\t0\t0\t0\t0\t0\t0\t1\t0\t0\t0\t0\t1\t2\t0\t0\t0\t0\t20\t0\t0\t0\t0\t0\t0\t1\t0\t0\t0\t0\t0\t3\t0\t0\t2\t12\t2\t5\t2\t1\t2\t4\t0\t3\t0\t13\t0\t0\t0\t0\t0\t0\t0\t0\t0\t0\t0\t4\t0\t0\t0\t0\t0\t3\t0\t8\t0\t0\t0\t2\t4\t0\t0\t0\t0\t1\t0\t0\t2\t0\t1\t0\t2\t0\t1\t3\t0\t1\t0\t0\t0\t0\t0\t1\t0\t0\t0\t1\t0\t7\t0\t0\t0\t1\t2\t0\t0\t0\t12\t2\t0\t0\t0\t0\t1\t0\t3\t0\t2\t0\t2\n",
      "Mashable\t0\t3\t0\t0\t1\t0\t0\t3\t3\t2\t0\t18\t1\t0\t3\t5\t14\t0\t0\t7\t0\t2\t5\t1\t9\t2\t3\t0\t2\t5\t3\t3\t17\t3\t0\t2\t2\t0\t3\t1\t1\t2\t19\t11\t2\t1\t2\t0\t4\t1\t1\t0\t12\t0\t0\t3\t2\t1\t0\t1\t10\t0\t2\t0\t2\t0\t1\t0\t1\t2\t4\t2\t2\t6\t1\t0\t3\t1\t5\t5\t3\t5\t1\t5\t2\t4\t5\t5\t1\t3\t0\t2\t11\t2\t2\t2\t5\t0\t3\t2\t1\t0\t1\t2\t3\t2\t0\t5\t17\t9\t5\t0\t1\t6\t0\t0\t6\t1\t15\t1\t1\t1\t1\t0\t8\t5\t4\t1\t6\t4\t1\t0\t0\t4\t0\t1\t6\t5\t4\t4\t6\t0\t0\t7\t1\t4\t3\t0\t0\t9\t0\t1\t0\t3\t1\t1\t0\t1\t14\t1\t0\t4\t2\t2\t1\t1\t3\t0\t1\t0\t3\t1\t2\t1\t0\t0\t0\t1\t21\t2\t1\t1\t3\t1\t0\t1\t31\t2\t0\t1\t3\t3\t1\t0\t3\t3\t2\t1\t1\t0\t1\t2\t1\t3\t12\t12\t3\t3\t1\t0\t5\t6\t43\t0\t66\t4\t14\t14\t3\t1\t2\t3\t0\t1\t0\t5\t1\t9\t4\t0\t1\t2\t5\t0\t9\t4\t0\t0\t1\t1\t4\t1\t1\t0\t5\t4\t1\t1\t0\t7\t16\t2\t1\t1\t6\t3\t3\t3\t2\t2\t0\t0\t2\t7\t0\t6\t11\t0\t4\t14\t1\t3\t2\t1\t0\t11\t3\t1\t0\t1\t10\t6\t3\t1\t1\t1\t0\t10\t3\t1\t2\t17\t2\t0\t0\t5\t3\t0\t3\t1\t0\t5\t3\t6\t4\t0\t6\t2\t4\t11\t1\t0\t11\t22\t3\t2\t0\t3\t2\t7\t2\t0\t1\t4\t9\t1\t0\t0\t0\t2\t0\t2\t0\t2\t1\t2\t1\t4\t1\t1\t3\t3\t1\t0\t1\t22\t2\t1\t8\t3\t0\t6\t0\t0\t15\t10\t0\t14\t4\t0\t6\t8\t2\t9\t1\t9\t1\t4\t0\t0\t0\t0\t10\t0\t1\t3\t2\t0\t0\t2\t8\t0\t3\t2\t2\t5\t2\t1\t23\t1\t2\t0\t1\t0\t0\t5\t2\t0\t1\t5\t1\t5\t0\t1\t2\t3\t0\t1\t0\t10\t6\t2\t0\t7\t1\t3\t1\t7\t8\t1\t6\t3\t1\t1\t0\t0\t2\t1\t1\t6\t5\n",
      "Gizmodo\t0\t1\t0\t0\t0\t1\t0\t2\t1\t0\t0\t5\t3\t0\t1\t1\t5\t2\t0\t1\t0\t0\t3\t1\t5\t0\t1\t0\t0\t1\t1\t2\t5\t0\t2\t0\t1\t1\t0\t0\t0\t0\t1\t0\t0\t0\t0\t3\t1\t1\t0\t0\t5\t0\t0\t2\t1\t0\t0\t0\t4\t0\t1\t0\t0\t2\t0\t0\t1\t0\t1\t3\t0\t0\t0\t0\t0\t0\t0\t0\t0\t2\t4\t2\t0\t0\t1\t2\t2\t0\t0\t2\t4\t0\t2\t1\t1\t0\t0\t4\t0\t1\t0\t2\t0\t0\t0\t2\t7\t1\t0\t0\t0\t3\t0\t1\t1\t1\t8\t0\t0\t0\t0\t0\t3\t5\t0\t1\t0\t3\t2\t1\t0\t1\t0\t0\t5\t0\t0\t1\t0\t0\t2\t0\t0\t2\t0\t1\t0\t2\t0\t3\t1\t3\t0\t2\t0\t0\t2\t1\t1\t0\t3\t0\t1\t0\t2\t2\t1\t1\t1\t0\t1\t4\t3\t0\t0\t0\t4\t1\t2\t2\t0\t0\t0\t0\t25\t1\t1\t1\t2\t0\t0\t0\t1\t0\t1\t0\t1\t1\t0\t2\t1\t2\t0\t2\t0\t0\t0\t0\t2\t2\t3\t0\t33\t0\t1\t3\t0\t0\t1\t1\t0\t0\t1\t5\t0\t1\t2\t2\t0\t0\t2\t0\t0\t1\t0\t0\t0\t0\t2\t0\t0\t0\t0\t0\t0\t2\t3\t0\t7\t0\t1\t0\t3\t2\t1\t1\t0\t0\t1\t1\t0\t0\t0\t3\t4\t0\t4\t4\t0\t0\t1\t0\t0\t3\t0\t1\t0\t0\t1\t0\t1\t0\t3\t0\t0\t0\t0\t0\t0\t3\t0\t1\t0\t0\t0\t2\t1\t0\t0\t1\t3\t1\t0\t0\t3\t0\t2\t3\t1\t0\t2\t0\t1\t0\t0\t1\t0\t4\t1\t0\t0\t1\t1\t1\t0\t2\t0\t0\t4\t0\t0\t0\t0\t0\t0\t2\t0\t1\t0\t0\t0\t0\t1\t11\t0\t0\t2\t1\t1\t5\t0\t7\t4\t7\t0\t0\t1\t1\t0\t1\t2\t5\t0\t3\t2\t2\t0\t0\t1\t0\t1\t0\t3\t1\t4\t0\t0\t0\t3\t0\t3\t1\t1\t0\t2\t0\t2\t0\t6\t0\t0\t1\t0\t1\t2\t0\t0\t1\t2\t0\t0\t1\t0\t0\t2\t0\t0\t3\t0\t0\t0\t12\t7\t2\t0\t4\t3\t1\t0\t1\t0\t0\t0\t1\t2\t0\t1\t0\t4\n",
      "Gothamist\t0\t1\t0\t2\t1\t0\t5\t4\t0\t4\t1\t4\t1\t0\t3\t2\t6\t1\t0\t5\t0\t0\t3\t0\t22\t3\t1\t0\t7\t0\t6\t1\t16\t0\t0\t1\t1\t2\t0\t0\t0\t3\t3\t2\t0\t0\t1\t0\t2\t1\t2\t0\t9\t0\t1\t1\t4\t1\t0\t0\t3\t2\t0\t1\t0\t0\t2\t0\t1\t2\t0\t2\t0\t4\t0\t3\t0\t1\t3\t4\t0\t4\t4\t2\t2\t0\t1\t9\t0\t0\t0\t1\t1\t0\t4\t3\t0\t2\t0\t4\t3\t0\t0\t3\t1\t3\t0\t1\t7\t12\t4\t0\t0\t5\t0\t4\t5\t3\t7\t0\t1\t2\t0\t1\t4\t1\t1\t0\t3\t7\t1\t8\t1\t6\t0\t1\t10\t2\t0\t1\t3\t0\t0\t2\t0\t4\t1\t3\t0\t2\t0\t1\t0\t2\t0\t0\t2\t0\t3\t0\t2\t0\t3\t0\t3\t0\t1\t2\t0\t0\t2\t0\t2\t0\t5\t2\t1\t2\t11\t0\t1\t0\t3\t0\t0\t2\t0\t0\t0\t4\t2\t1\t4\t0\t2\t4\t0\t1\t2\t1\t1\t2\t0\t0\t2\t4\t2\t1\t1\t3\t1\t1\t2\t0\t45\t1\t19\t10\t4\t0\t0\t0\t0\t0\t0\t1\t1\t1\t4\t2\t1\t4\t3\t3\t5\t1\t2\t0\t2\t0\t2\t2\t1\t0\t2\t1\t0\t4\t0\t4\t22\t0\t1\t1\t1\t7\t3\t0\t1\t0\t2\t0\t0\t3\t2\t6\t6\t0\t8\t3\t1\t0\t0\t1\t0\t9\t0\t3\t4\t2\t2\t5\t0\t0\t3\t2\t1\t5\t0\t0\t2\t7\t2\t0\t0\t0\t0\t1\t5\t0\t0\t1\t2\t3\t1\t2\t4\t0\t4\t7\t4\t0\t1\t6\t4\t0\t1\t4\t0\t11\t0\t1\t0\t0\t2\t2\t2\t1\t0\t1\t0\t1\t0\t0\t3\t4\t6\t2\t0\t0\t1\t1\t0\t9\t0\t15\t1\t1\t9\t1\t0\t7\t0\t0\t10\t9\t1\t1\t0\t0\t4\t1\t2\t11\t0\t3\t3\t0\t0\t1\t1\t1\t3\t3\t1\t4\t1\t0\t0\t0\t2\t1\t1\t2\t0\t1\t2\t2\t3\t1\t10\t0\t0\t0\t3\t0\t5\t1\t0\t2\t2\t2\t3\t0\t0\t1\t1\t1\t0\t8\t0\t0\t0\t9\t3\t2\t2\t8\t3\t7\t1\t2\t0\t0\t1\t0\t2\t0\t2\t0\t5\n",
      "Techdirt.\t2\t5\t9\t4\t0\t10\t1\t13\t10\t3\t3\t80\t6\t5\t13\t19\t67\t9\t5\t55\t14\t1\t15\t4\t51\t16\t10\t1\t10\t8\t2\t5\t117\t6\t0\t40\t13\t6\t9\t11\t2\t7\t37\t0\t10\t14\t3\t3\t48\t4\t4\t0\t43\t9\t10\t3\t4\t1\t1\t2\t52\t4\t23\t12\t3\t9\t10\t18\t6\t14\t31\t2\t3\t17\t4\t2\t4\t6\t30\t17\t6\t25\t37\t31\t4\t6\t24\t10\t1\t1\t3\t5\t31\t0\t8\t10\t30\t2\t0\t18\t0\t6\t7\t8\t25\t5\t3\t4\t65\t37\t3\t9\t2\t23\t11\t5\t25\t9\t84\t10\t2\t35\t10\t5\t39\t20\t11\t15\t28\t26\t7\t2\t3\t10\t7\t10\t18\t21\t14\t9\t14\t8\t26\t4\t4\t0\t10\t5\t3\t31\t0\t3\t13\t14\t5\t8\t4\t2\t23\t2\t10\t3\t8\t9\t9\t8\t13\t3\t3\t7\t14\t5\t26\t6\t16\t0\t1\t8\t115\t1\t6\t5\t16\t8\t6\t7\t5\t1\t2\t4\t8\t1\t2\t3\t5\t27\t6\t4\t6\t2\t13\t7\t33\t25\t1\t22\t11\t3\t8\t7\t22\t20\t74\t9\t49\t5\t51\t59\t5\t1\t3\t3\t6\t1\t23\t20\t6\t2\t6\t9\t3\t40\t10\t0\t10\t10\t3\t3\t3\t10\t7\t4\t8\t6\t11\t12\t2\t4\t18\t0\t36\t0\t8\t3\t8\t16\t13\t6\t6\t3\t3\t4\t8\t3\t7\t29\t56\t2\t36\t47\t16\t7\t6\t7\t16\t79\t5\t0\t1\t1\t0\t21\t4\t18\t11\t15\t1\t10\t6\t8\t4\t57\t2\t9\t2\t7\t0\t8\t44\t1\t4\t20\t18\t28\t0\t4\t14\t3\t38\t34\t5\t30\t44\t32\t5\t4\t5\t5\t8\t41\t8\t3\t13\t10\t12\t7\t10\t4\t1\t8\t2\t5\t7\t3\t5\t4\t4\t10\t2\t8\t8\t5\t8\t23\t15\t89\t4\t1\t39\t5\t4\t18\t4\t5\t32\t8\t5\t9\t3\t12\t6\t8\t26\t40\t3\t4\t7\t6\t3\t0\t4\t15\t41\t0\t0\t25\t21\t3\t7\t10\t46\t4\t1\t2\t5\t13\t4\t7\t20\t3\t20\t6\t2\t8\t5\t4\t18\t1\t4\t5\t8\t2\t12\t11\t2\t8\t4\t8\t10\t87\t4\t4\t6\t46\t9\t6\t8\t31\t36\t4\t2\t4\t6\t0\t10\t4\t9\t4\t18\t10\t21\n",
      "Boing Boing\t0\t2\t0\t0\t2\t3\t0\t6\t1\t1\t1\t5\t1\t0\t1\t2\t12\t1\t0\t17\t7\t0\t4\t0\t9\t0\t5\t0\t3\t1\t1\t5\t6\t13\t0\t1\t4\t0\t0\t3\t0\t1\t4\t4\t0\t0\t0\t7\t4\t0\t1\t0\t8\t1\t2\t1\t1\t0\t0\t0\t2\t3\t6\t3\t1\t1\t3\t0\t0\t0\t0\t1\t1\t1\t2\t1\t0\t0\t1\t2\t1\t1\t7\t7\t1\t0\t1\t0\t0\t1\t1\t0\t1\t4\t5\t2\t1\t0\t0\t3\t6\t1\t0\t2\t4\t0\t0\t5\t5\t7\t0\t3\t2\t0\t0\t1\t7\t1\t13\t0\t1\t3\t1\t0\t4\t6\t1\t0\t5\t6\t0\t0\t1\t1\t1\t2\t1\t6\t3\t1\t1\t2\t2\t0\t0\t0\t0\t0\t0\t1\t2\t2\t0\t0\t0\t0\t0\t1\t7\t1\t1\t3\t4\t0\t1\t4\t5\t1\t0\t2\t0\t1\t2\t7\t4\t0\t0\t4\t12\t0\t1\t3\t5\t0\t1\t2\t0\t0\t0\t0\t1\t2\t0\t1\t0\t3\t0\t0\t0\t2\t0\t3\t2\t4\t1\t1\t0\t1\t0\t1\t7\t2\t11\t2\t17\t2\t6\t8\t2\t2\t0\t0\t2\t0\t2\t2\t2\t2\t1\t1\t0\t0\t1\t0\t2\t3\t0\t3\t7\t0\t2\t3\t4\t0\t2\t1\t2\t3\t3\t0\t3\t1\t1\t3\t3\t1\t3\t0\t0\t1\t0\t1\t1\t24\t2\t14\t3\t1\t1\t5\t1\t0\t0\t1\t0\t6\t1\t3\t0\t0\t1\t2\t0\t2\t1\t1\t0\t0\t1\t2\t0\t5\t0\t3\t0\t1\t2\t2\t2\t6\t1\t2\t1\t6\t0\t0\t0\t1\t3\t5\t0\t1\t4\t3\t1\t0\t0\t2\t1\t2\t1\t2\t2\t2\t2\t0\t2\t2\t0\t2\t2\t1\t0\t1\t2\t1\t0\t2\t0\t3\t3\t1\t0\t2\t1\t6\t0\t1\t3\t2\t2\t3\t0\t0\t5\t11\t1\t6\t0\t0\t2\t0\t4\t18\t1\t3\t0\t3\t0\t0\t0\t1\t19\t1\t0\t2\t3\t0\t2\t0\t3\t0\t0\t1\t1\t0\t1\t0\t0\t0\t4\t7\t0\t0\t10\t0\t4\t1\t1\t1\t2\t1\t2\t1\t1\t1\t0\t0\t0\t9\t0\t2\t2\t12\t1\t2\t1\t4\t2\t0\t3\t0\t0\t0\t1\t2\t3\t1\t1\t2\t5\n",
      "Oilman\t0\t0\t2\t0\t0\t1\t0\t1\t0\t0\t0\t2\t1\t0\t0\t1\t2\t0\t0\t24\t0\t2\t2\t0\t1\t0\t1\t0\t1\t0\t0\t1\t2\t0\t0\t1\t1\t0\t0\t0\t1\t1\t4\t0\t0\t1\t0\t0\t2\t0\t0\t0\t1\t0\t0\t0\t0\t0\t0\t1\t1\t0\t1\t0\t0\t0\t0\t0\t0\t0\t0\t0\t0\t2\t0\t0\t0\t0\t0\t0\t0\t3\t0\t1\t1\t0\t1\t1\t0\t0\t0\t0\t1\t0\t0\t0\t0\t0\t1\t1\t0\t0\t0\t0\t0\t0\t0\t0\t1\t0\t0\t0\t0\t1\t0\t1\t1\t0\t2\t0\t0\t0\t0\t0\t1\t1\t0\t0\t0\t2\t0\t0\t1\t0\t0\t1\t0\t0\t1\t2\t5\t0\t0\t0\t0\t0\t1\t0\t0\t0\t0\t0\t0\t0\t1\t0\t0\t0\t2\t0\t0\t0\t0\t0\t1\t0\t0\t0\t0\t0\t0\t0\t0\t6\t1\t0\t0\t0\t5\t0\t0\t0\t1\t0\t0\t0\t0\t0\t0\t0\t0\t0\t0\t0\t0\t2\t0\t0\t2\t0\t0\t0\t0\t0\t0\t2\t0\t1\t4\t0\t1\t0\t3\t0\t2\t0\t0\t1\t1\t0\t0\t0\t2\t0\t0\t1\t0\t0\t0\t1\t2\t0\t1\t0\t1\t2\t0\t0\t0\t0\t5\t1\t0\t0\t2\t0\t0\t2\t0\t0\t3\t0\t1\t0\t0\t0\t0\t1\t0\t0\t0\t1\t0\t0\t0\t3\t5\t0\t3\t2\t1\t1\t0\t1\t0\t2\t0\t0\t0\t0\t0\t0\t0\t0\t2\t0\t0\t4\t1\t0\t0\t1\t0\t0\t1\t0\t0\t0\t0\t0\t0\t2\t2\t4\t0\t0\t0\t0\t1\t1\t0\t1\t0\t1\t0\t0\t0\t0\t1\t0\t1\t0\t0\t3\t0\t0\t0\t0\t0\t1\t0\t1\t1\t0\t0\t1\t0\t0\t0\t0\t2\t1\t1\t0\t0\t1\t0\t2\t4\t1\t0\t1\t0\t0\t2\t0\t0\t1\t0\t0\t0\t0\t0\t0\t0\t0\t0\t1\t1\t1\t0\t1\t0\t0\t0\t0\t1\t2\t1\t0\t0\t0\t0\t0\t0\t2\t1\t0\t3\t0\t0\t0\t0\t2\t0\t1\t0\t1\t0\t0\t0\t0\t1\t0\t0\t0\t0\t0\t0\t4\t0\t0\t1\t0\t1\t0\t0\t3\t3\t0\t0\t0\t0\t0\t1\t0\t2\t1\t0\t0\t1\n",
      "\n"
     ]
    }
   ],
   "source": [
    "with open('blogdata.txt','r') as f:\n",
    "    print(f.read())"
   ]
  },
  {
   "cell_type": "markdown",
   "metadata": {},
   "source": [
    "## 分级聚类\n",
    "不断的将最为相似的两个群组两两合并，构造出一个群组的层级结构\n",
    "\n",
    "每个群组都是从单一元素开始的。在每次迭代的过程中，分级聚类算法会计算每两个群组间的距离，并将距离最近的两个群组合并成一个群组。\n",
    "\n",
    "下面写一个函数，将数据集中的头一行读入一个代表了列名的列表，将最左边的一列读入了一个代表行名的列表，最后它把剩下所有的数据都放入了一个大列表。"
   ]
  },
  {
   "cell_type": "code",
   "execution_count": 11,
   "metadata": {
    "collapsed": true
   },
   "outputs": [],
   "source": [
    "def readfile(filename):\n",
    "    with open(filename,'r') as f:\n",
    "        lines=[line for line in f.readlines()]\n",
    "    \n",
    "    # 第一行是列标题\n",
    "    colnames=lines[0].strip().split('\\t')[1:]\n",
    "    rownames=[]\n",
    "    data=[]\n",
    "    for line in lines[1:]:\n",
    "        p=line.strip().split('\\t')\n",
    "        # 每行的第一列是行名\n",
    "        rownames.append(p[0])\n",
    "        # 剩余部分就是该行对应的数据\n",
    "        data.append([float(x) for x in p[1:]])\n",
    "    return rownames,colnames,data"
   ]
  },
  {
   "cell_type": "markdown",
   "metadata": {},
   "source": [
    "下面我们定义紧密度。使用**皮尔逊相关度**来判断两组数据与某条直线的拟合程度。\n"
   ]
  },
  {
   "cell_type": "code",
   "execution_count": 75,
   "metadata": {
    "collapsed": false
   },
   "outputs": [],
   "source": [
    "from math import sqrt\n",
    "def pearson(v1,v2):\n",
    "    sum1=sum(v1)\n",
    "    sum2=sum(v2)\n",
    "    \n",
    "    #求平方和\n",
    "    sum1Sq=sum([pow(v,2) for v in v1])\n",
    "    sum2Sq=sum([pow(v,2) for v in v2])\n",
    "    \n",
    "    # 求乘积之和\n",
    "    n=min(len(v1),len(v2))  # index的错误\n",
    "    pSum=sum([v1[i]*v2[i] for i in range(n)])\n",
    "  \n",
    "    # 计算r\n",
    "    num=pSum-(sum1*sum2/len(v1))\n",
    "    den=sqrt((sum1Sq-pow(sum1,2)/len(v1))*(sum2Sq-pow(sum2,2)/len(v1)))\n",
    "    if den==0: \n",
    "        return 0\n",
    "\n",
    "    return 1.0-num/den "
   ]
  },
  {
   "cell_type": "markdown",
   "metadata": {},
   "source": [
    "皮尔逊相关度在两者完全匹配的情况下为1.0，毫无关系的情况下为0\n",
    "\n",
    "而我们用1减去最后的结果，目的是让相似度越大的两个元素之间的距离变得越小"
   ]
  },
  {
   "cell_type": "markdown",
   "metadata": {},
   "source": [
    "新建一个bicluster类，保存节点的位置信息。"
   ]
  },
  {
   "cell_type": "code",
   "execution_count": 76,
   "metadata": {
    "collapsed": false
   },
   "outputs": [],
   "source": [
    "class bicluster:\n",
    "    def __init__(self,vec,left=None,right=None,distance=0.0,id=None):\n",
    "        self.left=left\n",
    "        self.right=right\n",
    "        self.vec=vec\n",
    "        self.id=id\n",
    "        self.distance=distance"
   ]
  },
  {
   "cell_type": "markdown",
   "metadata": {},
   "source": [
    "分级聚类算法以一组对应于原始数据项的聚类开始。函数的主循环部分会尝试每一组可能的配对并计算它们的相关度，以此找出最佳配对。\n",
    "\n",
    "最佳配对的两个聚类会被合并成新的聚类。新的聚类中包含的数据，等于两个旧聚类的数据求均值后得到的结果。\n",
    "\n",
    "这一过程持续下去，直到只剩下一个聚类为止。\n",
    "\n",
    "这个过程十分耗时，可以将每个配对的相关度计算保存起来。\n"
   ]
  },
  {
   "cell_type": "code",
   "execution_count": 81,
   "metadata": {
    "collapsed": true
   },
   "outputs": [],
   "source": [
    "def hcluster(rows,distance=pearson):\n",
    "    distances={}\n",
    "    currentclustid=-1\n",
    "    \n",
    "    # 最开始的聚类就是数据集中的行\n",
    "    clust=[bicluster(rows[i],id=i) for i in range(len(rows))]\n",
    "    \n",
    "    while len(clust)>1:\n",
    "        lowestpair=(0,1)\n",
    "        closest=distance(clust[0].vec,clust[1].vec)\n",
    "        \n",
    "        # 遍历每一个配对，寻找最小距离\n",
    "        for i in range(len(clust)):\n",
    "            for j in range(i+1,len(clust)):\n",
    "                # 用distances来缓存距离的计算值，注意，distance是计算距离的函数\n",
    "                if(clust[i].id,clust[j].id) not in distances:\n",
    "                    distances[(clust[i].id,clust[j].id)]=distance(clust[i].vec,clust[j].vec)\n",
    "                    #distances[(clust[i].id,clust[j].id)]=distance(clust[i],clust[j])\n",
    "                    \n",
    "                d=distances[(clust[i].id,clust[j].id)]\n",
    "                \n",
    "                if d<closest:\n",
    "                    closest=d\n",
    "                    lowerstpair=(i,j)\n",
    "        # 计算两个聚类的平均值\n",
    "        length_min=min(len(clust[lowerstpair[0]].vec),len(clust[lowestpair[1]].vec))\n",
    "        # mergevec=[(clust[lowerstpair[0]].vec[i]+clust[lowestpair[1]].vec[i])/2.0 for i in range(len(clust[0].vec))]\n",
    "        mergevec=[(clust[lowerstpair[0]].vec[i]+clust[lowestpair[1]].vec[i])/2.0 for i in range(length_min)]\n",
    "        \n",
    "        # 建立新的聚类\n",
    "        newcluster=bicluster(mergevec,left=clust[lowestpair[0]],right=clust[lowestpair[1]],distance=closest,id=currentclustid)\n",
    "        \n",
    "        # 不在原始集合中的聚类，其id为负数\n",
    "        currentclustid-=1\n",
    "        del clust[lowestpair[1]]\n",
    "        del clust[lowestpair[0]]\n",
    "        clust.append(newcluster)\n",
    "        \n",
    "    return clust[0]"
   ]
  },
  {
   "cell_type": "markdown",
   "metadata": {},
   "source": [
    "然后，我们把文件加载进来"
   ]
  },
  {
   "cell_type": "code",
   "execution_count": 82,
   "metadata": {
    "collapsed": false
   },
   "outputs": [],
   "source": [
    "blognames,words,data=readfile('blogdata.txt')\n",
    "clust=hcluster(data)"
   ]
  },
  {
   "cell_type": "markdown",
   "metadata": {},
   "source": [
    "递归遍历聚类树，并将其以类似文件系统层级结构的形式打印出来。"
   ]
  },
  {
   "cell_type": "code",
   "execution_count": 102,
   "metadata": {
    "collapsed": true
   },
   "outputs": [],
   "source": [
    "def printclust(clust,labels=None,n=0):\n",
    "    # 利用缩进来建立层级布局\n",
    "    for i in range(n):\n",
    "        print(' ',end=\"\")\n",
    "    if clust.id<0:\n",
    "        # 负数代表这是一个分支\n",
    "        print('-')\n",
    "    else:\n",
    "        # 正数标记代表这是一个叶节点\n",
    "        if labels==None:\n",
    "            print(clust.id)\n",
    "        else:\n",
    "            print(labels[clust.id])\n",
    "    \n",
    "    # 现在开始打印右侧分支和左侧分支\n",
    "    if clust.left!=None:\n",
    "        printclust(clust.left,labels=labels,n=n+1)\n",
    "    if clust.right!=None:\n",
    "        printclust(clust.right,labels=labels,n=n+1)"
   ]
  },
  {
   "cell_type": "code",
   "execution_count": 103,
   "metadata": {
    "collapsed": false
   },
   "outputs": [
    {
     "name": "stdout",
     "output_type": "stream",
     "text": [
      "-\n",
      " -\n",
      "  -\n",
      "   -\n",
      "    -\n",
      "     Latest from Crooks and Liars\n",
      "     Lifehack\n",
      "    -\n",
      "     Mashable\n",
      "     Gizmodo\n",
      "   -\n",
      "    -\n",
      "     Gothamist\n",
      "     Techdirt.\n",
      "    -\n",
      "     Boing Boing\n",
      "     Oilman\n",
      "  -\n",
      "   -\n",
      "    -\n",
      "     -\n",
      "      4\n",
      "      PaulStamatiou.com - Technology, Design and Photography\n",
      "     -\n",
      "      Slashdot\n",
      "      O'Reilly Radar\n",
      "    -\n",
      "     -\n",
      "      blog maverick\n",
      "      ThinkProgress - Medium\n",
      "     -\n",
      "      Deadspin\n",
      "      ShoeMoney\n",
      "   -\n",
      "    -\n",
      "     -\n",
      "      The Dish\n",
      "      456 Berea Street\n",
      "     -\n",
      "      TechCrunch\n",
      "      plasticbag.org\n",
      "    -\n",
      "     -\n",
      "      Schneier on Security\n",
      "      Engadget RSS Feed\n",
      "     -\n",
      "      MetaFilter\n",
      "      SpikedHumor - Today's Videos and Pictures\n",
      " -\n",
      "  -\n",
      "   -\n",
      "    -\n",
      "     -\n",
      "      Celebslam\n",
      "      Search Engine Roundtable\n",
      "     -\n",
      "      Neil Gaiman's Journal\n",
      "      43 Folders\n",
      "    -\n",
      "     -\n",
      "      Kotaku\n",
      "      Joho the Blog\n",
      "     -\n",
      "      TMZ.com\n",
      "      Joi Ito's Web\n",
      "   -\n",
      "    -\n",
      "     -\n",
      "      Lifehacker\n",
      "      PerezHilton\n",
      "     -\n",
      "      WIL WHEATON dot NET\n",
      "      Google Operating System\n",
      "    -\n",
      "     -\n",
      "      The Full Feed from HuffingtonPost.com\n",
      "      ongoing by Tim Bray\n",
      "     -\n",
      "      Signal v. Noise - Medium\n",
      "      ProBlogger\n",
      "  -\n",
      "   -\n",
      "    -\n",
      "     -\n",
      "      Daily Kos\n",
      "      Derek Powazek\n",
      "     -\n",
      "      Joel on Software\n",
      "      BuzzMachine\n",
      "    -\n",
      "     -\n",
      "      Wired\n",
      "      Eschaton\n",
      "     -\n",
      "      Captain's Quarters\n",
      "      Matt Cutts: Gadgets, Google, and SEO\n",
      "   -\n",
      "    -\n",
      "     -\n",
      "      Seth Godin's Blog on marketing, tribes and respect\n",
      "      mezzoblue\n",
      "     -\n",
      "      Quick Online Tips\n",
      "      kottke.org\n",
      "    -\n",
      "     -\n",
      "      Google Blogoscoped\n",
      "      The Write News\n",
      "     -\n",
      "      Steve Pavlina\n",
      "      Autoblog\n"
     ]
    }
   ],
   "source": [
    "printclust(clust,labels=blognames)"
   ]
  },
  {
   "cell_type": "markdown",
   "metadata": {},
   "source": [
    "## 绘制树状图\n",
    "借助树状图，我们可以更加清晰的理解聚类\n",
    "\n",
    "首先，需要利用一个函数来返回给定聚类的总体高度"
   ]
  },
  {
   "cell_type": "code",
   "execution_count": 104,
   "metadata": {
    "collapsed": true
   },
   "outputs": [],
   "source": [
    "def getheight(clust):\n",
    "    # 这是一个叶节点吗?若是，则高度为1\n",
    "    if clust.left==None and clust.right==None:\n",
    "        return 1\n",
    "    # 否则，高度为每个分支的高度之和\n",
    "    return getheight(clust.left)+getheight(clust.right)"
   ]
  },
  {
   "cell_type": "code",
   "execution_count": 106,
   "metadata": {
    "collapsed": false
   },
   "outputs": [],
   "source": [
    "def getdepth(clust):\n",
    "    # 一个叶节点的距离是0.0\n",
    "    if clust.left==None and clust.right==None:\n",
    "        return 0\n",
    "    # 一个枝节点的距离等于左右两侧分支中距离比较大者，加上该枝节点自身的距离\n",
    "    return max(getdepth(clust.left),getdepth(clust.right)+clust.distance)"
   ]
  },
  {
   "cell_type": "markdown",
   "metadata": {},
   "source": [
    "函数drawdendgrogram为每一个最终生成的聚类创建一个高度为20像素，像素固定的图片\n",
    "\n",
    "在根节点出调用drawnode函数，并令其处于整副图片正中间的位置"
   ]
  },
  {
   "cell_type": "code",
   "execution_count": 111,
   "metadata": {
    "collapsed": true
   },
   "outputs": [],
   "source": [
    "from PIL import Image,ImageDraw\n",
    "def drawdendrogram(clust,labels,jpeg='clusters.jpg'):\n",
    "    # 高度和宽度\n",
    "    h=getheight(clust)*20\n",
    "    w=1200\n",
    "    depth=getdepth(clust)\n",
    "\n",
    "    # 由于宽度是固定的，因此我们需要对距离值做出相应的调整\n",
    "    scaling=float(w-150)/depth\n",
    "\n",
    "    # 新建一个白色背景的图片\n",
    "    img=Image.new('RGB',(w,h),(255,255,255))\n",
    "    draw=ImageDraw.Draw(img)\n",
    "\n",
    "    draw.line((0,h/2,10,h/2),fill=(255,0,0))    \n",
    "\n",
    "    # 画第一个节点\n",
    "    drawnode(draw,clust,10,(h/2),scaling,labels)\n",
    "    img.save(jpeg,'JPEG')"
   ]
  },
  {
   "cell_type": "markdown",
   "metadata": {},
   "source": [
    "drawnode的功能是接收一个聚类机器位置作为输入参数。函数取到子节点的高度，并计算出这些节点所在的位置，然后用线条将它们连接起来。"
   ]
  },
  {
   "cell_type": "code",
   "execution_count": 112,
   "metadata": {
    "collapsed": true
   },
   "outputs": [],
   "source": [
    "def drawnode(draw,clust,x,y,scaling,labels):\n",
    "    if clust.id<0:\n",
    "        h1=getheight(clust.left)*20\n",
    "        h2=getheight(clust.right)*20\n",
    "        top=y-(h1+h2)/2\n",
    "        bottom=y+(h1+h2)/2\n",
    "        # 线的长度\n",
    "        ll=clust.distance*scaling\n",
    "   \n",
    "        draw.line((x,top+h1/2,x,bottom-h2/2),fill=(255,0,0))    \n",
    "    \n",
    "        draw.line((x,top+h1/2,x+ll,top+h1/2),fill=(255,0,0))    \n",
    "    \n",
    "        draw.line((x,bottom-h2/2,x+ll,bottom-h2/2),fill=(255,0,0))        \n",
    "\n",
    "        drawnode(draw,clust.left,x+ll,top+h1/2,scaling,labels)\n",
    "        drawnode(draw,clust.right,x+ll,bottom-h2/2,scaling,labels)\n",
    "    else:   \n",
    "        draw.text((x+5,y-7),labels[clust.id],(0,0,0))"
   ]
  },
  {
   "cell_type": "code",
   "execution_count": 113,
   "metadata": {
    "collapsed": false
   },
   "outputs": [],
   "source": [
    "drawdendrogram(clust,blognames,jpeg='blogclust.jpg')"
   ]
  },
  {
   "cell_type": "markdown",
   "metadata": {},
   "source": [
    "## 列聚类\n",
    "在博客数据集中，列代表的是单词，知道哪些单词时常会结合在一起使用，是非常有意义的。\n",
    "\n",
    "将整个数据集转置，使列变成行，其中的每一行都对应一组数字，这组数字指明了某个单词再每篇博客中出现的次数。"
   ]
  },
  {
   "cell_type": "code",
   "execution_count": 114,
   "metadata": {
    "collapsed": true
   },
   "outputs": [],
   "source": [
    "def rotatematrix(data):\n",
    "    newdata=[]\n",
    "    for i in range(len(data[0])):\n",
    "        newrow=[data[j][i] for j in range(len(data))]\n",
    "        newdata.append(newrow)\n",
    "    return newdata"
   ]
  },
  {
   "cell_type": "code",
   "execution_count": 116,
   "metadata": {
    "collapsed": false
   },
   "outputs": [],
   "source": [
    "rdata=rotatematrix(data)\n",
    "wordclust=hcluster(rdata)\n",
    "drawdendrogram(wordclust,labels=words,jpeg='wordclust.jpg')"
   ]
  },
  {
   "cell_type": "markdown",
   "metadata": {},
   "source": []
  }
 ],
 "metadata": {
  "anaconda-cloud": {},
  "kernelspec": {
   "display_name": "Python [conda root]",
   "language": "python",
   "name": "conda-root-py"
  },
  "language_info": {
   "codemirror_mode": {
    "name": "ipython",
    "version": 3
   },
   "file_extension": ".py",
   "mimetype": "text/x-python",
   "name": "python",
   "nbconvert_exporter": "python",
   "pygments_lexer": "ipython3",
   "version": "3.5.2"
  }
 },
 "nbformat": 4,
 "nbformat_minor": 1
}
